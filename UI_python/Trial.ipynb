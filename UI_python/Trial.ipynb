{
 "cells": [
  {
   "cell_type": "code",
   "execution_count": 2,
   "metadata": {},
   "outputs": [],
   "source": [
    "#from _typeshed import NoneType\n",
    "import logging\n",
    "import sys\n",
    "import os\n",
    "from tkinter.messagebox import NO\n",
    "from tokenize import Single\n",
    "from types import FrameType\n",
    "from typing import Final\n",
    "from numpy.core.defchararray import lower\n",
    "from numpy.core.numeric import NaN\n",
    "# import qwt\n",
    "from My_classes import *\n",
    "from PyQt5 import QtCore, QtGui, QtWidgets\n",
    "from PyQt5.QtCore import QThread, QTimer, pyqtSignal, QMutex, QMutexLocker\n",
    "from PyQt5.QtGui import QImage, QPixmap\n",
    "from QPlainTextEditLogger import QPlainTextEditLogger\n",
    "from mainWindow import Ui_MainWindow\n",
    "import queue\n",
    "import copy\n",
    "from scipy.io import savemat\n",
    "from AHATNDITracker import *\n",
    "from ThreadFactory import *\n",
    "import pyigtl\n",
    "from scipy.io import savemat,loadmat\n",
    "from scipy import optimize\n",
    "import json\n",
    "from sksurgerynditracker.nditracker import NDITracker"
   ]
  },
  {
   "cell_type": "code",
   "execution_count": 13,
   "metadata": {},
   "outputs": [],
   "source": [
    "igtlClient=pyigtl.OpenIGTLinkClient(\"127.0.0.1\", 18944)"
   ]
  },
  {
   "cell_type": "code",
   "execution_count": 11,
   "metadata": {},
   "outputs": [
    {
     "data": {
      "text/plain": [
       "array([[1, 0, 0, 0],\n",
       "       [0, 1, 0, 0],\n",
       "       [0, 0, 1, 0],\n",
       "       [0, 0, 0, 1]])"
      ]
     },
     "execution_count": 11,
     "metadata": {},
     "output_type": "execute_result"
    }
   ],
   "source": [
    "_tran=np.diag([1,1,1,1])\n",
    "_tran"
   ]
  },
  {
   "cell_type": "code",
   "execution_count": 29,
   "metadata": {},
   "outputs": [
    {
     "data": {
      "text/plain": [
       "True"
      ]
     },
     "execution_count": 29,
     "metadata": {},
     "output_type": "execute_result"
    }
   ],
   "source": [
    "\n",
    "_tran=np.diag([1,1,1,1])\n",
    "_tran[1,3]=30\n",
    "mess=pyigtl.TransformMessage(_tran,device_name=\"Tool_1\")\n",
    "igtlClient.send_message(mess)"
   ]
  },
  {
   "cell_type": "code",
   "execution_count": 47,
   "metadata": {},
   "outputs": [
    {
     "name": "stdout",
     "output_type": "stream",
     "text": [
      "Effective Frame Num : 293\n",
      "[[-3.67684773e+01 -6.20147240e+01  5.43377121e+02]\n",
      " [ 1.43693985e-01 -2.75785411e+01  5.20371205e+02]\n",
      " [-8.41007179e+01 -2.44683831e+01  5.46004876e+02]\n",
      " [ 4.48670047e+01 -1.54733376e+01  5.03816456e+02]]\n"
     ]
    }
   ],
   "source": [
    "def ToolDefLossFunction(targetpose,args):\n",
    "            AllData=args\n",
    "            Loss=np.mean(np.sqrt(np.sum((AllData-targetpose)**2,1)))\n",
    "            return Loss\n",
    "\n",
    "_upperlim=256*15\n",
    "_downlim=256*1.5\n",
    "_minSize=10\n",
    "_maxSize=300\n",
    "_distanceTolerance=12\n",
    "_preretval=0\n",
    "_prelabel=[]\n",
    "_prestats=[]\n",
    "_precentroids=[]\n",
    "_prelabelcorr=[]\n",
    "_intrin=loadmat('AHAT_Para_Python.mat')\n",
    "mtx=_intrin['Mtx']\n",
    "distcoef=_intrin['dist']\n",
    "\n",
    "AllAHATData=np.load(\"Cache/OfflineVIdeoName.npy\",allow_pickle=True)\n",
    "Data_Length=len(AllAHATData)\n",
    "xyzs=[]\n",
    "for num_fr in range(Data_Length):\n",
    "    Curr_fr=AllAHATData[num_fr]\n",
    "    _Frame=Curr_fr.MatReflectivity\n",
    "    _DepthFrame=Curr_fr.MatDepth\n",
    "    # _im=_Frame\n",
    "    _im=copy.deepcopy(_Frame)\n",
    "    _im[_im>=_upperlim]=_upperlim\n",
    "    _im[_im<=_downlim]=_downlim\n",
    "    _im=(_im-_downlim)*(256*256/_upperlim)/(_upperlim-_downlim)*255\n",
    "    _mask=np.array(_im/256,dtype='uint8')\n",
    "    _im[_mask==0]=0\n",
    "    _displayTag=np.zeros([512,512])\n",
    "    # retval,labels,stats,centroids=cv2.connectedComponentsWithStats(_mask,connectivity=8)\n",
    "    retval,labels,stats,centroids,label_corr=DetectBalls(_mask,_minSize,_maxSize,_distanceTolerance,_preretval,[],[],_precentroids,_prelabelcorr)\n",
    "    _preretval=retval\n",
    "    _precentroids=centroids\n",
    "    _prelabelcorr=label_corr\n",
    "    _temp_xy = cv2.undistortPoints(centroids,mtx,distcoef)\n",
    "    _xyd=[]\n",
    "    _xyz=[]\n",
    "    for j in range(centroids.shape[0]):\n",
    "        _u=centroids[j,0]\n",
    "        _v=centroids[j,1]\n",
    "        _d=_DepthFrame[int(_v),int(_u)]\n",
    "        _xyd.append([_temp_xy[j][0][0],_temp_xy[j][0][1],_d])\n",
    "        _ori_xyz=[_temp_xy[j][0][0],_temp_xy[j][0][1],1]\n",
    "        _l=np.sqrt(sum(np.array(_ori_xyz)**2))\n",
    "        _real_xyz=_ori_xyz/_l*_d\n",
    "        _lreal=np.sqrt(sum(np.array(_real_xyz)**2))\n",
    "        _xyz.append(list(_real_xyz/_lreal*(_lreal+5.75)))\n",
    "    xyzs.append(_xyz)\n",
    "DataDefCollected=np.array(xyzs)\n",
    "BaseFrame=DataDefCollected[0]\n",
    "NumPoints=BaseFrame.shape[0]\n",
    "assert NumPoints>=4 \n",
    "DetectionTolerance=5\n",
    "EffectivePoints=[]\n",
    "for i in range(DataDefCollected.shape[0]):\n",
    "    # \n",
    "    DataFrame=DataDefCollected[i]\n",
    "    FrameDataWithRightSequence=[]\n",
    "    for j in range(NumPoints):\n",
    "        Dist=np.sum((DataFrame-BaseFrame[j])**2,1)\n",
    "        if min(Dist)>=DetectionTolerance:\n",
    "            continue\n",
    "        FrameDataWithRightSequence.append(DataFrame[np.where(Dist==min(Dist))[0][0]])\n",
    "    if not len(FrameDataWithRightSequence)==NumPoints:\n",
    "        continue\n",
    "    # reshape n*3->3n\n",
    "    EffectivePoints.append(np.reshape(FrameDataWithRightSequence,[3*NumPoints]))\n",
    "ToolDefFrames=np.array(EffectivePoints)\n",
    "EffectiveFrameNum=ToolDefFrames.shape[0]\n",
    "print(\"Effective Frame Num : \"+str(EffectiveFrameNum))\n",
    "MeanToolDefintion=np.mean(ToolDefFrames,0)\n",
    "print(np.reshape(MeanToolDefintion,[4,3]))\n",
    "Res=optimize.minimize(ToolDefLossFunction,MeanToolDefintion,args=(ToolDefFrames,))\n",
    "FinalLoss=Res['fun']/np.sqrt(NumPoints)\n",
    "ToolShape=np.reshape(Res['x'],[NumPoints,3])\n",
    "ToolShape=ToolShape-np.mean(ToolShape,0)"
   ]
  },
  {
   "cell_type": "code",
   "execution_count": 49,
   "metadata": {},
   "outputs": [
    {
     "data": {
      "text/plain": [
       "0.5971314963332756"
      ]
     },
     "execution_count": 49,
     "metadata": {},
     "output_type": "execute_result"
    }
   ],
   "source": [
    "FinalLoss"
   ]
  },
  {
   "cell_type": "code",
   "execution_count": 44,
   "metadata": {},
   "outputs": [
    {
     "data": {
      "text/plain": [
       "(300, 4, 3)"
      ]
     },
     "execution_count": 44,
     "metadata": {},
     "output_type": "execute_result"
    }
   ],
   "source": []
  },
  {
   "cell_type": "code",
   "execution_count": 34,
   "metadata": {},
   "outputs": [
    {
     "data": {
      "text/plain": [
       "300"
      ]
     },
     "execution_count": 34,
     "metadata": {},
     "output_type": "execute_result"
    }
   ],
   "source": [
    "Data_Length"
   ]
  }
 ],
 "metadata": {
  "interpreter": {
   "hash": "916dbcbb3f70747c44a77c7bcd40155683ae19c65e1c03b4aa3499c5328201f1"
  },
  "kernelspec": {
   "display_name": "Python 3.8.10 64-bit",
   "language": "python",
   "name": "python3"
  },
  "language_info": {
   "codemirror_mode": {
    "name": "ipython",
    "version": 3
   },
   "file_extension": ".py",
   "mimetype": "text/x-python",
   "name": "python",
   "nbconvert_exporter": "python",
   "pygments_lexer": "ipython3",
   "version": "3.8.10"
  },
  "orig_nbformat": 4
 },
 "nbformat": 4,
 "nbformat_minor": 2
}
