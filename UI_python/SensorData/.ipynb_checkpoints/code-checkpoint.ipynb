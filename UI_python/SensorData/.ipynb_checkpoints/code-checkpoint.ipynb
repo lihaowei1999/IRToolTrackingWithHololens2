{
 "cells": [
  {
   "cell_type": "code",
   "execution_count": 1,
   "metadata": {},
   "outputs": [
    {
     "name": "stderr",
     "output_type": "stream",
     "text": [
      "WARNING:root:autolab_core not installed as catkin package, RigidTransform ros methods will be unavailable\n"
     ]
    }
   ],
   "source": [
    "from My_classes import *\n"
   ]
  },
  {
   "cell_type": "code",
   "execution_count": 1,
   "metadata": {},
   "outputs": [
    {
     "ename": "NameError",
     "evalue": "name 'UWP_socket' is not defined",
     "output_type": "error",
     "traceback": [
      "\u001b[0;31m---------------------------------------------------------------------------\u001b[0m",
      "\u001b[0;31mNameError\u001b[0m                                 Traceback (most recent call last)",
      "\u001b[0;32m<ipython-input-1-9499d53f2418>\u001b[0m in \u001b[0;36m<module>\u001b[0;34m\u001b[0m\n\u001b[0;32m----> 1\u001b[0;31m \u001b[0mUWP_socket_\u001b[0m\u001b[0;34m=\u001b[0m\u001b[0mUWP_socket\u001b[0m\u001b[0;34m(\u001b[0m\u001b[0;34m\"192.168.1.29\"\u001b[0m\u001b[0;34m,\u001b[0m\u001b[0;36m3001\u001b[0m\u001b[0;34m)\u001b[0m\u001b[0;34m\u001b[0m\u001b[0;34m\u001b[0m\u001b[0m\n\u001b[0m",
      "\u001b[0;31mNameError\u001b[0m: name 'UWP_socket' is not defined"
     ]
    }
   ],
   "source": [
    "UWP_socket_=UWP_socket(\"192.168.1.29\",3001)"
   ]
  },
  {
   "cell_type": "code",
   "execution_count": 3,
   "metadata": {},
   "outputs": [],
   "source": [
    "UWP_socket_.connect()"
   ]
  },
  {
   "cell_type": "code",
   "execution_count": 8,
   "metadata": {},
   "outputs": [
    {
     "ename": "OSError",
     "evalue": "[Errno 98] Address already in use",
     "output_type": "error",
     "traceback": [
      "\u001b[0;31m---------------------------------------------------------------------------\u001b[0m",
      "\u001b[0;31mOSError\u001b[0m                                   Traceback (most recent call last)",
      "\u001b[0;32m<ipython-input-8-f01298578a67>\u001b[0m in \u001b[0;36m<module>\u001b[0;34m\u001b[0m\n\u001b[1;32m      4\u001b[0m \u001b[0mSensor_4\u001b[0m\u001b[0;34m=\u001b[0m\u001b[0mSensor_Network\u001b[0m\u001b[0;34m(\u001b[0m\u001b[0;34m\"192.168.1.29\"\u001b[0m\u001b[0;34m,\u001b[0m\u001b[0;36m3004\u001b[0m\u001b[0;34m,\u001b[0m\u001b[0mSensorType\u001b[0m\u001b[0;34m.\u001b[0m\u001b[0mLEFT_LEFT\u001b[0m\u001b[0;34m)\u001b[0m\u001b[0;34m\u001b[0m\u001b[0;34m\u001b[0m\u001b[0m\n\u001b[1;32m      5\u001b[0m \u001b[0mSensor_5\u001b[0m\u001b[0;34m=\u001b[0m\u001b[0mSensor_Network\u001b[0m\u001b[0;34m(\u001b[0m\u001b[0;34m\"192.168.1.29\"\u001b[0m\u001b[0;34m,\u001b[0m\u001b[0;36m3005\u001b[0m\u001b[0;34m,\u001b[0m\u001b[0mSensorType\u001b[0m\u001b[0;34m.\u001b[0m\u001b[0mRIGHT_RIGHT\u001b[0m\u001b[0;34m)\u001b[0m\u001b[0;34m\u001b[0m\u001b[0;34m\u001b[0m\u001b[0m\n\u001b[0;32m----> 6\u001b[0;31m \u001b[0mSensor_1\u001b[0m\u001b[0;34m.\u001b[0m\u001b[0mconnect\u001b[0m\u001b[0;34m(\u001b[0m\u001b[0;34m)\u001b[0m\u001b[0;34m\u001b[0m\u001b[0;34m\u001b[0m\u001b[0m\n\u001b[0m\u001b[1;32m      7\u001b[0m \u001b[0mSensor_1\u001b[0m\u001b[0;34m.\u001b[0m\u001b[0mconnect\u001b[0m\u001b[0;34m(\u001b[0m\u001b[0;34m)\u001b[0m\u001b[0;34m\u001b[0m\u001b[0;34m\u001b[0m\u001b[0m\n\u001b[1;32m      8\u001b[0m \u001b[0mSensor_1\u001b[0m\u001b[0;34m.\u001b[0m\u001b[0mconnect\u001b[0m\u001b[0;34m(\u001b[0m\u001b[0;34m)\u001b[0m\u001b[0;34m\u001b[0m\u001b[0;34m\u001b[0m\u001b[0m\n",
      "\u001b[0;32m~/Documents/GitHub/Hololens_Qt/trial_1/My_classes.py\u001b[0m in \u001b[0;36mconnect\u001b[0;34m(self)\u001b[0m\n\u001b[1;32m    154\u001b[0m \u001b[0;34m\u001b[0m\u001b[0m\n\u001b[1;32m    155\u001b[0m     \u001b[0;32mdef\u001b[0m \u001b[0mconnect\u001b[0m\u001b[0;34m(\u001b[0m\u001b[0mself\u001b[0m\u001b[0;34m)\u001b[0m\u001b[0;34m:\u001b[0m\u001b[0;34m\u001b[0m\u001b[0;34m\u001b[0m\u001b[0m\n\u001b[0;32m--> 156\u001b[0;31m         \u001b[0mself\u001b[0m\u001b[0;34m.\u001b[0m\u001b[0m_SOCKET\u001b[0m\u001b[0;34m.\u001b[0m\u001b[0mbind\u001b[0m\u001b[0;34m(\u001b[0m\u001b[0mself\u001b[0m\u001b[0;34m.\u001b[0m\u001b[0m_ADDR\u001b[0m\u001b[0;34m)\u001b[0m\u001b[0;34m\u001b[0m\u001b[0;34m\u001b[0m\u001b[0m\n\u001b[0m\u001b[1;32m    157\u001b[0m         \u001b[0mself\u001b[0m\u001b[0;34m.\u001b[0m\u001b[0m_SOCKET\u001b[0m\u001b[0;34m.\u001b[0m\u001b[0mlisten\u001b[0m\u001b[0;34m(\u001b[0m\u001b[0;36m1\u001b[0m\u001b[0;34m)\u001b[0m\u001b[0;34m\u001b[0m\u001b[0;34m\u001b[0m\u001b[0m\n\u001b[1;32m    158\u001b[0m         \u001b[0mself\u001b[0m\u001b[0;34m.\u001b[0m\u001b[0m_CONN\u001b[0m\u001b[0;34m,\u001b[0m\u001b[0maddr\u001b[0m\u001b[0;34m=\u001b[0m\u001b[0mself\u001b[0m\u001b[0;34m.\u001b[0m\u001b[0m_SOCKET\u001b[0m\u001b[0;34m.\u001b[0m\u001b[0maccept\u001b[0m\u001b[0;34m(\u001b[0m\u001b[0;34m)\u001b[0m\u001b[0;34m\u001b[0m\u001b[0;34m\u001b[0m\u001b[0m\n",
      "\u001b[0;31mOSError\u001b[0m: [Errno 98] Address already in use"
     ]
    }
   ],
   "source": [
    "Sensor_1=Sensor_Network(\"192.168.1.29\",3001,SensorType.AHAT_CAMERA)\n",
    "Sensor_2=Sensor_Network(\"192.168.1.29\",3002,SensorType.LEFT_FRONT)\n",
    "Sensor_3=Sensor_Network(\"192.168.1.29\",3003,SensorType.RIGHT_FRONT)\n",
    "Sensor_4=Sensor_Network(\"192.168.1.29\",3004,SensorType.LEFT_LEFT)\n",
    "Sensor_5=Sensor_Network(\"192.168.1.29\",3005,SensorType.RIGHT_RIGHT)\n",
    "Sensor_1.connect()\n",
    "Sensor_2.connect()\n",
    "Sensor_3.connect()\n",
    "Sensor_4.connect()\n",
    "Sensor_5.connect()"
   ]
  },
  {
   "cell_type": "code",
   "execution_count": 7,
   "metadata": {},
   "outputs": [
    {
     "name": "stderr",
     "output_type": "stream",
     "text": [
      "100%|██████████| 300/300 [00:14<00:00, 21.10it/s]\n"
     ]
    }
   ],
   "source": [
    "from tqdm import tqdm\n",
    "for i in tqdm(range(300)):\n",
    "    imgs=Sensor_1.require()\n",
    "    imgs=Sensor_2.require()\n",
    "    imgs=Sensor_3.require()\n",
    "    imgs=Sensor_4.require()\n",
    "    imgs=Sensor_5.require()"
   ]
  },
  {
   "cell_type": "code",
   "execution_count": 17,
   "metadata": {},
   "outputs": [],
   "source": [
    "img=imgs[0]"
   ]
  },
  {
   "cell_type": "code",
   "execution_count": 24,
   "metadata": {},
   "outputs": [],
   "source": [
    "import cv2"
   ]
  },
  {
   "cell_type": "code",
   "execution_count": 45,
   "metadata": {},
   "outputs": [
    {
     "data": {
      "text/plain": [
       "True"
      ]
     },
     "execution_count": 45,
     "metadata": {},
     "output_type": "execute_result"
    }
   ],
   "source": [
    "imgs=Sensor.require()\n",
    "VLC=np.rot90(np.frombuffer(imgs,dtype=\"uint8\").reshape(480,640),-1)\n",
    "cv2.imwrite(\"tt.png\",VLC)"
   ]
  },
  {
   "cell_type": "code",
   "execution_count": 2,
   "metadata": {},
   "outputs": [
    {
     "data": {
      "text/plain": [
       "('192.168.1.73', 50842)"
      ]
     },
     "execution_count": 2,
     "metadata": {},
     "output_type": "execute_result"
    }
   ],
   "source": [
    "Sensor=Sensor_Network(\"192.168.1.29\",3001,SensorType.LEFT_FRONT)\n",
    "Sensor.connect()"
   ]
  },
  {
   "cell_type": "code",
   "execution_count": 6,
   "metadata": {},
   "outputs": [
    {
     "name": "stderr",
     "output_type": "stream",
     "text": [
      "100%|██████████| 300/300 [00:11<00:00, 25.56it/s]\n"
     ]
    }
   ],
   "source": [
    "from tqdm import tqdm\n",
    "for i in tqdm(range(300)):\n",
    "    imgs=Sensor.require()"
   ]
  },
  {
   "cell_type": "code",
   "execution_count": 4,
   "metadata": {},
   "outputs": [],
   "source": [
    "Ab_image,Depth_image=UWP_socket_.get_AHAT_image()"
   ]
  },
  {
   "cell_type": "code",
   "execution_count": 5,
   "metadata": {},
   "outputs": [
    {
     "name": "stderr",
     "output_type": "stream",
     "text": [
      "100%|██████████| 300/300 [00:27<00:00, 10.94it/s]\n"
     ]
    }
   ],
   "source": [
    "tt=time.time()\n",
    "from tqdm import tqdm\n",
    "for i in tqdm(range(300)):\n",
    "    Ab_image,Depth_image=UWP_socket_.get_AHAT_image()\n",
    "    \n",
    "    \n",
    "span=time.time()-tt"
   ]
  },
  {
   "cell_type": "code",
   "execution_count": 15,
   "metadata": {},
   "outputs": [],
   "source": [
    "img_array=np.frombuffer(raw_image,dtype=\"uint16\")\n",
    "img=img_array.reshape(512,512)"
   ]
  },
  {
   "cell_type": "code",
   "execution_count": null,
   "metadata": {},
   "outputs": [],
   "source": [
    "Ab_image,Depth_image"
   ]
  },
  {
   "cell_type": "code",
   "execution_count": 4,
   "metadata": {},
   "outputs": [
    {
     "name": "stdout",
     "output_type": "stream",
     "text": [
      "524288\n",
      "524288\n"
     ]
    },
    {
     "data": {
      "text/plain": [
       "True"
      ]
     },
     "execution_count": 4,
     "metadata": {},
     "output_type": "execute_result"
    }
   ],
   "source": [
    "print(len(Ab_image))\n",
    "print(len(Depth_image))\n",
    "img_Ab=np.frombuffer(Ab_image,dtype=\"uint16\").reshape(512,512)\n",
    "img_Depth=np.frombuffer(Depth_image,dtype=\"uint16\").reshape(512,512)\n",
    "cv2.imwrite(\"Ab.png\",img_Ab)\n",
    "cv2.imwrite(\"Depth.png\",img_Depth)"
   ]
  },
  {
   "cell_type": "code",
   "execution_count": 8,
   "metadata": {},
   "outputs": [],
   "source": [
    "import cv2"
   ]
  },
  {
   "cell_type": "code",
   "execution_count": 16,
   "metadata": {},
   "outputs": [
    {
     "data": {
      "text/plain": [
       "True"
      ]
     },
     "execution_count": 16,
     "metadata": {},
     "output_type": "execute_result"
    }
   ],
   "source": [
    "cv2.imwrite(\"img.png\",img)"
   ]
  },
  {
   "cell_type": "code",
   "execution_count": 2,
   "metadata": {},
   "outputs": [],
   "source": [
    "import numpy as np\n",
    "import cv2\n",
    "depth_im=np.array(cv2.imread(\"Depth.png\",-1))\n",
    "ab_im=np.array(cv2.imread(\"Ab.png\",-1))"
   ]
  },
  {
   "cell_type": "code",
   "execution_count": 7,
   "metadata": {},
   "outputs": [],
   "source": [
    "test=(\"img\",depth_im)"
   ]
  },
  {
   "cell_type": "code",
   "execution_count": 9,
   "metadata": {},
   "outputs": [
    {
     "data": {
      "text/plain": [
       "array([[4095, 4095, 4095, ..., 4095, 4095, 4095],\n",
       "       [4095, 4095, 4095, ..., 4095, 4095, 4095],\n",
       "       [4095, 4095, 4095, ..., 4095, 4095, 4095],\n",
       "       ...,\n",
       "       [4095, 4095, 4095, ..., 4095, 4095, 4095],\n",
       "       [4095, 4095, 4095, ..., 4095, 4095, 4095],\n",
       "       [4095, 4095, 4095, ..., 4095, 4095, 4095]], dtype=uint16)"
      ]
     },
     "execution_count": 9,
     "metadata": {},
     "output_type": "execute_result"
    }
   ],
   "source": [
    "test[1]"
   ]
  },
  {
   "cell_type": "code",
   "execution_count": 42,
   "metadata": {},
   "outputs": [
    {
     "name": "stdout",
     "output_type": "stream",
     "text": [
      "<class 'numpy.ndarray'>\n",
      "<class 'numpy.ndarray'>\n"
     ]
    },
    {
     "data": {
      "text/plain": [
       "True"
      ]
     },
     "execution_count": 42,
     "metadata": {},
     "output_type": "execute_result"
    }
   ],
   "source": [
    "depth_im=np.array(cv2.imread(\"Depth.png\",-1))\n",
    "print(type(depth_im))\n",
    "_,depth_im=cv2.threshold(depth_im,1000,0,cv2.THRESH_TRUNC)\n",
    "print(type(depth_im))\n",
    "depth_im=np.uint8(depth_im/4)\n",
    "cv2.imwrite(\"test.png\",depth_im)"
   ]
  },
  {
   "cell_type": "code",
   "execution_count": 40,
   "metadata": {},
   "outputs": [
    {
     "data": {
      "text/plain": [
       "(1000.0,\n",
       " array([[1000, 1000, 1000, ..., 1000, 1000, 1000],\n",
       "        [1000, 1000, 1000, ..., 1000, 1000, 1000],\n",
       "        [1000, 1000, 1000, ..., 1000, 1000, 1000],\n",
       "        ...,\n",
       "        [1000, 1000, 1000, ..., 1000, 1000, 1000],\n",
       "        [1000, 1000, 1000, ..., 1000, 1000, 1000],\n",
       "        [1000, 1000, 1000, ..., 1000, 1000, 1000]], dtype=uint16))"
      ]
     },
     "execution_count": 40,
     "metadata": {},
     "output_type": "execute_result"
    }
   ],
   "source": [
    "depth_im"
   ]
  },
  {
   "cell_type": "code",
   "execution_count": 5,
   "metadata": {},
   "outputs": [
    {
     "data": {
      "text/plain": [
       "True"
      ]
     },
     "execution_count": 5,
     "metadata": {},
     "output_type": "execute_result"
    }
   ],
   "source": [
    "down_limit=128\n",
    "up_limit=512\n",
    "ab_im=np.array(cv2.imread(\"Ab.png\",-1))\n",
    "ab_im[ab_im<down_limit]=down_limit\n",
    "ab_im[ab_im>up_limit]=up_limit\n",
    "ab_im=np.uint8((ab_im-down_limit)/(up_limit-down_limit)*255)\n",
    "cv2.imwrite(\"testab.png\",ab_im)"
   ]
  },
  {
   "cell_type": "code",
   "execution_count": 1,
   "metadata": {},
   "outputs": [
    {
     "ename": "NameError",
     "evalue": "name 'cv2' is not defined",
     "output_type": "error",
     "traceback": [
      "\u001b[0;31m---------------------------------------------------------------------------\u001b[0m",
      "\u001b[0;31mNameError\u001b[0m                                 Traceback (most recent call last)",
      "\u001b[0;32m<ipython-input-1-31811456dcc8>\u001b[0m in \u001b[0;36m<module>\u001b[0;34m\u001b[0m\n\u001b[0;32m----> 1\u001b[0;31m \u001b[0ma_\u001b[0m\u001b[0;34m=\u001b[0m\u001b[0mcv2\u001b[0m\u001b[0;34m.\u001b[0m\u001b[0mimread\u001b[0m\u001b[0;34m(\u001b[0m\u001b[0;34m\"testab.png\"\u001b[0m\u001b[0;34m,\u001b[0m\u001b[0;34m-\u001b[0m\u001b[0;36m1\u001b[0m\u001b[0;34m)\u001b[0m\u001b[0;34m\u001b[0m\u001b[0;34m\u001b[0m\u001b[0m\n\u001b[0m",
      "\u001b[0;31mNameError\u001b[0m: name 'cv2' is not defined"
     ]
    }
   ],
   "source": [
    "a_=cv2.imread(\"testab.png\",-1)"
   ]
  },
  {
   "cell_type": "code",
   "execution_count": 32,
   "metadata": {},
   "outputs": [
    {
     "data": {
      "text/plain": [
       "(512, 512)"
      ]
     },
     "execution_count": 32,
     "metadata": {},
     "output_type": "execute_result"
    }
   ],
   "source": [
    "a_.shape"
   ]
  }
 ],
 "metadata": {
  "interpreter": {
   "hash": "31f2aee4e71d21fbe5cf8b01ff0e069b9275f58929596ceb00d14d90e3e16cd6"
  },
  "kernelspec": {
   "display_name": "Python 3.6.9 64-bit",
   "name": "python3"
  },
  "language_info": {
   "name": "python",
   "version": ""
  },
  "orig_nbformat": 4
 },
 "nbformat": 4,
 "nbformat_minor": 2
}