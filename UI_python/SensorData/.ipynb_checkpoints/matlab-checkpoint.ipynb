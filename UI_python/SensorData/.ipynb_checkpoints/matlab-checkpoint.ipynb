{
 "cells": [
  {
   "cell_type": "code",
   "execution_count": 1,
   "metadata": {},
   "outputs": [
    {
     "name": "stderr",
     "output_type": "stream",
     "text": [
      "WARNING:root:autolab_core not installed as catkin package, RigidTransform ros methods will be unavailable\n"
     ]
    }
   ],
   "source": [
    "from typing import NewType\n",
    "from numpy.lib.function_base import disp\n",
    "from sksurgerynditracker.nditracker import NDITracker\n",
    "import socket\n",
    "import time\n",
    "import math\n",
    "import numpy as np\n",
    "import scipy.io as io\n",
    "from tqdm import tqdm\n",
    "import time\n",
    "import pyquaternion\n",
    "from pyquaternion import Quaternion\n",
    "# from autolab_core import RigidTransform\n",
    "# import cv2\n",
    "import cv2\n",
    "from autolab_core import RigidTransform\n",
    "import matplotlib as mpl\n",
    "from mpl_toolkits.mplot3d import Axes3D\n",
    "import matplotlib.pyplot as plt"
   ]
  },
  {
   "cell_type": "code",
   "execution_count": 3,
   "metadata": {},
   "outputs": [],
   "source": [
    "_ADDR=(\"192.168.2.143\",1111)\n",
    "_SOCKET=socket.socket(socket.AF_INET,socket.SOCK_STREAM)\n",
    "_SOCKET.bind(_ADDR)\n",
    "_SOCKET.listen(1)\n",
    "_conn,addr=_SOCKET.accept()\n",
    "\n"
   ]
  },
  {
   "cell_type": "code",
   "execution_count": 7,
   "metadata": {},
   "outputs": [
    {
     "data": {
      "text/plain": [
       "5"
      ]
     },
     "execution_count": 7,
     "metadata": {},
     "output_type": "execute_result"
    }
   ],
   "source": [
    "_conn.send(\"12345\".encode(\"UTF-8\"))"
   ]
  }
 ],
 "metadata": {
  "interpreter": {
   "hash": "31f2aee4e71d21fbe5cf8b01ff0e069b9275f58929596ceb00d14d90e3e16cd6"
  },
  "kernelspec": {
   "display_name": "Python 3.6.9 64-bit",
   "name": "python3"
  },
  "language_info": {
   "codemirror_mode": {
    "name": "ipython",
    "version": 3
   },
   "file_extension": ".py",
   "mimetype": "text/x-python",
   "name": "python",
   "nbconvert_exporter": "python",
   "pygments_lexer": "ipython3",
   "version": "3.6.9"
  },
  "orig_nbformat": 4
 },
 "nbformat": 4,
 "nbformat_minor": 2
}