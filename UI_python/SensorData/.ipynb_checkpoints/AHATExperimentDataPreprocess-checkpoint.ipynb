{
 "cells": [
  {
   "cell_type": "code",
   "execution_count": 1,
   "id": "c45efa3c-1d97-4d4a-a612-f0e22c8acd2f",
   "metadata": {},
   "outputs": [
    {
     "name": "stderr",
     "output_type": "stream",
     "text": [
      "WARNING:root:autolab_core not installed as catkin package, RigidTransform ros methods will be unavailable\n"
     ]
    },
    {
     "name": "stdout",
     "output_type": "stream",
     "text": [
      "[easydl] tensorflow not available!\n"
     ]
    }
   ],
   "source": [
    "import sys\n",
    "import os\n",
    "from numpy.core.defchararray import lower\n",
    "from numpy.core.numeric import NaN\n",
    "from My_classes import *\n",
    "import queue\n",
    "import copy\n",
    "from scipy.io import savemat\n",
    "from AHATNDITracker import *\n",
    "from FunctionFactory import *\n",
    "from XMLDataLoader import *\n",
    "import ipywidgets as wg\n",
    "from ipywidgets import Layout\n",
    "from sksurgerynditracker.nditracker import NDITracker\n",
    "import math\n",
    "from easydl import clear_output\n",
    "from tqdm import tqdm\n",
    "import math"
   ]
  },
  {
   "cell_type": "code",
   "execution_count": 318,
   "id": "be093cdb-5ba1-4729-a79d-9555e15f65ab",
   "metadata": {},
   "outputs": [],
   "source": [
    "## Metal Ball Position from Slicer:\n",
    "Spine_image_metal_position=np.array([[-8.520,171.257,-1365.909],\n",
    "                                    [-54.881,163.665,-1360.393],\n",
    "                                    [-52.313,124.647,-1317.729],\n",
    "                                    [-1.558,131.839,-1321.766]])\n",
    "Model_1_image_metal_position=np.array([[-1.370,65.662,-1205.166],\n",
    "                                      [-31.315,33.758,-1157.439],\n",
    "                                      [-32.464,33.036,-1245.633],\n",
    "                                      [-50.800,13.666,-1205.381]])\n",
    "Model_1_image_metal_position[:,2]=Model_1_image_metal_position[:,2]+1200\n",
    "Model_2_image_metal_position=np.array([[-16.959,52.065,-1063.782],\n",
    "                                      [-33.964,34.385,-1053.219],\n",
    "                                      [-32.279,34.813,-1011.003],\n",
    "                                      [-53.330,15.493,-1093.595]])\n",
    "Model_2_image_metal_position[:,2]=Model_2_image_metal_position[:,2]+1000\n",
    "Model_3_image_metal_position=np.array([[-7.861,61.972,-903.243],\n",
    "                                      [-28.711,38.061,-865.601],\n",
    "                                      [-34.873,33.976,-935.358],\n",
    "                                      [-55.021,10.539,-896.952]])\n",
    "Model_3_image_metal_position[:,2]=Model_3_image_metal_position[:,2]+900"
   ]
  },
  {
   "cell_type": "code",
   "execution_count": 320,
   "id": "765bc7c5-7b88-4ee7-bf22-3c2bc24a128d",
   "metadata": {},
   "outputs": [
    {
     "data": {
      "text/plain": [
       "array([[ -7.861,  61.972,  -3.243],\n",
       "       [-28.711,  38.061,  34.399],\n",
       "       [-34.873,  33.976, -35.358],\n",
       "       [-55.021,  10.539,   3.048]])"
      ]
     },
     "execution_count": 320,
     "metadata": {},
     "output_type": "execute_result"
    }
   ],
   "source": [
    "Model_3_image_metal_position"
   ]
  },
  {
   "cell_type": "code",
   "execution_count": 3,
   "id": "c05b4caf-1a2b-4e5e-80b0-8b1c3fad086a",
   "metadata": {},
   "outputs": [],
   "source": [
    "SETTINGS = {\n",
    "        \"tracker type\": \"polaris\",\n",
    "        \"romfiles\" : [\"ExperimentTool/Tools/Model_1.rom\",\"ExperimentTool/Tools/Pointer_1.rom\"]\n",
    "}\n",
    "TRACKER = NDITracker(SETTINGS)\n",
    "TRACKER.start_tracking()\n",
    "tooltip=np.array([[145.77],[19.10],[176.65],[1]])"
   ]
  },
  {
   "cell_type": "code",
   "execution_count": 30,
   "id": "78e69c2a-6fd3-4b05-999d-0d2ffc861645",
   "metadata": {},
   "outputs": [],
   "source": [
    "Model_1_Metal_in_Tracker=np.zeros([4,3])"
   ]
  },
  {
   "cell_type": "code",
   "execution_count": 96,
   "id": "8d2b680f-49d3-41f3-bec8-9c334a2a5329",
   "metadata": {},
   "outputs": [
    {
     "name": "stdout",
     "output_type": "stream",
     "text": [
      "[ 31.13319886   3.90819265 -20.94283173]\n"
     ]
    }
   ],
   "source": [
    "i=3\n",
    "port_handles, timestamps, framenumbers, tracking, quality = TRACKER.get_frame()\n",
    "Model_1_Metal_in_Tracker[i,:]=np.squeeze((np.linalg.inv(tracking[0])@tracking[1]@tooltip).T)[0:3]\n",
    "print(np.squeeze((np.linalg.inv(tracking[0])@tracking[1]@tooltip).T)[0:3])"
   ]
  },
  {
   "cell_type": "code",
   "execution_count": 321,
   "id": "610c38e5-de40-4e14-9929-84bf37e78c9d",
   "metadata": {},
   "outputs": [],
   "source": [
    "T_Model_1_Img2Tracker,err=UVD_RigidTransform(Model_1_image_metal_position,Model_1_Metal_in_Tracker)"
   ]
  },
  {
   "cell_type": "code",
   "execution_count": 322,
   "id": "e2b3d3ef-80ff-44e0-97ea-a9f17fa1c821",
   "metadata": {},
   "outputs": [
    {
     "data": {
      "text/plain": [
       "array([[-6.34507799e-01, -7.37368589e-01, -2.31705453e-01,\n",
       "         7.75082885e+00],\n",
       "       [-1.82008588e-01, -1.48806624e-01,  9.71971945e-01,\n",
       "         2.12253582e+00],\n",
       "       [-7.51180889e-01,  6.58896162e-01, -3.97884523e-02,\n",
       "        -6.82931877e+01],\n",
       "       [ 0.00000000e+00,  0.00000000e+00,  0.00000000e+00,\n",
       "         1.00000000e+00]])"
      ]
     },
     "execution_count": 322,
     "metadata": {},
     "output_type": "execute_result"
    }
   ],
   "source": [
    "T_Model_1_Img2Tracker"
   ]
  },
  {
   "cell_type": "code",
   "execution_count": 323,
   "id": "b915f3fc-7627-4a0c-aa14-af3de853e56b",
   "metadata": {},
   "outputs": [],
   "source": [
    "savemat(\"ExperimentTool/RegistrationResults/Model_1.mat\",{\"T\":T_Model_1_Img2Tracker})"
   ]
  },
  {
   "cell_type": "code",
   "execution_count": 53,
   "id": "137aada3-0d1c-4488-8172-b9fbb028c13d",
   "metadata": {},
   "outputs": [
    {
     "name": "stdout",
     "output_type": "stream",
     "text": [
      "[[  -8.60160687  112.00501894 -156.41753371    1.        ]]\n"
     ]
    }
   ],
   "source": [
    "port_handles, timestamps, framenumbers, tracking, quality = TRACKER.get_frame()\n",
    "print((np.linalg.inv(tracking[0])@tracking[1]@tooltip).T)"
   ]
  },
  {
   "cell_type": "code",
   "execution_count": 101,
   "id": "16d5cc95-347b-4bb1-9ef6-3448d408f267",
   "metadata": {},
   "outputs": [],
   "source": [
    "SETTINGS = {\n",
    "        \"tracker type\": \"polaris\",\n",
    "        \"romfiles\" : [\"ExperimentTool/Tools/Model_2.rom\",\"ExperimentTool/Tools/Pointer_1.rom\"]\n",
    "}\n",
    "TRACKER = NDITracker(SETTINGS)\n",
    "TRACKER.start_tracking()\n",
    "tooltip=np.array([[145.77],[19.10],[176.65],[1]])"
   ]
  },
  {
   "cell_type": "code",
   "execution_count": 102,
   "id": "741a45db-3029-4585-a346-d0859c2a8843",
   "metadata": {},
   "outputs": [],
   "source": [
    "Model_2_Metal_in_Tracker=np.zeros([4,3])"
   ]
  },
  {
   "cell_type": "code",
   "execution_count": 197,
   "id": "4ff382bc-900d-4fd2-a315-9993c01e83e2",
   "metadata": {},
   "outputs": [
    {
     "name": "stdout",
     "output_type": "stream",
     "text": [
      "[ -0.56269174   3.43813727 -22.1061318 ]\n",
      "0.541853798668629\n"
     ]
    }
   ],
   "source": [
    "i=1\n",
    "port_handles, timestamps, framenumbers, tracking, quality = TRACKER.get_frame()\n",
    "Model_2_Metal_in_Tracker[i,:]=np.squeeze((np.linalg.inv(tracking[0])@tracking[1]@tooltip).T)[0:3]\n",
    "print(np.squeeze((np.linalg.inv(tracking[0])@tracking[1]@tooltip).T)[0:3])\n",
    "T_Model_2_Img2Tracker,err=UVD_RigidTransform(Model_2_Metal_in_Tracker,Model_2_image_metal_position)\n",
    "print(err)"
   ]
  },
  {
   "cell_type": "code",
   "execution_count": 324,
   "id": "ab8fb2fe-57c2-4428-b3a3-0c448b378060",
   "metadata": {},
   "outputs": [
    {
     "name": "stdout",
     "output_type": "stream",
     "text": [
      "0.541853798668667\n"
     ]
    }
   ],
   "source": [
    "T_Model_2_Img2Tracker,err=UVD_RigidTransform(Model_2_Metal_in_Tracker,Model_2_image_metal_position)\n",
    "print(err)"
   ]
  },
  {
   "cell_type": "code",
   "execution_count": 325,
   "id": "97fd1f0c-ca1d-4790-899d-571553e6dcc8",
   "metadata": {},
   "outputs": [
    {
     "data": {
      "text/plain": [
       "array([[-6.62678187e-01,  2.34086002e-03, -7.48900621e-01,\n",
       "        -5.05625202e+01],\n",
       "       [-7.42527300e-01, -1.32274623e-01,  6.56625185e-01,\n",
       "         4.94374133e+01],\n",
       "       [-9.75234800e-02,  9.91210343e-01,  8.93936602e-02,\n",
       "        -5.50649302e+01],\n",
       "       [ 0.00000000e+00,  0.00000000e+00,  0.00000000e+00,\n",
       "         1.00000000e+00]])"
      ]
     },
     "execution_count": 325,
     "metadata": {},
     "output_type": "execute_result"
    }
   ],
   "source": [
    "T_Model_2_Img2Tracker\n"
   ]
  },
  {
   "cell_type": "code",
   "execution_count": 326,
   "id": "fdf3817c-5f43-45ad-8946-da1f227acf98",
   "metadata": {},
   "outputs": [],
   "source": [
    "savemat(\"ExperimentTool/RegistrationResults/Model_2.mat\",{\"T\":T_Model_2_Img2Tracker})"
   ]
  },
  {
   "cell_type": "code",
   "execution_count": 199,
   "id": "42d037d9-bd51-4ce7-bdb3-2aec5efe891b",
   "metadata": {},
   "outputs": [],
   "source": [
    "SETTINGS = {\n",
    "        \"tracker type\": \"polaris\",\n",
    "        \"romfiles\" : [\"ExperimentTool/Tools/Model_3.rom\",\"ExperimentTool/Tools/Pointer_1.rom\"]\n",
    "}\n",
    "TRACKER = NDITracker(SETTINGS)\n",
    "TRACKER.start_tracking()\n",
    "tooltip=np.array([[145.77],[19.10],[176.65],[1]])"
   ]
  },
  {
   "cell_type": "code",
   "execution_count": 202,
   "id": "72f92a4d-d783-4c11-9781-a77a84ac88bf",
   "metadata": {},
   "outputs": [],
   "source": [
    "Model_3_Metal_in_Tracker=np.zeros([4,3])"
   ]
  },
  {
   "cell_type": "code",
   "execution_count": 219,
   "id": "17c04955-0940-4dd8-b368-c3350907fc7b",
   "metadata": {},
   "outputs": [
    {
     "name": "stdout",
     "output_type": "stream",
     "text": [
      "[ 27.07693054   9.20547013 -18.05590121]\n",
      "0.725358077767052\n"
     ]
    }
   ],
   "source": [
    "i=3\n",
    "port_handles, timestamps, framenumbers, tracking, quality = TRACKER.get_frame()\n",
    "Model_3_Metal_in_Tracker[i,:]=np.squeeze((np.linalg.inv(tracking[0])@tracking[1]@tooltip).T)[0:3]\n",
    "print(np.squeeze((np.linalg.inv(tracking[0])@tracking[1]@tooltip).T)[0:3])\n",
    "T_Model_3_Img2Tracker,err=UVD_RigidTransform(Model_3_Metal_in_Tracker,Model_3_image_metal_position)\n",
    "print(err)\n"
   ]
  },
  {
   "cell_type": "code",
   "execution_count": 327,
   "id": "c6c19066-2503-4e22-a19c-b2c422a6513b",
   "metadata": {},
   "outputs": [
    {
     "name": "stdout",
     "output_type": "stream",
     "text": [
      "0.7253580777670331\n"
     ]
    }
   ],
   "source": [
    "T_Model_3_Img2Tracker,err=UVD_RigidTransform(Model_3_Metal_in_Tracker,Model_3_image_metal_position)\n",
    "print(err)"
   ]
  },
  {
   "cell_type": "code",
   "execution_count": 328,
   "id": "c8f5393a-9b28-41d5-956b-c90d219ebef6",
   "metadata": {},
   "outputs": [
    {
     "data": {
      "text/plain": [
       "array([[-6.33738573e-01, -8.33192718e-02, -7.69047021e-01,\n",
       "        -5.08036085e+01],\n",
       "       [-7.54131838e-01, -1.54797564e-01,  6.38218525e-01,\n",
       "         4.45882684e+01],\n",
       "       [-1.72222508e-01,  9.84426540e-01,  3.52674718e-02,\n",
       "        -9.55441079e-01],\n",
       "       [ 0.00000000e+00,  0.00000000e+00,  0.00000000e+00,\n",
       "         1.00000000e+00]])"
      ]
     },
     "execution_count": 328,
     "metadata": {},
     "output_type": "execute_result"
    }
   ],
   "source": [
    "T_Model_3_Img2Tracker"
   ]
  },
  {
   "cell_type": "code",
   "execution_count": 329,
   "id": "8410a742-3144-43f5-8636-40af9505247b",
   "metadata": {},
   "outputs": [],
   "source": [
    "savemat(\"ExperimentTool/RegistrationResults/Model_3.mat\",{\"T\":T_Model_3_Img2Tracker})"
   ]
  },
  {
   "cell_type": "code",
   "execution_count": 221,
   "id": "435fcdd5-861f-4fd1-a888-0bfa4db14ee4",
   "metadata": {},
   "outputs": [],
   "source": [
    "SETTINGS = {\n",
    "        \"tracker type\": \"polaris\",\n",
    "        \"romfiles\" : [\"ExperimentTool/Tools/Drill.rom\",\"ExperimentTool/Tools/Pointer_1.rom\"]\n",
    "}\n",
    "TRACKER = NDITracker(SETTINGS)\n",
    "TRACKER.start_tracking()\n",
    "tooltip=np.array([[145.77],[19.10],[176.65],[1]])"
   ]
  },
  {
   "cell_type": "code",
   "execution_count": 284,
   "id": "de4e53ec-ba0b-4e1d-954d-38fdc08c8a10",
   "metadata": {},
   "outputs": [
    {
     "name": "stdout",
     "output_type": "stream",
     "text": [
      "[[55.08513023]\n",
      " [-3.17291523]\n",
      " [11.88553156]\n",
      " [ 1.        ]]\n"
     ]
    }
   ],
   "source": [
    "port_handles, timestamps, framenumbers, tracking, quality = TRACKER.get_frame()\n",
    "Drill_mouth=np.linalg.inv(tracking[0])@tracking[1]@tooltip\n",
    "print(Drill_mouth)"
   ]
  },
  {
   "cell_type": "code",
   "execution_count": 302,
   "id": "1762af22-cd5c-4f1e-b612-416db3c712a8",
   "metadata": {},
   "outputs": [
    {
     "name": "stdout",
     "output_type": "stream",
     "text": [
      "[[100.74611268]\n",
      " [-74.69946046]\n",
      " [-86.84190462]\n",
      " [  1.        ]]\n"
     ]
    }
   ],
   "source": [
    "port_handles, timestamps, framenumbers, tracking, quality = TRACKER.get_frame()\n",
    "Drill_tip=np.linalg.inv(tracking[0])@tracking[1]@tooltip\n",
    "print(Drill_tip)"
   ]
  },
  {
   "cell_type": "code",
   "execution_count": 305,
   "id": "c952ac2f-a642-4c79-b1d6-a8e02158f154",
   "metadata": {},
   "outputs": [
    {
     "name": "stdout",
     "output_type": "stream",
     "text": [
      "needle image to tracker\n",
      "[[ 6.65304561e-17  3.50739773e-01 -9.36472964e-01  1.00746113e+02]\n",
      " [ 8.09808592e-01 -5.49423225e-01 -2.05776979e-01 -7.46994605e+01]\n",
      " [-5.86694166e-01 -7.58363852e-01 -2.84032081e-01 -8.68419046e+01]\n",
      " [ 0.00000000e+00  0.00000000e+00  0.00000000e+00  1.00000000e+00]]\n"
     ]
    }
   ],
   "source": [
    "Potential_Dire_Perpendicular_1=np.array([[1],[0],[0]])\n",
    "Potential_Dire_Perpendicular_2=np.array([[0],[1],[0]])\n",
    "Model_point=np.array([[0,0,0],\n",
    "                     [0,-100,0],\n",
    "                     [100,0,0]])\n",
    "\n",
    "Drill_Out_Position=Drill_mouth[0:3]\n",
    "Needle_tip=Drill_tip[0:3]\n",
    "Needle_direction=(Drill_Out_Position-Needle_tip)\n",
    "Needle_direction=Needle_direction/np.linalg.norm(Needle_direction)\n",
    "\n",
    "# ensure a direction that is not on a line\n",
    "Poss_Vali_1=abs((Needle_direction.T@Potential_Dire_Perpendicular_1)[0][0])\n",
    "Poss_Vali_2=abs((Needle_direction.T@Potential_Dire_Perpendicular_2)[0][0])\n",
    "\n",
    "\n",
    "Dire_perpendicular=Potential_Dire_Perpendicular_1 if Poss_Vali_1<Poss_Vali_2 else Potential_Dire_Perpendicular_2\n",
    "\n",
    "Perpen_direction=np.cross(Needle_direction.T,Dire_perpendicular.T)\n",
    "Perpen_direction=Perpen_direction/np.linalg.norm(Perpen_direction)\n",
    "\n",
    "Real_Needle_Point=np.zeros([3,3])\n",
    "Real_Needle_Point[0,:]=np.squeeze(Needle_tip)\n",
    "Real_Needle_Point[1,:]=np.squeeze(Needle_tip)+100*np.squeeze(Needle_direction.T)\n",
    "Real_Needle_Point[2,:]=np.squeeze(Needle_tip)+100*np.squeeze(Perpen_direction)\n",
    "\n",
    "rs_needle_image_2_tracker=UVD_RigidTransform(Model_point,Real_Needle_Point)\n",
    "needle_image_2_tracker=rs_needle_image_2_tracker[0]\n",
    "print(\"needle image to tracker\")\n",
    "print(needle_image_2_tracker)"
   ]
  },
  {
   "cell_type": "code",
   "execution_count": 306,
   "id": "5bf37551-9be3-43ab-97b6-eedfb68d5221",
   "metadata": {},
   "outputs": [],
   "source": [
    "savemat(\"ExperimentTool/RegistrationResults/Needle.mat\",{\"T\":needle_image_2_tracker})"
   ]
  },
  {
   "cell_type": "code",
   "execution_count": 309,
   "id": "d5bc4c3e-62d1-4591-89c0-3559587e88e6",
   "metadata": {},
   "outputs": [
    {
     "data": {
      "text/plain": [
       "array([[-23.53975475,  -8.9357596 , -24.25942486],\n",
       "       [ -0.56269174,   3.43813727, -22.1061318 ],\n",
       "       [ -5.19361355,  45.95633336, -19.35581828],\n",
       "       [ 31.16618498, -33.56446902, -23.66462854]])"
      ]
     },
     "execution_count": 309,
     "metadata": {},
     "output_type": "execute_result"
    }
   ],
   "source": [
    "Model_2_Metal_in_Tracker"
   ]
  },
  {
   "cell_type": "code",
   "execution_count": 310,
   "id": "5ce468e4-920a-453f-8450-4c90c608dc1e",
   "metadata": {},
   "outputs": [],
   "source": [
    "savemat(\"ExperimentTool/Tmp.mat\",{\"Model_1\":Model_1_Metal_in_Tracker,\n",
    "                                 \"Model_2\":Model_2_Metal_in_Tracker,\n",
    "                                 \"Model_3\":Model_3_Metal_in_Tracker})"
   ]
  },
  {
   "cell_type": "code",
   "execution_count": null,
   "id": "afa02c9b-0274-41c7-a00d-8a7d643a1f14",
   "metadata": {},
   "outputs": [],
   "source": []
  }
 ],
 "metadata": {
  "kernelspec": {
   "display_name": "Python 3 (ipykernel)",
   "language": "python",
   "name": "python3"
  },
  "language_info": {
   "codemirror_mode": {
    "name": "ipython",
    "version": 3
   },
   "file_extension": ".py",
   "mimetype": "text/x-python",
   "name": "python",
   "nbconvert_exporter": "python",
   "pygments_lexer": "ipython3",
   "version": "3.8.10"
  }
 },
 "nbformat": 4,
 "nbformat_minor": 5
}
