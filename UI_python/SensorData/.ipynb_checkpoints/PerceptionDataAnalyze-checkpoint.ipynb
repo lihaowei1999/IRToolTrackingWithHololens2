{
 "cells": [
  {
   "cell_type": "code",
   "execution_count": 30,
   "id": "f050819c-d3d6-47dc-8c2c-adc58f65f8ca",
   "metadata": {},
   "outputs": [],
   "source": [
    "from My_classes import *\n",
    "import numpy as np\n",
    "import os\n",
    "from scipy.io import savemat,loadmat\n",
    "import matplotlib.pyplot as plt\n",
    "from tqdm import tqdm\n",
    "RawFileRootPath=\"/home/lihaowei/Documents/Git/Dataprocessing/PerceptionData\"\n",
    "SaveFileRootPath=\"/home/lihaowei/Documents/Git/Dataprocessing/PerceptionDataProcessed\""
   ]
  },
  {
   "cell_type": "code",
   "execution_count": 29,
   "id": "11f2714c-6dc3-4e60-aeca-e4f24ec1ce83",
   "metadata": {},
   "outputs": [
    {
     "name": "stdout",
     "output_type": "stream",
     "text": [
      "Perception_Dynamic_Pose_8\n"
     ]
    },
    {
     "name": "stderr",
     "output_type": "stream",
     "text": [
      "100%|███████████████████████████████████████| 1051/1051 [00:11<00:00, 90.43it/s]\n"
     ]
    },
    {
     "name": "stdout",
     "output_type": "stream",
     "text": [
      "Perception_Dynamic_Pose_3\n"
     ]
    },
    {
     "name": "stderr",
     "output_type": "stream",
     "text": [
      "100%|██████████████████████████████████████| 1169/1169 [00:11<00:00, 105.53it/s]\n",
      "100%|████████████████████████████████████████| 621/621 [00:05<00:00, 103.55it/s]\n",
      "100%|████████████████████████████████████████| 928/928 [00:08<00:00, 103.32it/s]\n",
      "100%|█████████████████████████████████████████| 643/643 [00:06<00:00, 98.02it/s]\n"
     ]
    },
    {
     "name": "stdout",
     "output_type": "stream",
     "text": [
      "Perception_Dynamic_Pose_2\n"
     ]
    },
    {
     "name": "stderr",
     "output_type": "stream",
     "text": [
      "100%|██████████████████████████████████████| 1149/1149 [00:11<00:00, 103.25it/s]\n",
      "100%|████████████████████████████████████████| 771/771 [00:07<00:00, 105.92it/s]\n",
      "100%|████████████████████████████████████████| 937/937 [00:08<00:00, 108.86it/s]\n",
      "100%|████████████████████████████████████████| 775/775 [00:07<00:00, 103.60it/s]\n"
     ]
    },
    {
     "name": "stdout",
     "output_type": "stream",
     "text": [
      "Perception_Dynamic_Pose_7\n"
     ]
    },
    {
     "name": "stderr",
     "output_type": "stream",
     "text": [
      "100%|█████████████████████████████████████████| 742/742 [00:07<00:00, 95.41it/s]\n"
     ]
    },
    {
     "name": "stdout",
     "output_type": "stream",
     "text": [
      "Perception_Dynamic_Pose_9\n"
     ]
    },
    {
     "name": "stderr",
     "output_type": "stream",
     "text": [
      "100%|█████████████████████████████████████████| 881/881 [00:09<00:00, 96.03it/s]\n"
     ]
    },
    {
     "name": "stdout",
     "output_type": "stream",
     "text": [
      "Perception_Dynamic_Pose_5\n"
     ]
    },
    {
     "name": "stderr",
     "output_type": "stream",
     "text": [
      "100%|█████████████████████████████████████████| 650/650 [00:06<00:00, 97.71it/s]\n"
     ]
    },
    {
     "name": "stdout",
     "output_type": "stream",
     "text": [
      "Perception_Dynamic_Pose_10\n"
     ]
    },
    {
     "name": "stderr",
     "output_type": "stream",
     "text": [
      "100%|█████████████████████████████████████████| 881/881 [00:09<00:00, 95.38it/s]\n"
     ]
    },
    {
     "name": "stdout",
     "output_type": "stream",
     "text": [
      "Perception_Dynamic_Pose_1\n"
     ]
    },
    {
     "name": "stderr",
     "output_type": "stream",
     "text": [
      "100%|████████████████████████████████████████| 280/280 [00:02<00:00, 103.80it/s]\n",
      "100%|█████████████████████████████████████████| 379/379 [00:03<00:00, 98.14it/s]\n",
      "100%|████████████████████████████████████████| 956/956 [00:09<00:00, 106.04it/s]\n",
      "100%|████████████████████████████████████████| 891/891 [00:08<00:00, 105.95it/s]\n"
     ]
    },
    {
     "name": "stdout",
     "output_type": "stream",
     "text": [
      "Perception_Dynamic_Pose_6\n"
     ]
    },
    {
     "name": "stderr",
     "output_type": "stream",
     "text": [
      "100%|█████████████████████████████████████████| 780/780 [00:08<00:00, 95.23it/s]\n"
     ]
    },
    {
     "name": "stdout",
     "output_type": "stream",
     "text": [
      "Perception_Dynamic_Pose_4\n"
     ]
    },
    {
     "name": "stderr",
     "output_type": "stream",
     "text": [
      "100%|█████████████████████████████████████████| 664/664 [00:06<00:00, 98.19it/s]\n",
      "100%|█████████████████████████████████████████| 654/654 [00:06<00:00, 97.00it/s]\n",
      "100%|████████████████████████████████████████| 710/710 [00:06<00:00, 102.73it/s]\n",
      "100%|█████████████████████████████████████████| 863/863 [00:08<00:00, 96.73it/s]\n"
     ]
    }
   ],
   "source": [
    "CaseNames=os.listdir(RawFileRootPath)\n",
    "for case_name in CaseNames:\n",
    "    print(case_name)\n",
    "    case_path=os.path.join(RawFileRootPath,case_name)\n",
    "    save_case_path=os.path.join(SaveFileRootPath,case_name)\n",
    "    if not os.path.exists(save_case_path):\n",
    "        os.mkdir(save_case_path)\n",
    "    save_case_depth_path=os.path.join(save_case_path,\"Depth\")\n",
    "    save_case_rf_path=os.path.join(save_case_path,\"Reflectivity\")\n",
    "    if not os.path.exists(save_case_depth_path):\n",
    "        os.mkdir(save_case_depth_path)\n",
    "    if not os.path.exists(save_case_rf_path):\n",
    "        os.mkdir(save_case_rf_path)\n",
    "    runtimes=os.listdir(case_path)\n",
    "    number=0\n",
    "    for runtime in runtimes:\n",
    "        runtime_path=os.path.join(case_path,runtime)\n",
    "        AHATFileName=os.path.join(runtime_path,\"AHAT.npy\")\n",
    "        Data_AHAT=np.load(AHATFileName,allow_pickle=True).tolist()\n",
    "        for i in tqdm(range(len(Data_AHAT))):\n",
    "            number=number+1\n",
    "            Im_Depth=Data_AHAT[i].MatDepth\n",
    "            Im_Rf=Data_AHAT[i].MatReflectivity\n",
    "            DepthSavingDir=os.path.join(save_case_depth_path,\"AHATDepth\"+str(number)+\".png\")\n",
    "            RFSavingDir=os.path.join(save_case_rf_path,\"AHATRF\"+str(number)+\".png\")\n",
    "            cv2.imwrite(DepthSavingDir,Im_Depth)\n",
    "            cv2.imwrite(RFSavingDir,Im_Rf)"
   ]
  },
  {
   "cell_type": "code",
   "execution_count": 27,
   "id": "19ca8163-ca4a-42f6-96f0-b4df4e84d7d7",
   "metadata": {},
   "outputs": [
    {
     "data": {
      "text/plain": [
       "True"
      ]
     },
     "execution_count": 27,
     "metadata": {},
     "output_type": "execute_result"
    },
    {
     "data": {
      "image/png": "[encoded data removed]",
      "text/plain": [
       "<Figure size 432x288 with 1 Axes>"
      ]
     },
     "metadata": {
      "needs_background": "light"
     },
     "output_type": "display_data"
    }
   ],
   "source": [
    "plt.imshow(Data_AHAT.tolist()[0].MatDepth)\n",
    "Data_n=np.zeros([512,512,3])\n",
    "Data_n[:,:,0]=Data_AHAT.tolist()[0].MatReflectivity\n",
    "Data_n[:,:,1]=Data_AHAT.tolist()[0].MatDepth\n",
    "cv2.imwrite(\"Test.png\",Data_n)"
   ]
  },
  {
   "cell_type": "code",
   "execution_count": null,
   "id": "014c9cc2-0f93-4a1e-8dfc-c33817218738",
   "metadata": {},
   "outputs": [],
   "source": []
  }
 ],
 "metadata": {
  "kernelspec": {
   "display_name": "Python 3 (ipykernel)",
   "language": "python",
   "name": "python3"
  },
  "language_info": {
   "codemirror_mode": {
    "name": "ipython",
    "version": 3
   },
   "file_extension": ".py",
   "mimetype": "text/x-python",
   "name": "python",
   "nbconvert_exporter": "python",
   "pygments_lexer": "ipython3",
   "version": "3.8.10"
  }
 },
 "nbformat": 4,
 "nbformat_minor": 5
}
