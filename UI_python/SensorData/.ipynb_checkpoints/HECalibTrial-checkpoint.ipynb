{
 "cells": [
  {
   "cell_type": "code",
   "execution_count": 230,
   "id": "0ed1b478-d35b-41d0-8ddd-c8ad4e4a23b7",
   "metadata": {},
   "outputs": [],
   "source": [
    "import sys\n",
    "import os\n",
    "from numpy.core.defchararray import lower\n",
    "from numpy.core.numeric import NaN\n",
    "from My_classes import *\n",
    "import queue\n",
    "import copy\n",
    "from scipy.io import savemat\n",
    "from AHATNDITracker import *\n",
    "from FunctionFactory import *\n",
    "from XMLDataLoader import *\n",
    "import ipywidgets as wg\n",
    "from ipywidgets import Layout\n",
    "from sksurgerynditracker.nditracker import NDITracker\n",
    "import math\n",
    "from easydl import clear_output\n",
    "from tqdm import tqdm\n",
    "import math\n",
    "def Gen_random_Tran():\n",
    "    Tran=np.zeros([4,4])\n",
    "    Tran[0:3,3]=np.random.random((3))*300\n",
    "    Random_direc_1=np.random.random((1,3))\n",
    "    Random_direc_1=Random_direc_1/np.linalg.norm(Random_direc_1)\n",
    "    Random_direc_2=np.random.random((1,3))\n",
    "    Random_direc_2=np.cross(Random_direc_1,Random_direc_2)\n",
    "    Random_direc_2=Random_direc_2/np.linalg.norm(Random_direc_2)\n",
    "    Random_posi=np.zeros([3,3])\n",
    "    Random_posi[1,:]=Random_direc_1\n",
    "    Random_posi[2,:]=Random_direc_2\n",
    "    Target=np.array([[0,0,0],\n",
    "                    [1,0,0],\n",
    "                    [0,1,0]])\n",
    "    rs_t=UVD_RigidTransform(Random_posi,Target)\n",
    "    Tran[0:3,0:3]=rs_t[0][0:3,0:3]\n",
    "    Tran[3,3]=1\n",
    "    return Tran"
   ]
  },
  {
   "cell_type": "code",
   "execution_count": 247,
   "id": "128f7249-bc42-4447-a21c-569bdafd1322",
   "metadata": {},
   "outputs": [
    {
     "name": "stdout",
     "output_type": "stream",
     "text": [
      "[[-2.22044605e-16  3.33066907e-16 -6.66133815e-16  1.13686838e-13]\n",
      " [ 4.44089210e-16 -3.33066907e-16 -1.11022302e-16  7.10542736e-14]\n",
      " [ 5.82867088e-16  1.11022302e-16  1.11022302e-16  7.10542736e-14]\n",
      " [ 0.00000000e+00  0.00000000e+00  0.00000000e+00  0.00000000e+00]]\n",
      "Err H2T\n",
      "[[ 1.94289029e-16  4.44089210e-16  2.22044605e-16  2.84217094e-14]\n",
      " [-5.55111512e-16  2.22044605e-16  2.22044605e-16  3.69482223e-13]\n",
      " [ 5.55111512e-16  1.11022302e-16  1.11022302e-16 -1.98951966e-13]\n",
      " [ 0.00000000e+00  0.00000000e+00  0.00000000e+00  0.00000000e+00]]\n",
      "Err B2W\n",
      "[[ 2.22044605e-16  5.55111512e-16 -1.11022302e-16  4.26325641e-13]\n",
      " [ 0.00000000e+00 -3.88578059e-16  0.00000000e+00 -3.33955086e-13]\n",
      " [-8.32667268e-17  1.11022302e-16  1.11022302e-16  1.63424829e-13]\n",
      " [ 0.00000000e+00  0.00000000e+00  0.00000000e+00  0.00000000e+00]]\n"
     ]
    }
   ],
   "source": [
    "## Generate a simulation Data\n",
    "\n",
    "Real_H2T=Gen_random_Tran()\n",
    "Real_B2N=Gen_random_Tran()\n",
    "# random a rot and line\n",
    "Random_N2T=np.zeros([10,4,4])\n",
    "Random_T2N=np.zeros([10,4,4])\n",
    "Random_B2H=np.zeros([10,4,4])\n",
    "Random_H2B=np.zeros([10,4,4])\n",
    "for i in range (10):\n",
    "    Random_N2T[i,:,:]=Gen_random_Tran()\n",
    "    Random_T2N[i,:,:]=np.linalg.inv(Random_N2T[i,:,:])\n",
    "    Random_B2H[i,:,:]=np.linalg.inv(Real_H2T)@Random_N2T[i,:,:]@Real_B2N\n",
    "    Random_H2B[i,:,:]=np.linalg.inv(Random_B2H[i,:,:])\n",
    "Rs_HE=cv2.calibrateRobotWorldHandEye(Random_N2T[:,0:3,0:3],Random_N2T[:,0:3,3],Random_B2H[:,0:3,0:3],Random_B2H[:,0:3,3])\n",
    "Rs_HE_2=cv2.calibrateHandEye(Random_B2H[:,0:3,0:3],Random_B2H[:,0:3,3],Random_T2N[:,0:3,0:3],Random_T2N[:,0:3,3])\n",
    "Rs_H2T=np.zeros([4,4])\n",
    "Rs_H2T[0:3,0:3]=Rs_HE[2]\n",
    "Rs_H2T[0:3,3]=Rs_HE[3][0:3,0]\n",
    "Rs_H2T[3,3]=1\n",
    "\n",
    "Rs_B2W=np.zeros([4,4])\n",
    "Rs_B2W[0:3,0:3]=Rs_HE[0]\n",
    "Rs_B2W[0:3,3]=Rs_HE[1][0:3,0]\n",
    "Rs_B2W[3,3]=1\n",
    "\n",
    "Rs_W2B_2=np.zeros([4,4])\n",
    "Rs_W2B_2[0:3,0:3]=Rs_HE_2[0]\n",
    "Rs_W2B_2[0:3,3]=Rs_HE_2[1][0:3,0]\n",
    "Rs_W2B_2[3,3]=1\n",
    "Rs_B2W_2=np.linalg.inv(Rs_W2B_2)\n",
    "print(Rs_B2W_2-Real_B2N)\n",
    "\n",
    "print(\"Err H2T\")\n",
    "print(Real_H2T-Rs_H2T)\n",
    "\n",
    "print(\"Err B2W\")\n",
    "print(Real_B2N-Rs_B2W)"
   ]
  },
  {
   "cell_type": "code",
   "execution_count": 246,
   "id": "5435d904-9e45-4f10-ae5e-e98e2e7c6a81",
   "metadata": {},
   "outputs": [
    {
     "data": {
      "text/plain": [
       "array([[-5.99958541e-01, -6.80179963e-01, -1.24551276e+00,\n",
       "         1.08770513e+00],\n",
       "       [ 1.15592315e+00,  1.13204577e+00,  7.61557530e-01,\n",
       "        -5.85177991e-01],\n",
       "       [-5.55964606e-01, -4.51865810e-01,  4.83955235e-01,\n",
       "         4.97472863e-01],\n",
       "       [-4.63208500e-03, -1.19487502e-03, -3.09113487e-03,\n",
       "         3.28831530e-03]])"
      ]
     },
     "execution_count": 246,
     "metadata": {},
     "output_type": "execute_result"
    }
   ],
   "source": [
    "Rs_B2W_2"
   ]
  },
  {
   "cell_type": "code",
   "execution_count": 3,
   "id": "ebd1d526-74d6-49cb-82f4-325d6d0daa4b",
   "metadata": {},
   "outputs": [
    {
     "data": {
      "text/plain": [
       "array([[0.24794735, 0.88149746, 0.30461599],\n",
       "       [0.93257289, 0.14986755, 0.1318222 ],\n",
       "       [0.0034502 , 0.09663355, 0.88646328]])"
      ]
     },
     "execution_count": 3,
     "metadata": {},
     "output_type": "execute_result"
    }
   ],
   "source": [
    "np.random.random((3,3))"
   ]
  },
  {
   "cell_type": "code",
   "execution_count": 2,
   "id": "f1987b68-30c8-4a76-a36e-8ff0ddc3d969",
   "metadata": {},
   "outputs": [
    {
     "data": {
      "text/plain": [
       "<function AHATNDITracker.UVD_RigidTransform(p, q, w=[])>"
      ]
     },
     "execution_count": 2,
     "metadata": {},
     "output_type": "execute_result"
    }
   ],
   "source": [
    "UVD_RigidTransform"
   ]
  },
  {
   "cell_type": "code",
   "execution_count": 21,
   "id": "e9f344ae-1845-4cd9-aa94-33afb73bb6f3",
   "metadata": {},
   "outputs": [
    {
     "name": "stdout",
     "output_type": "stream",
     "text": [
      "[[ 6.63514119e-01  5.77801408e-01  4.75283648e-01  8.40536760e+02]\n",
      " [ 6.48699159e-01 -7.60800313e-01  1.92946704e-02  6.52609671e+02]\n",
      " [ 3.72744436e-01  2.95513816e-01 -8.79621038e-01  2.99750469e+02]\n",
      " [ 0.00000000e+00  0.00000000e+00  0.00000000e+00  1.00000000e+00]]\n"
     ]
    }
   ],
   "source": [
    "def Gen_random_Tran():\n",
    "    Tran=np.zeros([4,4])\n",
    "    Tran[0:3,3]=np.random.random((3))*1000\n",
    "    Random_direc_1=np.random.random((1,3))\n",
    "    Random_direc_1=Random_direc_1/np.linalg.norm(Random_direc_1)\n",
    "    Random_direc_2=np.random.random((1,3))\n",
    "    Random_direc_2=np.cross(Random_direc_1,Random_direc_2)\n",
    "    Random_direc_2=Random_direc_2/np.linalg.norm(Random_direc_2)\n",
    "    Random_posi=np.zeros([3,3])\n",
    "    Random_posi[1,:]=Random_direc_1\n",
    "    Random_posi[2,:]=Random_direc_2\n",
    "    Target=np.array([[0,0,0],\n",
    "                    [1,0,0],\n",
    "                    [0,1,0]])\n",
    "    rs_t=UVD_RigidTransform(Random_posi,Target)\n",
    "    Tran[0:3,0:3]=rs_t[0][0:3,0:3]\n",
    "    Tran[3,3]=1\n"
   ]
  },
  {
   "cell_type": "code",
   "execution_count": 17,
   "id": "2c58d619-d168-4e6d-b264-06b513c7f1ac",
   "metadata": {},
   "outputs": [
    {
     "data": {
      "text/plain": [
       "(array([[ 9.88423858e-01,  1.23266894e-02,  1.51216166e-01,\n",
       "          1.11022302e-16],\n",
       "        [-1.31994260e-01, -4.21556833e-01,  8.97143997e-01,\n",
       "         -2.22044605e-16],\n",
       "        [ 7.48050236e-02, -9.06718197e-01, -4.15049779e-01,\n",
       "         -8.32667268e-17],\n",
       "        [ 0.00000000e+00,  0.00000000e+00,  0.00000000e+00,\n",
       "          1.00000000e+00]]),\n",
       " 2.691376001635481e-16)"
      ]
     },
     "execution_count": 17,
     "metadata": {},
     "output_type": "execute_result"
    }
   ],
   "source": [
    "rs_t"
   ]
  },
  {
   "cell_type": "code",
   "execution_count": 14,
   "id": "3be6e484-1960-495f-b218-1b8a83fccc91",
   "metadata": {},
   "outputs": [
    {
     "data": {
      "text/plain": [
       "array([[ 0.09739177,  0.79798781, -0.5947523 ]])"
      ]
     },
     "execution_count": 14,
     "metadata": {},
     "output_type": "execute_result"
    }
   ],
   "source": [
    "def d(a):\n",
    "    a=a.delete()"
   ]
  },
  {
   "cell_type": "code",
   "execution_count": 229,
   "id": "646d6050-69da-4f54-a839-76790a0ffafc",
   "metadata": {},
   "outputs": [
    {
     "data": {
      "text/plain": [
       "array([[ 1.        ,  0.        ,  0.        ],\n",
       "       [ 0.        ,  0.92307695, -0.38461531],\n",
       "       [ 0.        ,  0.38461531,  0.92307695]])"
      ]
     },
     "execution_count": 229,
     "metadata": {},
     "output_type": "execute_result"
    }
   ],
   "source": [
    "RigidTransform([0.9805807, 0.1961161, 0, 0 ]).rotation"
   ]
  }
 ],
 "metadata": {
  "kernelspec": {
   "display_name": "Python 3 (ipykernel)",
   "language": "python",
   "name": "python3"
  },
  "language_info": {
   "codemirror_mode": {
    "name": "ipython",
    "version": 3
   },
   "file_extension": ".py",
   "mimetype": "text/x-python",
   "name": "python",
   "nbconvert_exporter": "python",
   "pygments_lexer": "ipython3",
   "version": "3.8.10"
  }
 },
 "nbformat": 4,
 "nbformat_minor": 5
}
