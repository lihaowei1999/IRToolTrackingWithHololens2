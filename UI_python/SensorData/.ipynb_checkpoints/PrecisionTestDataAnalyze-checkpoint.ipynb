{
 "cells": [
  {
   "cell_type": "code",
   "execution_count": 1,
   "metadata": {},
   "outputs": [
    {
     "name": "stderr",
     "output_type": "stream",
     "text": [
      "WARNING:root:autolab_core not installed as catkin package, RigidTransform ros methods will be unavailable\n"
     ]
    }
   ],
   "source": [
    "from My_classes import *\n",
    "import numpy as np\n",
    "import os\n",
    "from scipy.io import savemat,loadmat\n",
    "import matplotlib.pyplot as plt\n",
    "from filterpy.kalman import KalmanFilter\n",
    "from filterpy.common import Q_discrete_white_noise\n",
    "from tqdm import tqdm\n",
    "Data=np.load(\"TestData/PrecisionTest/ZaxisTestTool_1Minus2.npy\",allow_pickle=True)\n",
    "Data=Data.tolist()\n",
    "HololensTrackingData=Data['HololensPose']\n",
    "NDITrackingData=Data['NDIPose']"
   ]
  },
  {
   "cell_type": "code",
   "execution_count": 26,
   "metadata": {},
   "outputs": [],
   "source": [
    "All_tf_hololens=[]\n",
    "All_tf_NDI=NDITrackingData\n",
    "All_error_hololens=[]\n",
    "All_tf_filtered=[]\n",
    "for i in range(len(HololensTrackingData)):\n",
    "    tf_thisfr=[]\n",
    "    error_thisfr=[]\n",
    "    tf_thisfilt=[]\n",
    "    for j in range(50):\n",
    "        target_Scene=HololensTrackingData[i][j]\n",
    "        tf_thisfr.append(target_Scene.Transformatrix[0])\n",
    "        error_thisfr.append(target_Scene.SearchingErr[0])\n",
    "        tf_thisfilt.append(target_Scene.TransformatrixFiltered[0])\n",
    "    All_tf_hololens.append(tf_thisfr)\n",
    "    All_error_hololens.append(error_thisfr)\n",
    "    All_tf_filtered.append(tf_thisfilt)\n",
    "savemat(\"/run/user/1000/gvfs/smb-share:server=192.168.249.160,share=f/Share/Lihaowei/HololensPrecisionTestData/ZaxisTestTool_1Minus2.mat\",{\"HololensPoses\":All_tf_hololens,\"NDIPoses\":All_tf_NDI,\"HololensError\":All_error_hololens,\"HololensPosesKalman\":All_tf_filtered})"
   ]
  },
  {
   "cell_type": "code",
   "execution_count": 41,
   "metadata": {},
   "outputs": [],
   "source": [
    "from My_classes import *\n",
    "import numpy as np\n",
    "import os\n",
    "from scipy.io import savemat,loadmat\n",
    "import matplotlib.pyplot as plt\n",
    "from filterpy.kalman import KalmanFilter\n",
    "from filterpy.common import Q_discrete_white_noise\n",
    "from tqdm import tqdm\n",
    "Data=np.load(\"TestData/PrecisionTest/PrecisionTest_Zline_speed100_1.npy\",allow_pickle=True)\n"
   ]
  },
  {
   "cell_type": "code",
   "execution_count": 42,
   "metadata": {},
   "outputs": [
    {
     "name": "stderr",
     "output_type": "stream",
     "text": [
      "100%|██████████| 503/503 [00:00<00:00, 248965.65it/s]\n"
     ]
    }
   ],
   "source": [
    "All_tf_hololens=[]\n",
    "All_error_hololens=[]\n",
    "All_error_filterd=[]\n",
    "All_tf_filtered=[]\n",
    "All_time_stamp=[]\n",
    "for i in tqdm(range(len(Data))):\n",
    "    target_Scene=Data[i][0]\n",
    "    All_tf_hololens.append(target_Scene.Transformatrix[0])\n",
    "    All_error_hololens.append(target_Scene.SearchingErr[0])\n",
    "    All_tf_filtered.append(target_Scene.TransformatrixFiltered[0])\n",
    "    All_error_filterd.append(target_Scene.SearchingErrFiltered[0])\n",
    "    All_time_stamp.append(target_Scene.timestamp)\n",
    "\n",
    "savemat(\"/run/user/1000/gvfs/smb-share:server=192.168.249.160,share=f/Share/Lihaowei/HololensPrecisionTestData/PrecisionTest_Zline_speed100_1.mat\",{\"HololensPoses\":All_tf_hololens,\"HololensError\":All_error_hololens,\"HololensPosesKalman\":All_tf_filtered,\"timestamp\":All_time_stamp,\"HololensErrorFiltered\":All_error_filterd})"
   ]
  }
 ],
 "metadata": {
  "interpreter": {
   "hash": "916dbcbb3f70747c44a77c7bcd40155683ae19c65e1c03b4aa3499c5328201f1"
  },
  "kernelspec": {
   "display_name": "Python 3 (ipykernel)",
   "language": "python",
   "name": "python3"
  },
  "language_info": {
   "codemirror_mode": {
    "name": "ipython",
    "version": 3
   },
   "file_extension": ".py",
   "mimetype": "text/x-python",
   "name": "python",
   "nbconvert_exporter": "python",
   "pygments_lexer": "ipython3",
   "version": "3.8.10"
  }
 },
 "nbformat": 4,
 "nbformat_minor": 4
}
