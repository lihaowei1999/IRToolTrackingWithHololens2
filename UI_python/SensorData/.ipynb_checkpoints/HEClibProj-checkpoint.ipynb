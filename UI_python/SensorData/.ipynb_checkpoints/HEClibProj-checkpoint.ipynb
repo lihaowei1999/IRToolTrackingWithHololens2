{
 "cells": [
  {
   "cell_type": "code",
   "execution_count": 1,
   "id": "fbdfeda8",
   "metadata": {},
   "outputs": [
    {
     "name": "stderr",
     "output_type": "stream",
     "text": [
      "WARNING:root:autolab_core not installed as catkin package, RigidTransform ros methods will be unavailable\n"
     ]
    },
    {
     "name": "stdout",
     "output_type": "stream",
     "text": [
      "[easydl] tensorflow not available!\n"
     ]
    }
   ],
   "source": [
    "import sys\n",
    "import os\n",
    "from numpy.core.defchararray import lower\n",
    "from numpy.core.numeric import NaN\n",
    "from My_classes import *\n",
    "import queue\n",
    "import copy\n",
    "from scipy.io import savemat\n",
    "from AHATNDITracker import *\n",
    "from FunctionFactory import *\n",
    "from XMLDataLoader import *\n",
    "import ipywidgets as wg\n",
    "from ipywidgets import Layout\n",
    "from sksurgerynditracker.nditracker import NDITracker\n",
    "import math\n",
    "from easydl import clear_output\n",
    "from tqdm import tqdm\n",
    "import math"
   ]
  },
  {
   "cell_type": "code",
   "execution_count": 6,
   "id": "38386181-b161-49c1-9fe6-4021386b942e",
   "metadata": {},
   "outputs": [
    {
     "data": {
      "text/plain": [
       "<function AHATNDITracker.UVD_RigidTransform(p, q, w=[])>"
      ]
     },
     "execution_count": 6,
     "metadata": {},
     "output_type": "execute_result"
    }
   ],
   "source": [
    "UVD_RigidTransform"
   ]
  },
  {
   "cell_type": "markdown",
   "id": "4bacb862-a65b-4958-8c06-b321a6a7e7a6",
   "metadata": {},
   "source": [
    "## Image, tracker registration"
   ]
  },
  {
   "cell_type": "code",
   "execution_count": 2,
   "id": "94dda47b-ecbe-4074-ad72-ba858d185aec",
   "metadata": {},
   "outputs": [],
   "source": [
    "## Metal Ball Position from Slicer:\n",
    "Spine_image_metal_position=np.array([[-8.520,171.257,-1365.909],\n",
    "                                    [-54.881,163.665,-1360.393],\n",
    "                                    [-52.313,124.647,-1317.729],\n",
    "                                    [-1.558,131.839,-1321.766]])\n",
    "Model_1_image_metal_position=np.array([[-1.370,65.662,-1205.166],\n",
    "                                      [-31.315,33.758,-1157.439],\n",
    "                                      [-32.464,33.036,-1245.633],\n",
    "                                      [-50.800,13.666,-1205.381]])\n",
    "Model_2_image_metal_position=np.array([[-16.959,52.065,-1063.782],\n",
    "                                      [-33.964,34.385,-1053.219],\n",
    "                                      [-32.279,34.813,-1011.003],\n",
    "                                      [-53.330,15.493,-1093.595]])\n",
    "Model_3_image_metal_position=np.array([[-7.861,61.972,-903.243],\n",
    "                                      [-28.711,38.061,-865.601],\n",
    "                                      [-34.873,33.976,-935.358],\n",
    "                                      [-55.021,10.539,-896.952]])"
   ]
  },
  {
   "cell_type": "markdown",
   "id": "d38e7e31-1e43-4937-b745-684e498cdc3c",
   "metadata": {},
   "source": [
    "### Model 1"
   ]
  },
  {
   "cell_type": "code",
   "execution_count": 20,
   "id": "ed38a73e-5f7e-47a3-a6cc-f711a7cb0b2d",
   "metadata": {},
   "outputs": [],
   "source": [
    "SETTINGS = {\n",
    "        \"tracker type\": \"polaris\",\n",
    "        \"romfiles\" : [\"tracker/Pointer_1.rom\",\"tracker/Model_1.rom\"]\n",
    "}\n",
    "TRACKER = NDITracker(SETTINGS)\n",
    "TRACKER.start_tracking()\n",
    "tooltip=np.array([[145.77],[19.10],[176.65],[1]])"
   ]
  },
  {
   "cell_type": "code",
   "execution_count": 28,
   "id": "f1d23a6e-ceae-4eb8-887b-93142f30fe88",
   "metadata": {},
   "outputs": [
    {
     "name": "stdout",
     "output_type": "stream",
     "text": [
      "[[ 1.72437785e+02]\n",
      " [ 1.22969392e+02]\n",
      " [-1.34445454e+03]\n",
      " [ 1.00000000e+00]]\n"
     ]
    }
   ],
   "source": [
    "port_handles, timestamps, framenumbers, tracking, quality = TRACKER.get_frame()\n",
    "print(tracking[0]@tooltip)"
   ]
  },
  {
   "cell_type": "code",
   "execution_count": 39,
   "id": "67890186-2855-4b85-8d0d-2deb71b99947",
   "metadata": {},
   "outputs": [
    {
     "name": "stdout",
     "output_type": "stream",
     "text": [
      "[[ 1.92163812e+02]\n",
      " [-1.51338803e+00]\n",
      " [-1.32634544e+03]\n",
      " [ 1.00000000e+00]]\n"
     ]
    }
   ],
   "source": [
    "port_handles, timestamps, framenumbers, tracking, quality = TRACKER.get_frame()\n",
    "print(tracking[0]@tooltip)"
   ]
  },
  {
   "cell_type": "code",
   "execution_count": 56,
   "id": "3bd03b72-acc3-4699-a61c-714e0575b436",
   "metadata": {},
   "outputs": [
    {
     "name": "stdout",
     "output_type": "stream",
     "text": [
      "Pointer pose\n",
      "[[ 8.04395235e-01  5.49738541e-01  2.25246185e-01  2.61768703e+01]\n",
      " [-3.97007005e-01  7.79463736e-01 -4.84584072e-01  1.46687012e+02]\n",
      " [-4.41965773e-01  3.00372805e-01  8.45246966e-01 -1.42000391e+03]\n",
      " [ 0.00000000e+00  0.00000000e+00  0.00000000e+00  1.00000000e+00]]\n",
      "Target_pose\n",
      "[[ 8.97423251e-01  4.30415931e-01  9.68175326e-02  1.66581696e+02]\n",
      " [-3.66073470e-01  8.48985734e-01 -3.81068810e-01  2.30044708e+01]\n",
      " [-2.46214791e-01  3.06537680e-01  9.19463391e-01 -1.30039673e+03]\n",
      " [ 0.00000000e+00  0.00000000e+00  0.00000000e+00  1.00000000e+00]]\n",
      "Metal Ball Position\n",
      "[[ 33.28836974]\n",
      " [ -1.36479307]\n",
      " [-22.15214009]\n",
      " [  1.        ]]\n",
      "Current Metal Ball Positions\n",
      "[[-38.65039953   2.30809474 -26.01029569]\n",
      " [  6.72876558  46.88743034 -18.33301752]\n",
      " [  4.76545559 -38.81215646 -28.86066903]\n",
      " [ 33.28836974  -1.36479307 -22.15214009]]\n"
     ]
    }
   ],
   "source": [
    "Current_Metal_Ball_Num=3\n",
    "Real_Metal_Ball_Position=np.load(\"HE_Experiment/Model_1_real_metal_position.npy\")\n",
    "port_handles, timestamps, framenumbers, tracking, quality = TRACKER.get_frame()\n",
    "Pointer_pose=tracking[0]\n",
    "Target_pose=tracking[1]\n",
    "print(\"Pointer pose\")\n",
    "print(Pointer_pose)\n",
    "print(\"Target_pose\")\n",
    "print(Target_pose)\n",
    "if not math.isnan(Pointer_pose[0][0]) and not math.isnan(Target_pose[0][0]):\n",
    "    Current_Metal_Ball_Position=np.linalg.inv(Target_pose)@Pointer_pose@tooltip\n",
    "    print(\"Metal Ball Position\")\n",
    "    print(Current_Metal_Ball_Position)\n",
    "    Real_Metal_Ball_Position[Current_Metal_Ball_Num,:]=Current_Metal_Ball_Position.T[0,0:3]\n",
    "    print(\"Current Metal Ball Positions\")\n",
    "    print(Real_Metal_Ball_Position)\n",
    "    np.save(\"HE_Experiment/Model_1_real_metal_position.npy\",Real_Metal_Ball_Position)"
   ]
  },
  {
   "cell_type": "code",
   "execution_count": 445,
   "id": "aa73e406-16f3-46ee-a832-da294083d092",
   "metadata": {},
   "outputs": [
    {
     "name": "stdout",
     "output_type": "stream",
     "text": [
      "[[-40.38695442   4.95179315   3.26828921  31.28096958]\n",
      " [  1.25678195  47.04636173 -40.56899261  -1.59556311]\n",
      " [-23.2218773  -16.88570162 -26.92256469 -21.63192852]\n",
      " [  1.           1.           1.           1.        ]]\n",
      "[[-40.52102379   4.86329687   3.26583884  31.50598559]\n",
      " [  1.47914399  46.1981372  -40.17672846  -1.36196476]\n",
      " [-23.35001875 -16.80411067 -26.66449208 -21.84345062]]\n",
      "0.5439131470066588\n"
     ]
    }
   ],
   "source": [
    "Model_1_Real_Metal_Ball_Position=np.load(\"HE_Experiment/Model_1_real_metal_position.npy\")\n",
    "rs_uvd=UVD_RigidTransform(Model_1_image_metal_position,Model_1_Real_Metal_Ball_Position)\n",
    "Test_cache=np.ones([4,4])\n",
    "Test_cache[0:3,:]=Model_1_image_metal_position.T\n",
    "Transfered_Position=rs_uvd[0]@Test_cache\n",
    "print(Transfered_Position)\n",
    "print(Model_1_Real_Metal_Ball_Position.T)\n",
    "print(rs_uvd[1])"
   ]
  },
  {
   "cell_type": "markdown",
   "id": "727559b9-4237-4e05-8fa7-d00abca9d62f",
   "metadata": {},
   "source": [
    "### Model 2"
   ]
  },
  {
   "cell_type": "code",
   "execution_count": 430,
   "id": "3f2a7301-a24e-4159-b5f5-c9d677e52ff5",
   "metadata": {},
   "outputs": [],
   "source": [
    "SETTINGS = {\n",
    "        \"tracker type\": \"polaris\",\n",
    "        \"romfiles\" : [\"tracker/Pointer_1.rom\",\"tracker/Model_2.rom\"]\n",
    "}\n",
    "TRACKER = NDITracker(SETTINGS)\n",
    "TRACKER.start_tracking()\n",
    "tooltip=np.array([[145.77],[19.10],[176.65],[1]])"
   ]
  },
  {
   "cell_type": "code",
   "execution_count": 468,
   "id": "c523f544-05e9-4156-8a0c-72bbda2db543",
   "metadata": {},
   "outputs": [
    {
     "name": "stdout",
     "output_type": "stream",
     "text": [
      "Pointer pose\n",
      "[[ 5.71459940e-01 -8.19470149e-01 -4.36143484e-02 -5.79276695e+01]\n",
      " [ 7.10756058e-01  4.67681932e-01  5.25451651e-01  1.00544006e+02]\n",
      " [-4.10194300e-01 -3.31273731e-01  8.49704861e-01 -1.68381689e+03]\n",
      " [ 0.00000000e+00  0.00000000e+00  0.00000000e+00  1.00000000e+00]]\n",
      "Target_pose\n",
      "[[ 9.99504156e-01  3.14593285e-02 -1.32384312e-03 -3.37013664e+01]\n",
      " [-3.14869641e-02  9.98766076e-01 -3.84043691e-02  3.41989807e+02]\n",
      " [ 1.14033932e-04  3.84270103e-02  9.99261403e-01 -1.58601611e+03]\n",
      " [ 0.00000000e+00  0.00000000e+00  0.00000000e+00  1.00000000e+00]]\n",
      "Metal Ball Position\n",
      "[[ 36.83598186]\n",
      " [-35.44803669]\n",
      " [-12.47301982]\n",
      " [  1.        ]]\n",
      "Current Metal Ball Positions\n",
      "[[-20.05083246 -19.82106431 -20.85366991]\n",
      " [  1.5977794   -3.67984029 -21.83191282]\n",
      " [-11.16224571  36.52501861 -31.40200451]\n",
      " [ 36.83598186 -35.44803669 -12.47301982]]\n"
     ]
    }
   ],
   "source": [
    "Current_Metal_Ball_Num=3\n",
    "Real_Metal_Ball_Position=np.load(\"HE_Experiment/Model_2_real_metal_position.npy\")\n",
    "port_handles, timestamps, framenumbers, tracking, quality = TRACKER.get_frame()\n",
    "Pointer_pose=tracking[0]\n",
    "Target_pose=tracking[1]\n",
    "print(\"Pointer pose\")\n",
    "print(Pointer_pose)\n",
    "print(\"Target_pose\")\n",
    "print(Target_pose)\n",
    "\n",
    "\n",
    "if not math.isnan(Pointer_pose[0][0]) and not math.isnan(Target_pose[0][0]):\n",
    "    Current_Metal_Ball_Position=np.linalg.inv(Target_pose)@Pointer_pose@tooltip\n",
    "    print(\"Metal Ball Position\")\n",
    "    print(Current_Metal_Ball_Position)\n",
    "    Real_Metal_Ball_Position[Current_Metal_Ball_Num,:]=Current_Metal_Ball_Position.T[0,0:3]\n",
    "    print(\"Current Metal Ball Positions\")\n",
    "    print(Real_Metal_Ball_Position)\n",
    "    np.save(\"HE_Experiment/Model_2_real_metal_position.npy\",Real_Metal_Ball_Position)"
   ]
  },
  {
   "cell_type": "code",
   "execution_count": 3,
   "id": "a5a85b30-4210-4cd2-bd38-28edd848b14f",
   "metadata": {},
   "outputs": [
    {
     "name": "stdout",
     "output_type": "stream",
     "text": [
      "[[-20.13248041   1.02560032 -10.56143262  36.8889958 ]\n",
      " [-19.84686891  -3.59575083  35.99823737 -34.97954031]\n",
      " [-20.80568804 -22.05715711 -31.18238756 -12.51537435]\n",
      " [  1.           1.           1.           1.        ]]\n",
      "[[-20.05083246   1.5977794  -11.16224571  36.83598186]\n",
      " [-19.82106431  -3.67984029  36.52501861 -35.44803669]\n",
      " [-20.85366991 -21.83191282 -31.40200451 -12.47301982]]\n",
      "0.6222809377664728\n"
     ]
    }
   ],
   "source": [
    "Model_2_Real_Metal_Ball_Position=np.load(\"HE_Experiment/Model_2_real_metal_position.npy\")\n",
    "rs_uvd=UVD_RigidTransform(Model_2_image_metal_position,Model_2_Real_Metal_Ball_Position)\n",
    "Test_cache=np.ones([4,4])\n",
    "Test_cache[0:3,:]=Model_2_image_metal_position.T\n",
    "Transfered_Position=rs_uvd[0]@Test_cache\n",
    "print(Transfered_Position)\n",
    "print(Model_2_Real_Metal_Ball_Position.T)\n",
    "print(rs_uvd[1])"
   ]
  },
  {
   "cell_type": "markdown",
   "id": "92989861-d0ca-4eb1-8e0c-a28e3f67f113",
   "metadata": {},
   "source": [
    "### Model 3"
   ]
  },
  {
   "cell_type": "code",
   "execution_count": 83,
   "id": "bd3a1c76-4482-4192-aefb-ea7087bed1be",
   "metadata": {},
   "outputs": [],
   "source": [
    "SETTINGS = {\n",
    "        \"tracker type\": \"polaris\",\n",
    "        \"romfiles\" : [\"tracker/Pointer_re.rom\",\"tracker/Model_3_re.rom\"]\n",
    "}\n",
    "TRACKER = NDITracker(SETTINGS)\n",
    "TRACKER.start_tracking()\n",
    "tooltip=np.array([[52.09],[221.50],[34.61],[1]])"
   ]
  },
  {
   "cell_type": "code",
   "execution_count": 94,
   "id": "11568f98-c2dc-4c03-bbab-81c8e80ce970",
   "metadata": {},
   "outputs": [
    {
     "name": "stdout",
     "output_type": "stream",
     "text": [
      "Pointer pose\n",
      "[[ 5.75287074e-01  6.87777723e-01 -4.42726310e-01  7.96420746e+01]\n",
      " [-7.89963266e-01  6.07558513e-01 -8.26480034e-02 -3.07095642e+02]\n",
      " [ 2.12138683e-01  3.97283850e-01  8.92839695e-01 -1.94216406e+03]\n",
      " [ 0.00000000e+00  0.00000000e+00  0.00000000e+00  1.00000000e+00]]\n",
      "Target_pose\n",
      "[[ 9.25184422e-01  3.25950805e-01  1.94396136e-01  2.17116455e+02]\n",
      " [-1.89066836e-01  8.39983036e-01 -5.08608130e-01 -2.07094437e+02]\n",
      " [-3.29070686e-01  4.33802457e-01  8.38765708e-01 -1.79273535e+03]\n",
      " [ 0.00000000e+00  0.00000000e+00  0.00000000e+00  1.00000000e+00]]\n",
      "Metal Ball Position\n",
      "[[35.498422  ]\n",
      " [-6.75701399]\n",
      " [-5.80156405]\n",
      " [ 1.        ]]\n",
      "Current Metal Ball Positions\n",
      "[[-27.22048163 -18.46712322 -34.17559954]\n",
      " [ -0.18719185  21.91711916 -25.32083454]\n",
      " [  8.31549551 -46.61640582 -15.17396393]\n",
      " [ 35.498422    -6.75701399  -5.80156405]]\n"
     ]
    }
   ],
   "source": [
    "Current_Metal_Ball_Num=3\n",
    "Real_Metal_Ball_Position=np.load(\"HE_Experiment/Model_3_real_metal_position.npy\")\n",
    "port_handles, timestamps, framenumbers, tracking, quality = TRACKER.get_frame()\n",
    "Pointer_pose=tracking[0]\n",
    "Target_pose=tracking[1]\n",
    "print(\"Pointer pose\")\n",
    "print(Pointer_pose)\n",
    "print(\"Target_pose\")\n",
    "print(Target_pose)\n",
    "\n",
    "\n",
    "if not math.isnan(Pointer_pose[0][0]) and not math.isnan(Target_pose[0][0]):\n",
    "    Current_Metal_Ball_Position=np.linalg.inv(Target_pose)@Pointer_pose@tooltip\n",
    "    print(\"Metal Ball Position\")\n",
    "    print(Current_Metal_Ball_Position)\n",
    "    Real_Metal_Ball_Position[Current_Metal_Ball_Num,:]=Current_Metal_Ball_Position.T[0,0:3]\n",
    "    print(\"Current Metal Ball Positions\")\n",
    "    print(Real_Metal_Ball_Position)\n",
    "    np.save(\"HE_Experiment/Model_3_real_metal_position.npy\",Real_Metal_Ball_Position)"
   ]
  },
  {
   "cell_type": "code",
   "execution_count": 95,
   "id": "912f049a-b5ef-4b17-b5f6-9cfa3dca004d",
   "metadata": {},
   "outputs": [
    {
     "name": "stdout",
     "output_type": "stream",
     "text": [
      "[[-27.55673455  -0.13508975   8.68690935  35.41115898]\n",
      " [-18.03313471  21.75759922 -47.06352205  -6.58436633]\n",
      " [-34.52023334 -25.13250336 -14.81154813  -6.00767723]\n",
      " [  1.           1.           1.           1.        ]]\n",
      "[[-27.22048163  -0.18719185   8.31549551  35.498422  ]\n",
      " [-18.46712322  21.91711916 -46.61640582  -6.75701399]\n",
      " [-34.17559954 -25.32083454 -15.17396393  -5.80156405]]\n",
      "0.5833194861904757\n"
     ]
    }
   ],
   "source": [
    "Model_3_Real_Metal_Ball_Position=np.load(\"HE_Experiment/Model_3_real_metal_position.npy\")\n",
    "rs_uvd=UVD_RigidTransform(Model_3_image_metal_position,Model_3_Real_Metal_Ball_Position)\n",
    "Test_cache=np.ones([4,4])\n",
    "Test_cache[0:3,:]=Model_3_image_metal_position.T\n",
    "Transfered_Position=rs_uvd[0]@Test_cache\n",
    "print(Transfered_Position)\n",
    "print(Model_3_Real_Metal_Ball_Position.T)\n",
    "print(rs_uvd[1])"
   ]
  },
  {
   "cell_type": "markdown",
   "id": "66d921c7-6ee5-4d5d-831a-eeb1e4eec310",
   "metadata": {},
   "source": [
    "### Spine"
   ]
  },
  {
   "cell_type": "code",
   "execution_count": 502,
   "id": "62bd2118-f842-4235-9cfe-3352dd6c8e52",
   "metadata": {},
   "outputs": [],
   "source": [
    "SETTINGS = {\n",
    "        \"tracker type\": \"polaris\",\n",
    "        \"romfiles\" : [\"tracker/Pointer_1.rom\",\"tracker/Spine.rom\"]\n",
    "}\n",
    "TRACKER = NDITracker(SETTINGS)\n",
    "TRACKER.start_tracking()\n",
    "tooltip=np.array([[145.77],[19.10],[176.65],[1]])"
   ]
  },
  {
   "cell_type": "code",
   "execution_count": 524,
   "id": "64030f4c-d092-4cf5-b39c-6d77d194d606",
   "metadata": {},
   "outputs": [
    {
     "name": "stdout",
     "output_type": "stream",
     "text": [
      "Pointer pose\n",
      "[[ 7.72100586e-02 -9.91377072e-01  1.05877800e-01 -6.24229584e+01]\n",
      " [ 7.77539089e-01  1.26345220e-01  6.16011242e-01  7.38250885e+01]\n",
      " [-6.24076576e-01  3.47618644e-02  7.80589547e-01 -1.54078345e+03]\n",
      " [ 0.00000000e+00  0.00000000e+00  0.00000000e+00  1.00000000e+00]]\n",
      "Target_pose\n",
      "[[ 7.48502230e-01 -2.42640422e-01  6.17146690e-01 -6.97233276e+01]\n",
      " [-3.61277313e-03  9.29148074e-01  3.69690145e-01  2.70104340e+02]\n",
      " [-6.63122432e-01 -2.78943509e-01  6.94592801e-01 -1.46747070e+03]\n",
      " [ 0.00000000e+00  0.00000000e+00  0.00000000e+00  1.00000000e+00]]\n",
      "Metal Ball Position\n",
      "[[30.67447391]\n",
      " [29.02055072]\n",
      " [ 3.89686514]\n",
      " [ 1.        ]]\n",
      "Current Metal Ball Positions\n",
      "[[ -8.21588026  19.92624678 -40.77907703]\n",
      " [  1.54200049 -25.77835778 -33.81032792]\n",
      " [ 40.15860069 -20.73519876   9.3034619 ]\n",
      " [ 30.67447391  29.02055072   3.89686514]]\n"
     ]
    }
   ],
   "source": [
    "Current_Metal_Ball_Num=3\n",
    "Real_Metal_Ball_Position=np.load(\"HE_Experiment/Spine_real_metal_position.npy\")\n",
    "port_handles, timestamps, framenumbers, tracking, quality = TRACKER.get_frame()\n",
    "Pointer_pose=tracking[0]\n",
    "Target_pose=tracking[1]\n",
    "print(\"Pointer pose\")\n",
    "print(Pointer_pose)\n",
    "print(\"Target_pose\")\n",
    "print(Target_pose)\n",
    "\n",
    "\n",
    "if not math.isnan(Pointer_pose[0][0]) and not math.isnan(Target_pose[0][0]):\n",
    "    Current_Metal_Ball_Position=np.linalg.inv(Target_pose)@Pointer_pose@tooltip\n",
    "    print(\"Metal Ball Position\")\n",
    "    print(Current_Metal_Ball_Position)\n",
    "    Real_Metal_Ball_Position[Current_Metal_Ball_Num,:]=Current_Metal_Ball_Position.T[0,0:3]\n",
    "    print(\"Current Metal Ball Positions\")\n",
    "    print(Real_Metal_Ball_Position)\n",
    "    np.save(\"HE_Experiment/Spine_real_metal_position.npy\",Real_Metal_Ball_Position)"
   ]
  },
  {
   "cell_type": "code",
   "execution_count": 525,
   "id": "6509acc6-f1fc-448c-be75-81a1961847bc",
   "metadata": {},
   "outputs": [
    {
     "name": "stdout",
     "output_type": "stream",
     "text": [
      "[[ -7.97229015   1.5326847   39.95363361  30.64516668]\n",
      " [ 19.85268678 -26.0107113  -20.85500984  29.44627532]\n",
      " [-40.48098705 -33.87710859   9.09340771   3.87561002]\n",
      " [  1.           1.           1.           1.        ]]\n",
      "[[ -8.21588026   1.54200049  40.15860069  30.67447391]\n",
      " [ 19.92624678 -25.77835778 -20.73519876  29.02055072]\n",
      " [-40.77907703 -33.81032792   9.3034619    3.89686514]]\n",
      "0.39871394971811586\n"
     ]
    }
   ],
   "source": [
    "Spine_Real_Metal_Ball_Position=np.load(\"HE_Experiment/Spine_real_metal_position.npy\")\n",
    "rs_uvd=UVD_RigidTransform(Spine_image_metal_position,Spine_Real_Metal_Ball_Position)\n",
    "Test_cache=np.ones([4,4])\n",
    "Test_cache[0:3,:]=Spine_image_metal_position.T\n",
    "Transfered_Position=rs_uvd[0]@Test_cache\n",
    "print(Transfered_Position)\n",
    "print(Spine_Real_Metal_Ball_Position.T)\n",
    "print(rs_uvd[1])"
   ]
  },
  {
   "cell_type": "markdown",
   "id": "e1151999-9cce-464f-8b1f-b2b6778dff40",
   "metadata": {},
   "source": [
    "### Tooltip"
   ]
  },
  {
   "cell_type": "code",
   "execution_count": 4,
   "id": "d28c033c-53f8-4c42-a4de-f9f7652a536e",
   "metadata": {},
   "outputs": [],
   "source": [
    "SETTINGS = {\n",
    "        \"tracker type\": \"polaris\",\n",
    "        \"romfiles\" : [\"tracker/Pointer_1.rom\",\"tracker/Drill.rom\"]\n",
    "}\n",
    "TRACKER = NDITracker(SETTINGS)\n",
    "TRACKER.start_tracking()\n",
    "tooltip=np.array([[145.77],[19.10],[176.65],[1]])"
   ]
  },
  {
   "cell_type": "code",
   "execution_count": 7,
   "id": "bb4881ef-82c4-4f97-8552-0021df81fd17",
   "metadata": {},
   "outputs": [
    {
     "name": "stderr",
     "output_type": "stream",
     "text": [
      "100%|███████████████████████████████████████| 2000/2000 [00:33<00:00, 60.06it/s]\n"
     ]
    }
   ],
   "source": [
    "Drill_outs=[]\n",
    "for i in tqdm(range(2000)):\n",
    "    port_handles, timestamps, framenumbers, tracking, quality = TRACKER.get_frame()\n",
    "    PointerPose=tracking[0]\n",
    "    DrillPose=tracking[1]\n",
    "    DrillOut=np.linalg.inv(DrillPose)@PointerPose@tooltip\n",
    "    Drill_outs.append(DrillOut)"
   ]
  },
  {
   "cell_type": "code",
   "execution_count": 8,
   "id": "e873b8c4-2492-4aeb-a229-6fd3b99e2e54",
   "metadata": {},
   "outputs": [
    {
     "data": {
      "text/plain": [
       "array([[  2.42640202],\n",
       "       [  0.09212934],\n",
       "       [-50.0868371 ],\n",
       "       [  1.        ]])"
      ]
     },
     "execution_count": 8,
     "metadata": {},
     "output_type": "execute_result"
    }
   ],
   "source": [
    "np.mean(np.array(Drill_outs),0)"
   ]
  },
  {
   "cell_type": "code",
   "execution_count": 9,
   "id": "93e42947-5289-4aac-b440-a482d274e5ee",
   "metadata": {},
   "outputs": [],
   "source": [
    "np.mean(np.array(Drill_outs),0)\n",
    "np.save(\"HE_Experiment/Drill_out.npy\",np.mean(np.array(Drill_outs),0))"
   ]
  },
  {
   "cell_type": "markdown",
   "id": "f2563250-e678-4062-bd8c-93de59c9bc10",
   "metadata": {},
   "source": [
    "### Final Process"
   ]
  },
  {
   "cell_type": "code",
   "execution_count": 63,
   "id": "fafd81a9-7838-4e40-9827-6d0c5ec26cac",
   "metadata": {},
   "outputs": [
    {
     "name": "stdout",
     "output_type": "stream",
     "text": [
      "0.6855711431196138\n",
      "0.6222809377664728\n",
      "0.5833194861904759\n",
      "0.39871394971811586\n"
     ]
    }
   ],
   "source": [
    "# Final Process\n",
    "Model_1_Real_Metal_Ball_Position=np.load(\"HE_Experiment/Model_1_real_metal_position.npy\")\n",
    "rs_uvd_Model_1=UVD_RigidTransform(Model_1_image_metal_position,Model_1_Real_Metal_Ball_Position)\n",
    "Model_2_Real_Metal_Ball_Position=np.load(\"HE_Experiment/Model_2_real_metal_position.npy\")\n",
    "rs_uvd_Model_2=UVD_RigidTransform(Model_2_image_metal_position,Model_2_Real_Metal_Ball_Position)\n",
    "Model_3_Real_Metal_Ball_Position=np.load(\"HE_Experiment/Model_3_real_metal_position.npy\")\n",
    "rs_uvd_Model_3=UVD_RigidTransform(Model_3_image_metal_position,Model_3_Real_Metal_Ball_Position)\n",
    "Spine_Real_Metal_Ball_Position=np.load(\"HE_Experiment/Spine_real_metal_position.npy\")\n",
    "rs_uvd_Spine=UVD_RigidTransform(Spine_image_metal_position,Spine_Real_Metal_Ball_Position)\n",
    "savemat(\"HE_Experiment/Image2Tracker.mat\",{\"Image2Tracker_Model_1\":rs_uvd_Model_1[0],\n",
    "                                       \"Image2Tracker_Model_2\":rs_uvd_Model_2[0],\n",
    "                                       \"Image2Tracker_Model_3\":rs_uvd_Model_3[0],\n",
    "                                       \"Image2Tracker_Spine\":rs_uvd_Spine[0]})\n",
    "print(rs_uvd_Model_1[1])\n",
    "print(rs_uvd_Model_2[1])\n",
    "print(rs_uvd_Model_3[1])\n",
    "print(rs_uvd_Spine[1])"
   ]
  },
  {
   "cell_type": "code",
   "execution_count": 59,
   "id": "99104c10-30e6-4abb-a493-c534957d74ce",
   "metadata": {},
   "outputs": [
    {
     "data": {
      "text/plain": [
       "array([[-6.45068208e-01, -7.63160049e-01,  3.83893981e-02,\n",
       "         5.69108966e+01],\n",
       "       [ 1.21029748e-01, -5.24378311e-02,  9.91262868e-01,\n",
       "         1.20056899e+03],\n",
       "       [-7.54479163e-01,  6.44078421e-01,  1.26191046e-01,\n",
       "         8.26210908e+01],\n",
       "       [ 0.00000000e+00,  0.00000000e+00,  0.00000000e+00,\n",
       "         1.00000000e+00]])"
      ]
     },
     "execution_count": 59,
     "metadata": {},
     "output_type": "execute_result"
    }
   ],
   "source": [
    "rs_uvd_Model_1[0]"
   ]
  },
  {
   "cell_type": "code",
   "execution_count": 60,
   "id": "24b46095-d953-4f0a-96e1-49dc35408a73",
   "metadata": {},
   "outputs": [],
   "source": [
    "np.save(\"Model_1_Img_2_Tracker.npy\",rs_uvd_Model_1[0])"
   ]
  },
  {
   "cell_type": "code",
   "execution_count": 62,
   "id": "2e691a8e-165f-4709-a7c0-21843a16e7c1",
   "metadata": {},
   "outputs": [
    {
     "data": {
      "text/plain": [
       "array([[-6.45068208e-01, -7.63160049e-01,  3.83893981e-02,\n",
       "         5.69108966e+01],\n",
       "       [ 1.21029748e-01, -5.24378311e-02,  9.91262868e-01,\n",
       "         1.20056899e+03],\n",
       "       [-7.54479163e-01,  6.44078421e-01,  1.26191046e-01,\n",
       "         8.26210908e+01],\n",
       "       [ 0.00000000e+00,  0.00000000e+00,  0.00000000e+00,\n",
       "         1.00000000e+00]])"
      ]
     },
     "execution_count": 62,
     "metadata": {},
     "output_type": "execute_result"
    }
   ],
   "source": [
    "np.load(\"Model_1_Img_2_Tracker.npy\")"
   ]
  },
  {
   "cell_type": "markdown",
   "id": "c071b9fa-b3a8-49e4-b86e-2959f00b7689",
   "metadata": {},
   "source": [
    "## Run"
   ]
  },
  {
   "cell_type": "code",
   "execution_count": 4,
   "id": "48e38599-9b66-4c1d-a9f4-6288d8897a16",
   "metadata": {},
   "outputs": [],
   "source": [
    "## Load Hololens\n",
    "HololensDeviceFile=\"HE_Experiment/HololensDevice.xml\"\n",
    "Hololens=LoadDeviceData(HololensDeviceFile)[3][0]"
   ]
  },
  {
   "cell_type": "code",
   "execution_count": 6,
   "id": "6e8f8f5b-16da-41ca-a0bb-1b0667eeb891",
   "metadata": {},
   "outputs": [
    {
     "name": "stdout",
     "output_type": "stream",
     "text": [
      "trying to connect to :\n",
      "('192.168.249.119', 3000)\n",
      "connect success\n",
      "trying to connect to :\n",
      "('192.168.249.119', 4000)\n",
      "connect success\n",
      "Connected\n",
      "Hololens Connected\n"
     ]
    }
   ],
   "source": [
    "Hololens.ConnectSocketChannel()\n",
    "print(\"Hololens Connected\")"
   ]
  },
  {
   "cell_type": "markdown",
   "id": "f697b32d-ce9b-481b-b4c8-433be7fc7bbc",
   "metadata": {},
   "source": [
    "### Model 1"
   ]
  },
  {
   "cell_type": "code",
   "execution_count": 5,
   "id": "e227b05e-ef5f-4d6f-b584-acbcc851c71f",
   "metadata": {},
   "outputs": [
    {
     "name": "stdout",
     "output_type": "stream",
     "text": [
      "Trying to connect to NDI\n",
      "NDI Connected\n"
     ]
    }
   ],
   "source": [
    "## Init NDI\n",
    "SETTINGS = {\n",
    "        \"tracker type\": \"polaris\",\n",
    "        \"romfiles\" : [\"tracker/Drill.rom\",\"tracker/Pointer_re.rom\",\"tracker/Model_3_re.rom\",\"tracker/Hololens_re.rom\"]\n",
    "}\n",
    "print(\"Trying to connect to NDI\")\n",
    "TRACKER = NDITracker(SETTINGS)\n",
    "TRACKER.start_tracking()\n",
    "print(\"NDI Connected\")\n",
    "tooltip=np.array([[145.77],[19.10],[176.65],[1]])"
   ]
  },
  {
   "cell_type": "code",
   "execution_count": 8,
   "id": "9ca309ca-402d-4cd1-aeb5-41a168743bad",
   "metadata": {},
   "outputs": [
    {
     "name": "stdout",
     "output_type": "stream",
     "text": [
      "[array([[nan, nan, nan, nan],\n",
      "       [nan, nan, nan, nan],\n",
      "       [nan, nan, nan, nan],\n",
      "       [nan, nan, nan, nan]]), array([[nan, nan, nan, nan],\n",
      "       [nan, nan, nan, nan],\n",
      "       [nan, nan, nan, nan],\n",
      "       [nan, nan, nan, nan]]), array([[ 9.86006982e-01,  4.36227367e-02,  1.60895269e-01,\n",
      "         2.83197266e+02],\n",
      "       [-2.26184149e-02,  9.91237863e-01, -1.30138030e-01,\n",
      "         3.23568604e+02],\n",
      "       [-1.65162459e-01,  1.24677810e-01,  9.78354131e-01,\n",
      "        -1.53882434e+03],\n",
      "       [ 0.00000000e+00,  0.00000000e+00,  0.00000000e+00,\n",
      "         1.00000000e+00]]), array([[ 6.00839870e-01, -2.99195832e-01,  7.41264666e-01,\n",
      "        -2.17871475e+02],\n",
      "       [ 1.89416421e-01,  9.54190909e-01,  2.31605543e-01,\n",
      "         3.68061981e+01],\n",
      "       [-7.76603419e-01,  1.24985565e-03,  6.29988545e-01,\n",
      "        -1.49256641e+03],\n",
      "       [ 0.00000000e+00,  0.00000000e+00,  0.00000000e+00,\n",
      "         1.00000000e+00]])]\n"
     ]
    }
   ],
   "source": [
    "port_handles, timestamps, framenumbers, tracking, quality = TRACKER.get_frame()\n",
    "print(tracking)"
   ]
  },
  {
   "cell_type": "code",
   "execution_count": 17,
   "id": "a7c56d48-0063-431a-a18c-3c248bc35ec3",
   "metadata": {},
   "outputs": [
    {
     "name": "stdout",
     "output_type": "stream",
     "text": [
      "[[ 7.40225066e-01 -4.12876140e-01 -5.30660102e-01  3.42491882e+02]\n",
      " [ 6.61467232e-01  3.05700264e-01  6.84841916e-01  1.65917542e+02]\n",
      " [-1.20531953e-01 -8.57951422e-01  4.99391036e-01 -1.60704578e+03]\n",
      " [ 0.00000000e+00  0.00000000e+00  0.00000000e+00  1.00000000e+00]]\n",
      "[[ 2.94566361e-01 -9.55227358e-01 -2.77732446e-02  3.39357788e+02]\n",
      " [ 7.14882437e-01  2.00977784e-01  6.69739526e-01 -2.21366501e+02]\n",
      " [-6.34171713e-01 -2.17137339e-01  7.42076556e-01 -1.69328113e+03]\n",
      " [ 0.00000000e+00  0.00000000e+00  0.00000000e+00  1.00000000e+00]]\n",
      "needle image to tracker\n",
      "[[-7.24034743e-01 -6.86990936e-01  6.17830457e-02 -8.78845532e+01]\n",
      " [-4.86240936e-17 -8.95713464e-02 -9.95980408e-01 -1.16828060e+01]\n",
      " [ 6.89763503e-01 -7.21124419e-01  6.48527668e-02 -1.44884937e+02]\n",
      " [ 0.00000000e+00  0.00000000e+00  0.00000000e+00  1.00000000e+00]]\n"
     ]
    }
   ],
   "source": [
    "## Register Tool Tip\n",
    "port_handles, timestamps, framenumbers, tracking, quality = TRACKER.get_frame()\n",
    "Drill_Out_Position=np.load(\"HE_Experiment/Drill_out.npy\")[0:3,:]\n",
    "Potential_Dire_Perpendicular_1=np.array([[1],[0],[0]])\n",
    "Potential_Dire_Perpendicular_2=np.array([[0],[1],[0]])\n",
    "Model_point=np.array([[0,0,0],\n",
    "                     [0,-100,0],\n",
    "                     [100,0,0]])\n",
    "Drill_Pose=tracking[0]\n",
    "Pointer_Pose=tracking[1]\n",
    "print(Drill_Pose)\n",
    "print(Pointer_Pose)\n",
    "if not math.isnan(Drill_Pose[0][0]) and not math.isnan(Pointer_Pose[0][0]):\n",
    "    Needle_tip=(np.linalg.inv(Drill_Pose)@Pointer_Pose@tooltip)[0:3]\n",
    "    Needle_direction=(Drill_Out_Position-Needle_tip)\n",
    "    Needle_direction=Needle_direction/np.linalg.norm(Needle_direction)\n",
    "    \n",
    "    # ensure a direction that is not on a line\n",
    "    Poss_Vali_1=abs((Needle_direction.T@Potential_Dire_Perpendicular_1)[0][0])\n",
    "    Poss_Vali_2=abs((Needle_direction.T@Potential_Dire_Perpendicular_2)[0][0])\n",
    "    \n",
    "\n",
    "    Dire_perpendicular=Potential_Dire_Perpendicular_1 if Poss_Vali_1<Poss_Vali_2 else Potential_Dire_Perpendicular_2\n",
    "    \n",
    "    Perpen_direction=np.cross(Needle_direction.T,Dire_perpendicular.T)\n",
    "    Perpen_direction=Perpen_direction/np.linalg.norm(Perpen_direction)\n",
    "    \n",
    "    Real_Needle_Point=np.zeros([3,3])\n",
    "    Real_Needle_Point[0,:]=np.squeeze(Needle_tip)\n",
    "    Real_Needle_Point[1,:]=np.squeeze(Needle_tip)+100*np.squeeze(Needle_direction.T)\n",
    "    Real_Needle_Point[2,:]=np.squeeze(Needle_tip)+100*np.squeeze(Perpen_direction)\n",
    "    \n",
    "    rs_needle_image_2_tracker=UVD_RigidTransform(Model_point,Real_Needle_Point)\n",
    "    needle_image_2_tracker=rs_needle_image_2_tracker[0]\n",
    "    print(\"needle image to tracker\")\n",
    "    print(needle_image_2_tracker)"
   ]
  },
  {
   "cell_type": "code",
   "execution_count": 534,
   "id": "6909328f-ff2e-4771-b3c6-fa3320400607",
   "metadata": {},
   "outputs": [
    {
     "name": "stdout",
     "output_type": "stream",
     "text": [
      "NaN Value\n"
     ]
    }
   ],
   "source": [
    "port_handles, timestamps, framenumbers, tracking, quality = TRACKER.get_frame()\n",
    "if math.isnan(tracking[0][0][0]) or math.isnan(tracking[3][0][0]):\n",
    "    print(\"NaN Value\")\n",
    "else:\n",
    "    DrillTip=np.linalg.inv(tracking[0])@tracking[1]@tooltip\n",
    "    print(DrillTip)"
   ]
  },
  {
   "cell_type": "code",
   "execution_count": 306,
   "id": "90d8d04c-2951-43b4-85d3-3cf2f3255fae",
   "metadata": {},
   "outputs": [
    {
     "name": "stdout",
     "output_type": "stream",
     "text": [
      "20\n",
      "20\n"
     ]
    }
   ],
   "source": [
    "print(len(HDRegister.NDIPose))\n",
    "print(len(HDRegister.HololensPose))"
   ]
  },
  {
   "cell_type": "code",
   "execution_count": 9,
   "id": "4329df1e-28a8-4b2c-bd58-f4130e35b6a2",
   "metadata": {},
   "outputs": [],
   "source": [
    "class HololensNDIRegister():\n",
    "    def __init__(self):\n",
    "        self.HololensPose=[]\n",
    "        self.NDIPose=[]\n",
    "        self.CurrentPoint=0\n",
    "        self.PointError=[]\n",
    "        self.SumError=0\n",
    "        self.CurrentBase2World=[]\n",
    "        self.CurrentHololens2tracker=[]\n",
    "        \n",
    "        \n",
    "    def AddPoint(self,Hololens,NDI):\n",
    "        self.HololensPose.append(Hololens)\n",
    "        self.NDIPose.append(NDI)\n",
    "        self.CurrentPoint+=1\n",
    "        if self.CurrentPoint>=5:\n",
    "            self.CurrentBase2World,self.CurrentHololens2tracker,self.PointError,self.SumError=\\\n",
    "                hand_eye_calibration(np.array(self.HololensPose),np.array(self.NDIPose))\n",
    "        return self.CurrentPoint,self.SumError\n",
    "    \n",
    "    def DeletePoint(self,id):\n",
    "        self.HololensPose.pop(id)\n",
    "        self.NDIPose.pop(id)\n",
    "        self.CurrentPoint-=1\n",
    "        if self.CurrentPoint>=5:\n",
    "            self.CurrentBase2World,self.CurrentHololens2tracker,self.PointError,self.SumError=\\\n",
    "                hand_eye_calibration(np.array(self.HololensPose),np.array(self.NDIPose))\n",
    "        else:\n",
    "            self.CurrentBase2World=[]\n",
    "            self.CurrentHololens2tracker=[]\n",
    "            self.PointError=[]\n",
    "            self.SumError=0\n",
    "\n",
    "\n",
    "    def Snapshot(self):\n",
    "        return self.CurrentPoint,self.PointError, self.SumError\n",
    "\n",
    "    def GetResult(self):\n",
    "        return self.CurrentBase2World,self.CurrentHololens2tracker\n",
    "\n",
    "\n",
    "def hand_eye_calibration(Hololens_pos,NDI_pos):\n",
    "    rs_holo=Hololens_pos\n",
    "    rs_ndi=NDI_pos\n",
    "    rs_holo_matrix=np.zeros((len(rs_ndi),4,4))\n",
    "    for i in range(len(rs_ndi)):\n",
    "        trans=np.array([rs_holo[i,0],-rs_holo[i,1],rs_holo[i,2]])*1000\n",
    "        quat=np.array([rs_holo[i,3],-rs_holo[i,4],rs_holo[i,5],-rs_holo[i,6]])\n",
    "        rota=RigidTransform(quat,trans)\n",
    "        rs_holo_matrix[i,0:3,0:3]=rota.rotation\n",
    "        rs_holo_matrix[i,0:3,3]=rota.translation\n",
    "        rs_holo_matrix[i,3,3]=1\n",
    "\n",
    "    for i in range(len(rs_ndi)-1,-1,-1):\n",
    "        if math.isnan(rs_ndi[i,0,0]):\n",
    "            rs_ndi=np.delete(rs_ndi,i,0)\n",
    "            rs_holo_matrix=np.delete(rs_holo_matrix,i,0)\n",
    "    ndi2tracker=np.zeros(rs_ndi.shape)\n",
    "    base2hololens=np.zeros(rs_ndi.shape)\n",
    "    \n",
    "    for i in range(rs_holo_matrix.shape[0]):\n",
    "        ndi2tracker[i,:,:]=np.linalg.inv(rs_ndi[i,:,:])\n",
    "        base2hololens[i,:,:]=np.linalg.inv(rs_holo_matrix[i,:,:])\n",
    "\n",
    "    R_ndi2tracker=ndi2tracker[:,0:3,0:3]\n",
    "    t_ndi2tracker=ndi2tracker[:,0:3,3]\n",
    "    R_base2hololens=base2hololens[:,0:3,0:3]\n",
    "    t_base2hololens=base2hololens[:,0:3,3]\n",
    "    \n",
    "    \n",
    "    T_Aurora_arr=rs_ndi\n",
    "    T_robot_arr=rs_holo_matrix\n",
    "    R_world2cam = T_Aurora_arr[:, :3, :3]\n",
    "    t_world2cam = T_Aurora_arr[:, :3, 3:]\n",
    "    R_base2gripper = T_robot_arr[:, :3, :3]\n",
    "    t_base2gripper = T_robot_arr[:, :3, 3:]\n",
    "    output = cv2.calibrateRobotWorldHandEye(R_base2gripper, t_base2gripper, R_world2cam, t_world2cam, method=cv2.CALIB_HAND_EYE_TSAI)\n",
    "    print(output)\n",
    "    T_base2world = np.eye(4)\n",
    "    T_gripper2cam = np.eye(4)\n",
    "    T_gripper2cam[:3, :3] = output[0]\n",
    "    T_gripper2cam[:3, 3:] = output[1]\n",
    "    T_base2world[:3, :3] = output[2]\n",
    "    T_base2world[:3, 3:] = output[3]\n",
    "    \n",
    "    base2world=np.linalg.inv(T_base2world)\n",
    "    \n",
    "    \n",
    "    tracker2hololens=np.linalg.inv(T_gripper2cam)\n",
    "    hololens2tracker=np.linalg.inv(tracker2hololens)\n",
    "    \n",
    "    errors=np.zeros((len(rs_ndi)))\n",
    "    tracker2ndi_from_hololens=np.zeros(rs_ndi.shape)\n",
    "    for i in range(len(tracker2ndi_from_hololens)):\n",
    "        tracker2ndi_from_hololens[i,:,:]=base2world@(rs_holo_matrix[i,:,:])@tracker2hololens\n",
    "    for i in range(len(rs_ndi)):\n",
    "        errors[i]=math.sqrt(sum(rs_ndi[i,0:3,3]-tracker2ndi_from_hololens[i,0:3,3])**2)\n",
    "    err_ =   sum(errors)/len(errors)\n",
    "    return base2world,hololens2tracker,errors,err_"
   ]
  },
  {
   "cell_type": "code",
   "execution_count": 7,
   "id": "59c686d8-ebdc-44f8-9ff7-89545d857a50",
   "metadata": {},
   "outputs": [],
   "source": [
    "def hand_eye_calibration(Hololens_pos,NDI_pos):\n",
    "    rs_holo=Hololens_pos\n",
    "    rs_ndi=NDI_pos\n",
    "    rs_holo_matrix=np.zeros((len(rs_ndi),4,4))\n",
    "    for i in range(len(rs_ndi)):\n",
    "        trans=np.array([rs_holo[i,0],-rs_holo[i,1],rs_holo[i,2]])*1000\n",
    "        quat=np.array([rs_holo[i,3],-rs_holo[i,4],rs_holo[i,5],-rs_holo[i,6]])\n",
    "        rota=RigidTransform(quat,trans)\n",
    "        rs_holo_matrix[i,0:3,0:3]=rota.rotation\n",
    "        rs_holo_matrix[i,0:3,3]=rota.translation\n",
    "        rs_holo_matrix[i,3,3]=1\n",
    "\n",
    "    for i in range(len(rs_ndi)-1,-1,-1):\n",
    "        if math.isnan(rs_ndi[i,0,0]):\n",
    "            rs_ndi=np.delete(rs_ndi,i,0)\n",
    "            rs_holo_matrix=np.delete(rs_holo_matrix,i,0)\n",
    "    ndi2tracker=np.zeros(rs_ndi.shape)\n",
    "    base2hololens=np.zeros(rs_ndi.shape)\n",
    "    for i in range(rs_holo_matrix.shape[0]):\n",
    "        ndi2tracker[i,:,:]=np.linalg.inv(rs_ndi[i,:,:])\n",
    "        base2hololens[i,:,:]=np.linalg.inv(rs_holo_matrix[i,:,:])\n",
    "\n",
    "    R_ndi2tracker=ndi2tracker[:,0:3,0:3]\n",
    "    t_ndi2tracker=ndi2tracker[:,0:3,3]\n",
    "    R_base2hololens=base2hololens[:,0:3,0:3]\n",
    "    t_base2hololens=base2hololens[:,0:3,3]\n",
    "\n",
    "\n",
    "    q=cv2.calibrateRobotWorldHandEye(R_ndi2tracker,t_ndi2tracker,R_base2hololens,t_base2hololens)\n",
    "    base2world=np.zeros((4,4))\n",
    "    base2world[0:3,0:3]=q[0]\n",
    "    base2world[0:3,3]=q[1][0:3,0]\n",
    "    base2world[3,3]=1\n",
    "    hololens2tracker=np.zeros((4,4))\n",
    "    hololens2tracker[0:3,0:3]=q[2]\n",
    "    hololens2tracker[0:3,3]=q[3][0:3,0]\n",
    "    hololens2tracker[3,3]=1\n",
    "    tracker2hololens=np.linalg.inv(hololens2tracker)\n",
    "    errors=np.zeros((len(rs_ndi)))\n",
    "    tracker2ndi_from_hololens=np.zeros(rs_ndi.shape)\n",
    "    for i in range(len(tracker2ndi_from_hololens)):\n",
    "        tracker2ndi_from_hololens[i,:,:]=base2world@(rs_holo_matrix[i,:,:])@tracker2hololens\n",
    "    for i in range(len(rs_ndi)):\n",
    "        errors[i]=math.sqrt(sum(rs_ndi[i,0:3,3]-tracker2ndi_from_hololens[i,0:3,3])**2)\n",
    "    err_ =   sum(errors)/len(errors)\n",
    "    return base2world,hololens2tracker,errors,err_"
   ]
  },
  {
   "cell_type": "code",
   "execution_count": 8,
   "id": "ed57dd84-a9eb-47a9-a519-9449fdbcdd41",
   "metadata": {},
   "outputs": [],
   "source": [
    "Hololens_temp_data=[]\n",
    "NDI_temp_Data=[]"
   ]
  },
  {
   "cell_type": "code",
   "execution_count": 33,
   "id": "bb5364e3-f9c5-462b-b545-460a155654d1",
   "metadata": {},
   "outputs": [
    {
     "name": "stdout",
     "output_type": "stream",
     "text": [
      "Hololens Pose\n",
      "[0.1700717508792877, 0.0114385038614273, 0.1600002646446228, 0.8503502607345581, 0.34093177318573, -0.3501306176185608, -0.1951368451118469]\n",
      "NDI_pos\n",
      "[nan, nan, 0.08583495020866394, 0.13315440714359283]\n",
      "20\n"
     ]
    }
   ],
   "source": [
    "Hololens_pos=Hololens.GetHololensPosition()\n",
    "print(\"Hololens Pose\")\n",
    "print(Hololens_pos)\n",
    "port_handles, timestamps, framenumbers, tracking, quality = TRACKER.get_frame()\n",
    "NDI_pos=tracking[3]\n",
    "print(\"NDI_pos\")\n",
    "print(quality)\n",
    "if not(math.isnan(NDI_pos[0][0])):\n",
    "    Hololens_temp_data.append(Hololens_pos)\n",
    "    NDI_temp_Data.append(NDI_pos)\n",
    "print(len(NDI_temp_Data))\n"
   ]
  },
  {
   "cell_type": "code",
   "execution_count": 34,
   "id": "2a52e9b0-8436-4642-8f97-fd0166925d17",
   "metadata": {},
   "outputs": [
    {
     "name": "stdout",
     "output_type": "stream",
     "text": [
      "1.8737199187536917\n"
     ]
    }
   ],
   "source": [
    "base2world,hololens2tracker,errors,err_=hand_eye_calibration(np.array(Hololens_temp_data),np.array(NDI_temp_Data))\n",
    "port_handles, timestamps, framenumbers, tracking, quality = TRACKER.get_frame()\n",
    "model_tracker_2_ndi=tracking[2]\n",
    "# print(model_tracker_2_ndi)\n",
    "print(err_)\n",
    "if not math.isnan(model_tracker_2_ndi[0][0]):\n",
    "    model_2_world=np.linalg.inv(base2world)@model_tracker_2_ndi@rs_uvd_Model_3[0]\n",
    "    Hololens.SetPosition(3,model_2_world)"
   ]
  },
  {
   "cell_type": "code",
   "execution_count": 25,
   "id": "889f0af8-5971-4674-ad19-83da190caf86",
   "metadata": {},
   "outputs": [
    {
     "name": "stdout",
     "output_type": "stream",
     "text": [
      "Hand Eye Calibration Data Cleaned\n"
     ]
    }
   ],
   "source": [
    "HDRegister=HololensNDIRegister()\n",
    "print(\"Hand Eye Calibration Data Cleaned\")\n",
    "k=0"
   ]
  },
  {
   "cell_type": "code",
   "execution_count": 383,
   "id": "f2f026aa-9bdc-439a-891b-a4ed5378b2c5",
   "metadata": {},
   "outputs": [],
   "source": [
    "rs_s=[]"
   ]
  },
  {
   "cell_type": "code",
   "execution_count": 52,
   "id": "68af00a3-76d6-4b69-acb2-e7c990e10a41",
   "metadata": {},
   "outputs": [
    {
     "name": "stdout",
     "output_type": "stream",
     "text": [
      "Hololens Pose\n",
      "[0.0263750627636909, -0.0188091099262237, 0.0833407193422317, 0.886454403400421, 0.45891934633255, -0.0528926588594913, 0.0281777624040842]\n",
      "NDI_pos\n",
      "[nan, nan, 0.08556989580392838, 0.511902391910553]\n",
      "[[ 7.87060395e-01 -3.09461678e-01  5.33637897e-01 -3.26934662e+02]\n",
      " [ 1.79327409e-01  9.42485937e-01  2.82067258e-01  3.25212250e+01]\n",
      " [-5.90235220e-01 -1.26308067e-01  7.97288315e-01 -1.54601221e+03]\n",
      " [ 0.00000000e+00  0.00000000e+00  0.00000000e+00  1.00000000e+00]]\n",
      "(array([[-0.1627022 , -0.96219443, -0.21842588],\n",
      "       [ 0.67585679,  0.0526018 , -0.73515349],\n",
      "       [ 0.71885019, -0.26723571,  0.64174721]]), array([[  1.38232664],\n",
      "       [-95.48380256],\n",
      "       [ 29.98070901]]), array([[-0.00320872, -0.99799244, -0.06325179],\n",
      "       [ 0.87981706,  0.02724654, -0.47453089],\n",
      "       [ 0.47530163, -0.05717265,  0.87796335]]), array([[ -49.44352266],\n",
      "       [-452.43221947],\n",
      "       [1692.31435091]]))\n",
      "Register, Num:  25,  Err:  270.6712455363686\n",
      "[[-3.20872116e-03  8.79817063e-01  4.75301631e-01 -4.06460834e+02]\n",
      " [-9.97992442e-01  2.72465415e-02 -5.71726454e-02  5.97370396e+01]\n",
      " [-6.32517945e-02 -4.74530886e-01  8.77963353e-01 -1.70361043e+03]\n",
      " [ 0.00000000e+00  0.00000000e+00  0.00000000e+00  1.00000000e+00]]\n",
      "0.9999999999999999\n",
      "rs\n",
      "[[-6.42856218e-01 -1.87754467e-01  7.42619784e-01  1.30861587e+03]\n",
      " [ 6.09785104e-01  4.61291741e-01  6.44493644e-01  8.91839003e+01]\n",
      " [-4.63570933e-01  8.67155228e-01 -1.82054387e-01 -4.59069868e+02]\n",
      " [ 0.00000000e+00  0.00000000e+00  0.00000000e+00  1.00000000e+00]]\n",
      "[[-4.51668367e-01 -8.91589876e-01 -3.26064283e-02  2.72530827e+02]\n",
      " [-5.58536122e-04 -3.62640983e-02  9.99342085e-01  1.22162767e+03]\n",
      " [-8.92185729e-01  4.51389419e-01  1.58813609e-02 -1.58943123e+03]\n",
      " [ 0.00000000e+00  0.00000000e+00  0.00000000e+00  1.00000000e+00]]\n"
     ]
    }
   ],
   "source": [
    "Hololens_pos=Hololens.GetHololensPosition()\n",
    "print(\"Hololens Pose\")\n",
    "print(Hololens_pos)\n",
    "port_handles, timestamps, framenumbers, tracking, quality = TRACKER.get_frame()\n",
    "NDI_pos=tracking[3]\n",
    "print(\"NDI_pos\")\n",
    "print(quality)\n",
    "\n",
    "print(NDI_pos)\n",
    "if not(math.isnan(NDI_pos[0][0])):\n",
    "    Hololens_temp_data.append(Hololens_pos)\n",
    "    NDI_temp_Data.append(NDI_pos)\n",
    "    Num,Err=HDRegister.AddPoint(Hololens_pos,NDI_pos)\n",
    "    print(\"Register, Num:  \"+str(Num)+\",  Err:  \"+str(Err))\n",
    "    CurrentBase2World,CurrentHololens2tracker=HDRegister.GetResult()\n",
    "    print(CurrentBase2World)\n",
    "    print(np.linalg.det(CurrentBase2World))\n",
    "    k=Num\n",
    "    if k>5:\n",
    "        base2world,hololens2tracker=HDRegister.GetResult()\n",
    "        port_handles, timestamps, framenumbers, tracking, quality = TRACKER.get_frame()\n",
    "        model_tracker_2_ndi=tracking[2]\n",
    "        # print(model_tracker_2_ndi)\n",
    "\n",
    "        if not math.isnan(model_tracker_2_ndi[0][0]):\n",
    "            model_2_world=hololens2tracker@hololens2tracker@np.linalg.inv(base2world)@model_tracker_2_ndi@rs_uvd_Model_3[0]\n",
    "            #model_2_world=(base2world)@model_tracker_2_ndi@rs_uvd_Model_3[0]\n",
    "            Hololens.SetPosition(3,model_2_world)\n",
    "            print(\"rs\")\n",
    "            print(model_2_world)\n",
    "            print(model_tracker_2_ndi@rs_uvd_Model_3[0])\n",
    "else:\n",
    "    print(\"No hololen tracker detected\")"
   ]
  },
  {
   "cell_type": "code",
   "execution_count": 45,
   "id": "ac5b6a10-cfcc-44ee-aa29-a7ab850bee3b",
   "metadata": {},
   "outputs": [
    {
     "data": {
      "text/plain": [
       "array([[-1.61697366e-01, -9.63217423e-01, -2.14630282e-01,\n",
       "         5.19518809e+00],\n",
       "       [ 6.74331356e-01,  5.09479132e-02, -7.36669215e-01,\n",
       "        -9.37853213e+01],\n",
       "       [ 7.20507588e-01, -2.63849400e-01,  6.41289567e-01,\n",
       "         3.05923851e+01],\n",
       "       [ 0.00000000e+00,  0.00000000e+00,  0.00000000e+00,\n",
       "         1.00000000e+00]])"
      ]
     },
     "execution_count": 45,
     "metadata": {},
     "output_type": "execute_result"
    }
   ],
   "source": [
    "hololens2tracker"
   ]
  },
  {
   "cell_type": "code",
   "execution_count": 488,
   "id": "c7ff8e9a-58fb-4b34-a8d2-8f3dcdb75ab2",
   "metadata": {},
   "outputs": [
    {
     "name": "stdout",
     "output_type": "stream",
     "text": [
      "[ -295.37405144   228.71335148 -2340.01071407]    3.957822545775477\n",
      "[ -293.77670961   228.6076653  -2340.85344712]    3.094150602444875\n",
      "[ -293.01914837   228.9116744  -2335.02136351]    2.9285829474774925\n",
      "[ -296.63876519   230.46881192 -2338.97577119]    4.4104584169129755\n",
      "[ -296.24293406   228.74773407 -2339.99842318]    3.631618591604183\n",
      "[ -296.79000158   228.8425576  -2338.18264892]    4.033627259949687\n",
      "[ -293.51286037   229.97356346 -2336.66957462]    1.9060936227036205\n",
      "[ -295.51262583   229.56511505 -2337.15639613]    3.107050236651091\n",
      "[ -293.32437635   230.62075812 -2337.78726178]    2.9821449950401124\n",
      "[ -294.27418691   229.35159922 -2338.86759892]    2.439581539265178\n"
     ]
    }
   ],
   "source": [
    "for i in range(10):\n",
    "    a=np.random.randint((len(NDI_temp_Data)))\n",
    "    N=[]\n",
    "    H=[]\n",
    "    for j in range(20):\n",
    "        a = np.random.randint(len(NDI_temp_Data))\n",
    "        N.append(NDI_temp_Data[a])\n",
    "        H.append(Hololens_temp_data[a])\n",
    "        \n",
    "    base2world,hololens2tracker,errors,err_=hand_eye_calibration(np.array(H),np.array(N))\n",
    "    print(base2world[0:3,3].T,end='')\n",
    "    print(\"    \",end=\"\")\n",
    "    print(err_)"
   ]
  },
  {
   "cell_type": "code",
   "execution_count": 249,
   "id": "19f84ebe-1fef-4a38-b68b-8975ddcdd9f2",
   "metadata": {},
   "outputs": [
    {
     "data": {
      "text/plain": [
       "array([[ 8.30920009e-01, -3.99721908e-01,  3.87032732e-01,\n",
       "        -2.08890121e+02],\n",
       "       [ 2.19738012e-01,  8.74820067e-01,  4.31746519e-01,\n",
       "         2.46254852e+02],\n",
       "       [-5.11162542e-01, -2.73701018e-01,  8.14739595e-01,\n",
       "        -2.09741748e+03],\n",
       "       [ 0.00000000e+00,  0.00000000e+00,  0.00000000e+00,\n",
       "         1.00000000e+00]])"
      ]
     },
     "execution_count": 249,
     "metadata": {},
     "output_type": "execute_result"
    }
   ],
   "source": [
    "NDI_temp_Data[0]"
   ]
  },
  {
   "cell_type": "code",
   "execution_count": 23,
   "id": "554b286b-8269-4a6c-90e9-35a39818ff41",
   "metadata": {},
   "outputs": [],
   "source": [
    "shift_matrix=np.diag([1,1,1,1])\n",
    "shift_matrix[0,3]=0\n",
    "shift_matrix[1,3]=0\n",
    "shift_matrix[2,3]=0"
   ]
  },
  {
   "cell_type": "code",
   "execution_count": 50,
   "id": "5b6aca5a-6538-4839-bb53-c378627acdde",
   "metadata": {},
   "outputs": [
    {
     "name": "stderr",
     "output_type": "stream",
     "text": [
      " 36%|██████████████▎                         | 357/1000 [00:17<00:32, 20.01it/s]Exception ignored in: <generator object tqdm.__iter__ at 0x7f04b05f1120>\n",
      "Traceback (most recent call last):\n",
      "  File \"/home/lihaowei/.local/lib/python3.8/site-packages/tqdm/std.py\", line 1181, in __iter__\n",
      "    yield obj\n",
      "KeyboardInterrupt: \n",
      " 36%|██████████████▎                         | 357/1000 [00:17<00:32, 20.00it/s]\n"
     ]
    },
    {
     "ename": "OSError",
     "evalue": "Error 0x0105: Serial port read error",
     "output_type": "error",
     "traceback": [
      "\u001b[0;31m---------------------------------------------------------------------------\u001b[0m",
      "\u001b[0;31mOSError\u001b[0m                                   Traceback (most recent call last)",
      "\u001b[0;32m/tmp/ipykernel_289979/3704612298.py\u001b[0m in \u001b[0;36m<module>\u001b[0;34m\u001b[0m\n\u001b[1;32m      6\u001b[0m \u001b[0;32mfor\u001b[0m \u001b[0mi\u001b[0m \u001b[0;32min\u001b[0m \u001b[0mtqdm\u001b[0m\u001b[0;34m(\u001b[0m\u001b[0mrange\u001b[0m\u001b[0;34m(\u001b[0m\u001b[0;36m1000\u001b[0m\u001b[0;34m)\u001b[0m\u001b[0;34m)\u001b[0m\u001b[0;34m:\u001b[0m\u001b[0;34m\u001b[0m\u001b[0;34m\u001b[0m\u001b[0m\n\u001b[1;32m      7\u001b[0m     \u001b[0mbase2world\u001b[0m\u001b[0;34m,\u001b[0m\u001b[0mhololens2tracker\u001b[0m\u001b[0;34m=\u001b[0m\u001b[0mHDRegister\u001b[0m\u001b[0;34m.\u001b[0m\u001b[0mGetResult\u001b[0m\u001b[0;34m(\u001b[0m\u001b[0;34m)\u001b[0m\u001b[0;34m\u001b[0m\u001b[0;34m\u001b[0m\u001b[0m\n\u001b[0;32m----> 8\u001b[0;31m     \u001b[0mport_handles\u001b[0m\u001b[0;34m,\u001b[0m \u001b[0mtimestamps\u001b[0m\u001b[0;34m,\u001b[0m \u001b[0mframenumbers\u001b[0m\u001b[0;34m,\u001b[0m \u001b[0mtracking\u001b[0m\u001b[0;34m,\u001b[0m \u001b[0mquality\u001b[0m \u001b[0;34m=\u001b[0m \u001b[0mTRACKER\u001b[0m\u001b[0;34m.\u001b[0m\u001b[0mget_frame\u001b[0m\u001b[0;34m(\u001b[0m\u001b[0;34m)\u001b[0m\u001b[0;34m\u001b[0m\u001b[0;34m\u001b[0m\u001b[0m\n\u001b[0m\u001b[1;32m      9\u001b[0m     \u001b[0mmodel_tracker_2_ndi\u001b[0m\u001b[0;34m=\u001b[0m\u001b[0mtracking\u001b[0m\u001b[0;34m[\u001b[0m\u001b[0;36m2\u001b[0m\u001b[0;34m]\u001b[0m\u001b[0;34m\u001b[0m\u001b[0;34m\u001b[0m\u001b[0m\n\u001b[1;32m     10\u001b[0m     \u001b[0;31m# print(model_tracker_2_ndi)\u001b[0m\u001b[0;34m\u001b[0m\u001b[0;34m\u001b[0m\u001b[0;34m\u001b[0m\u001b[0m\n",
      "\u001b[0;32m~/.local/lib/python3.8/site-packages/sksurgerynditracker/nditracker.py\u001b[0m in \u001b[0;36mget_frame\u001b[0;34m(self)\u001b[0m\n\u001b[1;32m    447\u001b[0m         \u001b[0mtimestamp\u001b[0m \u001b[0;34m=\u001b[0m \u001b[0mtime\u001b[0m\u001b[0;34m(\u001b[0m\u001b[0;34m)\u001b[0m\u001b[0;34m\u001b[0m\u001b[0;34m\u001b[0m\u001b[0m\n\u001b[1;32m    448\u001b[0m         \u001b[0;32mif\u001b[0m \u001b[0;32mnot\u001b[0m \u001b[0mself\u001b[0m\u001b[0;34m.\u001b[0m\u001b[0m_tracker_type\u001b[0m \u001b[0;34m==\u001b[0m \u001b[0;34m\"dummy\"\u001b[0m\u001b[0;34m:\u001b[0m\u001b[0;34m\u001b[0m\u001b[0;34m\u001b[0m\u001b[0m\n\u001b[0;32m--> 449\u001b[0;31m             \u001b[0mndicapy\u001b[0m\u001b[0;34m.\u001b[0m\u001b[0mndiCommand\u001b[0m\u001b[0;34m(\u001b[0m\u001b[0mself\u001b[0m\u001b[0;34m.\u001b[0m\u001b[0m_device\u001b[0m\u001b[0;34m,\u001b[0m \u001b[0mself\u001b[0m\u001b[0;34m.\u001b[0m\u001b[0m_capture_string\u001b[0m\u001b[0;34m)\u001b[0m\u001b[0;34m\u001b[0m\u001b[0;34m\u001b[0m\u001b[0m\n\u001b[0m\u001b[1;32m    450\u001b[0m             \u001b[0;32mfor\u001b[0m \u001b[0mdescriptor\u001b[0m \u001b[0;32min\u001b[0m \u001b[0mself\u001b[0m\u001b[0;34m.\u001b[0m\u001b[0m_tool_descriptors\u001b[0m\u001b[0;34m:\u001b[0m\u001b[0;34m\u001b[0m\u001b[0;34m\u001b[0m\u001b[0m\n\u001b[1;32m    451\u001b[0m                 \u001b[0mport_handles\u001b[0m\u001b[0;34m.\u001b[0m\u001b[0mappend\u001b[0m\u001b[0;34m(\u001b[0m\u001b[0mdescriptor\u001b[0m\u001b[0;34m.\u001b[0m\u001b[0mget\u001b[0m\u001b[0;34m(\u001b[0m\u001b[0;34m\"port handle\"\u001b[0m\u001b[0;34m)\u001b[0m\u001b[0;34m)\u001b[0m\u001b[0;34m\u001b[0m\u001b[0;34m\u001b[0m\u001b[0m\n",
      "\u001b[0;31mOSError\u001b[0m: Error 0x0105: Serial port read error"
     ]
    }
   ],
   "source": [
    "#rs_s.append(np.linalg.inv(base2world))\n",
    "shift_matrix=np.diag([1,1,1,1])\n",
    "shift_matrix[0,3]=0\n",
    "shift_matrix[1,3]=0\n",
    "shift_matrix[2,3]=0\n",
    "for i in tqdm(range(1000)):\n",
    "    base2world,hololens2tracker=HDRegister.GetResult()\n",
    "    port_handles, timestamps, framenumbers, tracking, quality = TRACKER.get_frame()\n",
    "    model_tracker_2_ndi=tracking[2]\n",
    "    # print(model_tracker_2_ndi)\n",
    "    \n",
    "    if not math.isnan(model_tracker_2_ndi[0][0]):\n",
    "        model_2_world=shift_matrix@np.linalg.inv(base2world)@model_tracker_2_ndi@rs_uvd_Model_2[0]\n",
    "        Hololens.SetPosition(2,model_2_world)\n",
    "    time.sleep(1/40)"
   ]
  },
  {
   "cell_type": "code",
   "execution_count": 535,
   "id": "f4ccaa97-82b8-46f2-a014-e200bf83e207",
   "metadata": {},
   "outputs": [
    {
     "name": "stdout",
     "output_type": "stream",
     "text": [
      "[  262.3140265  -1114.63721568  2067.16077392]\n",
      "[  261.70261706 -1119.87961647  2065.9049373 ]\n",
      "[  259.01157156 -1116.10604707  2070.77684426]\n",
      "[  279.89472912 -1109.47171008  2073.70021063]\n",
      "[  249.76862484 -1094.57581446  2087.25627423]\n",
      "[  260.14382006 -1102.66807147  2080.46622017]\n"
     ]
    }
   ],
   "source": [
    "for i in range(len(rs_s)):\n",
    "    print(rs_s[i][0:3,3].T)"
   ]
  },
  {
   "cell_type": "code",
   "execution_count": 101,
   "id": "b5370343-5e88-4bfe-b3d3-d4124e0178ad",
   "metadata": {},
   "outputs": [
    {
     "data": {
      "text/plain": [
       "(11,\n",
       " array([0.83880906, 3.72656939, 0.77975143, 2.60478026, 2.2790258 ,\n",
       "        1.92588187, 2.20152109, 3.50427761, 1.11235094, 0.71534949,\n",
       "        3.75196775]),\n",
       " 2.1309349731133733)"
      ]
     },
     "execution_count": 101,
     "metadata": {},
     "output_type": "execute_result"
    }
   ],
   "source": [
    "HDRegister.Snapshot()"
   ]
  },
  {
   "cell_type": "code",
   "execution_count": 299,
   "id": "9e4f23e5-6148-498c-b07d-d01bd89b62d5",
   "metadata": {},
   "outputs": [
    {
     "name": "stderr",
     "output_type": "stream",
     "text": [
      "  3%|█▎                                       | 31/1000 [00:02<01:06, 14.67it/s]\n"
     ]
    },
    {
     "ename": "KeyboardInterrupt",
     "evalue": "",
     "output_type": "error",
     "traceback": [
      "\u001b[0;31m---------------------------------------------------------------------------\u001b[0m",
      "\u001b[0;31mKeyboardInterrupt\u001b[0m                         Traceback (most recent call last)",
      "\u001b[0;32m/tmp/ipykernel_274994/852075816.py\u001b[0m in \u001b[0;36m<module>\u001b[0;34m\u001b[0m\n\u001b[1;32m     15\u001b[0m         \u001b[0mTransformMatrix\u001b[0m\u001b[0;34m[\u001b[0m\u001b[0;36m2\u001b[0m\u001b[0;34m,\u001b[0m\u001b[0;36m3\u001b[0m\u001b[0;34m]\u001b[0m\u001b[0;34m=\u001b[0m\u001b[0mres_shift\u001b[0m\u001b[0;34m[\u001b[0m\u001b[0;36m2\u001b[0m\u001b[0;34m]\u001b[0m\u001b[0;34m[\u001b[0m\u001b[0;36m0\u001b[0m\u001b[0;34m]\u001b[0m\u001b[0;34m\u001b[0m\u001b[0;34m\u001b[0m\u001b[0m\n\u001b[1;32m     16\u001b[0m         \u001b[0mHololens\u001b[0m\u001b[0;34m.\u001b[0m\u001b[0mSetPosition\u001b[0m\u001b[0;34m(\u001b[0m\u001b[0;36m0\u001b[0m\u001b[0;34m,\u001b[0m\u001b[0mTransformMatrix\u001b[0m\u001b[0;34m)\u001b[0m\u001b[0;34m\u001b[0m\u001b[0;34m\u001b[0m\u001b[0m\n\u001b[0;32m---> 17\u001b[0;31m     \u001b[0mtime\u001b[0m\u001b[0;34m.\u001b[0m\u001b[0msleep\u001b[0m\u001b[0;34m(\u001b[0m\u001b[0;36m1\u001b[0m\u001b[0;34m/\u001b[0m\u001b[0;36m20\u001b[0m\u001b[0;34m)\u001b[0m\u001b[0;34m\u001b[0m\u001b[0;34m\u001b[0m\u001b[0m\n\u001b[0m",
      "\u001b[0;31mKeyboardInterrupt\u001b[0m: "
     ]
    }
   ],
   "source": [
    "tooltip=np.array([[145.77],[19.10],[176.65],[1]])\n",
    "shift_matrix=np.diag([1,1,1,1])\n",
    "shift_matrix[0,3]=0\n",
    "shift_matrix[1,3]=0\n",
    "shift_matrix[2,3]=0\n",
    "for i in tqdm(range(1000)):\n",
    "    base2world,hololens2tracker=HDRegister.GetResult()\n",
    "    port_handles, timestamps, framenumbers, tracking, quality = TRACKER.get_frame()\n",
    "    pointer2ndi=tracking[1]\n",
    "    if not math.isnan(pointer2ndi[0][0]):\n",
    "        res_shift=shift_matrix@np.linalg.inv(base2world)@pointer2ndi@tooltip\n",
    "        TransformMatrix=np.diag([1,1,1,1])\n",
    "        TransformMatrix[0,3]=res_shift[0][0]\n",
    "        TransformMatrix[1,3]=res_shift[1][0]\n",
    "        TransformMatrix[2,3]=res_shift[2][0]\n",
    "        Hololens.SetPosition(0,TransformMatrix)\n",
    "    time.sleep(1/20)"
   ]
  },
  {
   "cell_type": "markdown",
   "id": "70723a89-559e-4912-8528-8da88e6e836f",
   "metadata": {},
   "source": [
    "### Track Drill"
   ]
  },
  {
   "cell_type": "code",
   "execution_count": 49,
   "id": "c4cc10fc-bb63-4b3e-b1e4-cfa29129a3d8",
   "metadata": {},
   "outputs": [
    {
     "name": "stderr",
     "output_type": "stream",
     "text": [
      " 26%|██████████▌                             | 265/1000 [00:18<00:50, 14.69it/s]\n"
     ]
    },
    {
     "ename": "KeyboardInterrupt",
     "evalue": "",
     "output_type": "error",
     "traceback": [
      "\u001b[0;31m---------------------------------------------------------------------------\u001b[0m",
      "\u001b[0;31mKeyboardInterrupt\u001b[0m                         Traceback (most recent call last)",
      "\u001b[0;32m/tmp/ipykernel_269828/1286644615.py\u001b[0m in \u001b[0;36m<module>\u001b[0;34m\u001b[0m\n\u001b[1;32m     12\u001b[0m         \u001b[0mNeedle_model_pose\u001b[0m\u001b[0;34m=\u001b[0m\u001b[0mshift_matrix\u001b[0m\u001b[0;34m@\u001b[0m\u001b[0mnp\u001b[0m\u001b[0;34m.\u001b[0m\u001b[0mlinalg\u001b[0m\u001b[0;34m.\u001b[0m\u001b[0minv\u001b[0m\u001b[0;34m(\u001b[0m\u001b[0mbase2world\u001b[0m\u001b[0;34m)\u001b[0m\u001b[0;34m@\u001b[0m\u001b[0mdrill2ndi\u001b[0m\u001b[0;34m@\u001b[0m\u001b[0mneedle_image_2_tracker\u001b[0m\u001b[0;34m\u001b[0m\u001b[0;34m\u001b[0m\u001b[0m\n\u001b[1;32m     13\u001b[0m         \u001b[0mHololens\u001b[0m\u001b[0;34m.\u001b[0m\u001b[0mSetPosition\u001b[0m\u001b[0;34m(\u001b[0m\u001b[0;36m5\u001b[0m\u001b[0;34m,\u001b[0m\u001b[0mNeedle_model_pose\u001b[0m\u001b[0;34m)\u001b[0m\u001b[0;34m\u001b[0m\u001b[0;34m\u001b[0m\u001b[0m\n\u001b[0;32m---> 14\u001b[0;31m     \u001b[0mtime\u001b[0m\u001b[0;34m.\u001b[0m\u001b[0msleep\u001b[0m\u001b[0;34m(\u001b[0m\u001b[0;36m1\u001b[0m\u001b[0;34m/\u001b[0m\u001b[0;36m20\u001b[0m\u001b[0;34m)\u001b[0m\u001b[0;34m\u001b[0m\u001b[0;34m\u001b[0m\u001b[0m\n\u001b[0m",
      "\u001b[0;31mKeyboardInterrupt\u001b[0m: "
     ]
    }
   ],
   "source": [
    "# needle_image_2_tracker\n",
    "shift_matrix=np.diag([1,1,1,1])\n",
    "shift_matrix[0,3]=5\n",
    "shift_matrix[1,3]=0\n",
    "shift_matrix[2,3]=4\n",
    "for i in tqdm(range(1000)):\n",
    "    base2world,hololens2tracker=HDRegister.GetResult()\n",
    "    port_handles, timestamps, framenumbers, tracking, quality = TRACKER.get_frame()\n",
    "    drill2ndi=tracking[0]\n",
    "    \n",
    "    if not math.isnan(drill2ndi[0][0]):\n",
    "        Needle_model_pose=shift_matrix@np.linalg.inv(base2world)@drill2ndi@needle_image_2_tracker\n",
    "        Hololens.SetPosition(5,Needle_model_pose)\n",
    "    time.sleep(1/20)"
   ]
  },
  {
   "cell_type": "code",
   "execution_count": null,
   "id": "5bd3c08b-08da-4988-a4b8-edc5f84af1f8",
   "metadata": {},
   "outputs": [],
   "source": []
  },
  {
   "cell_type": "code",
   "execution_count": 170,
   "id": "bf996e74-0d12-401e-97bd-125784b145e4",
   "metadata": {},
   "outputs": [
    {
     "name": "stdout",
     "output_type": "stream",
     "text": [
      "Trying to connect to NDI\n",
      "NDI Connected\n"
     ]
    }
   ],
   "source": [
    "# with out others\n",
    "SETTINGS = {\n",
    "        \"tracker type\": \"polaris\",\n",
    "        \"romfiles\" : [\"tracker/Drill.rom\",\"tracker/Model_2.rom\"]\n",
    "}\n",
    "print(\"Trying to connect to NDI\")\n",
    "TRACKER = NDITracker(SETTINGS)\n",
    "TRACKER.start_tracking()\n",
    "print(\"NDI Connected\")"
   ]
  },
  {
   "cell_type": "code",
   "execution_count": 185,
   "id": "655bb65f-7743-4425-a75b-7c66222e91b1",
   "metadata": {},
   "outputs": [
    {
     "name": "stderr",
     "output_type": "stream",
     "text": [
      " 29%|███████████▌                            | 288/1000 [00:14<00:35, 20.02it/s]Exception ignored in: <generator object tqdm.__iter__ at 0x7f5556979270>\n",
      "Traceback (most recent call last):\n",
      "  File \"/home/lihaowei/.local/lib/python3.8/site-packages/tqdm/std.py\", line 1181, in __iter__\n",
      "    yield obj\n",
      "KeyboardInterrupt: \n",
      " 29%|███████████▌                            | 288/1000 [00:14<00:35, 19.95it/s]\n"
     ]
    },
    {
     "ename": "OSError",
     "evalue": "Error 0x0105: Serial port read error",
     "output_type": "error",
     "traceback": [
      "\u001b[0;31m---------------------------------------------------------------------------\u001b[0m",
      "\u001b[0;31mOSError\u001b[0m                                   Traceback (most recent call last)",
      "\u001b[0;32m/tmp/ipykernel_269828/1905646779.py\u001b[0m in \u001b[0;36m<module>\u001b[0;34m\u001b[0m\n\u001b[1;32m      7\u001b[0m \u001b[0;32mfor\u001b[0m \u001b[0mi\u001b[0m \u001b[0;32min\u001b[0m \u001b[0mtqdm\u001b[0m\u001b[0;34m(\u001b[0m\u001b[0mrange\u001b[0m\u001b[0;34m(\u001b[0m\u001b[0;36m1000\u001b[0m\u001b[0;34m)\u001b[0m\u001b[0;34m)\u001b[0m\u001b[0;34m:\u001b[0m\u001b[0;34m\u001b[0m\u001b[0;34m\u001b[0m\u001b[0m\n\u001b[1;32m      8\u001b[0m     \u001b[0mbase2world\u001b[0m\u001b[0;34m,\u001b[0m\u001b[0mhololens2tracker\u001b[0m\u001b[0;34m=\u001b[0m\u001b[0mHDRegister\u001b[0m\u001b[0;34m.\u001b[0m\u001b[0mGetResult\u001b[0m\u001b[0;34m(\u001b[0m\u001b[0;34m)\u001b[0m\u001b[0;34m\u001b[0m\u001b[0;34m\u001b[0m\u001b[0m\n\u001b[0;32m----> 9\u001b[0;31m     \u001b[0mport_handles\u001b[0m\u001b[0;34m,\u001b[0m \u001b[0mtimestamps\u001b[0m\u001b[0;34m,\u001b[0m \u001b[0mframenumbers\u001b[0m\u001b[0;34m,\u001b[0m \u001b[0mtracking\u001b[0m\u001b[0;34m,\u001b[0m \u001b[0mquality\u001b[0m \u001b[0;34m=\u001b[0m \u001b[0mTRACKER\u001b[0m\u001b[0;34m.\u001b[0m\u001b[0mget_frame\u001b[0m\u001b[0;34m(\u001b[0m\u001b[0;34m)\u001b[0m\u001b[0;34m\u001b[0m\u001b[0;34m\u001b[0m\u001b[0m\n\u001b[0m\u001b[1;32m     10\u001b[0m     \u001b[0mmodel_tracker_2_ndi\u001b[0m\u001b[0;34m=\u001b[0m\u001b[0mtracking\u001b[0m\u001b[0;34m[\u001b[0m\u001b[0;36m1\u001b[0m\u001b[0;34m]\u001b[0m\u001b[0;34m\u001b[0m\u001b[0;34m\u001b[0m\u001b[0m\n\u001b[1;32m     11\u001b[0m     \u001b[0;32mif\u001b[0m \u001b[0;32mnot\u001b[0m \u001b[0mmath\u001b[0m\u001b[0;34m.\u001b[0m\u001b[0misnan\u001b[0m\u001b[0;34m(\u001b[0m\u001b[0mmodel_tracker_2_ndi\u001b[0m\u001b[0;34m[\u001b[0m\u001b[0;36m0\u001b[0m\u001b[0;34m]\u001b[0m\u001b[0;34m[\u001b[0m\u001b[0;36m0\u001b[0m\u001b[0;34m]\u001b[0m\u001b[0;34m)\u001b[0m\u001b[0;34m:\u001b[0m\u001b[0;34m\u001b[0m\u001b[0;34m\u001b[0m\u001b[0m\n",
      "\u001b[0;32m~/.local/lib/python3.8/site-packages/sksurgerynditracker/nditracker.py\u001b[0m in \u001b[0;36mget_frame\u001b[0;34m(self)\u001b[0m\n\u001b[1;32m    447\u001b[0m         \u001b[0mtimestamp\u001b[0m \u001b[0;34m=\u001b[0m \u001b[0mtime\u001b[0m\u001b[0;34m(\u001b[0m\u001b[0;34m)\u001b[0m\u001b[0;34m\u001b[0m\u001b[0;34m\u001b[0m\u001b[0m\n\u001b[1;32m    448\u001b[0m         \u001b[0;32mif\u001b[0m \u001b[0;32mnot\u001b[0m \u001b[0mself\u001b[0m\u001b[0;34m.\u001b[0m\u001b[0m_tracker_type\u001b[0m \u001b[0;34m==\u001b[0m \u001b[0;34m\"dummy\"\u001b[0m\u001b[0;34m:\u001b[0m\u001b[0;34m\u001b[0m\u001b[0;34m\u001b[0m\u001b[0m\n\u001b[0;32m--> 449\u001b[0;31m             \u001b[0mndicapy\u001b[0m\u001b[0;34m.\u001b[0m\u001b[0mndiCommand\u001b[0m\u001b[0;34m(\u001b[0m\u001b[0mself\u001b[0m\u001b[0;34m.\u001b[0m\u001b[0m_device\u001b[0m\u001b[0;34m,\u001b[0m \u001b[0mself\u001b[0m\u001b[0;34m.\u001b[0m\u001b[0m_capture_string\u001b[0m\u001b[0;34m)\u001b[0m\u001b[0;34m\u001b[0m\u001b[0;34m\u001b[0m\u001b[0m\n\u001b[0m\u001b[1;32m    450\u001b[0m             \u001b[0;32mfor\u001b[0m \u001b[0mdescriptor\u001b[0m \u001b[0;32min\u001b[0m \u001b[0mself\u001b[0m\u001b[0;34m.\u001b[0m\u001b[0m_tool_descriptors\u001b[0m\u001b[0;34m:\u001b[0m\u001b[0;34m\u001b[0m\u001b[0;34m\u001b[0m\u001b[0m\n\u001b[1;32m    451\u001b[0m                 \u001b[0mport_handles\u001b[0m\u001b[0;34m.\u001b[0m\u001b[0mappend\u001b[0m\u001b[0;34m(\u001b[0m\u001b[0mdescriptor\u001b[0m\u001b[0;34m.\u001b[0m\u001b[0mget\u001b[0m\u001b[0;34m(\u001b[0m\u001b[0;34m\"port handle\"\u001b[0m\u001b[0;34m)\u001b[0m\u001b[0;34m)\u001b[0m\u001b[0;34m\u001b[0m\u001b[0;34m\u001b[0m\u001b[0m\n",
      "\u001b[0;31mOSError\u001b[0m: Error 0x0105: Serial port read error"
     ]
    }
   ],
   "source": [
    "# refresh for model\n",
    "shift_matrix=np.diag([1,1,1,1])\n",
    "shift_matrix[0,3]=-9\n",
    "shift_matrix[1,3]=0\n",
    "shift_matrix[2,3]=-1\n",
    "\n",
    "for i in tqdm(range(1000)):\n",
    "    base2world,hololens2tracker=HDRegister.GetResult()\n",
    "    port_handles, timestamps, framenumbers, tracking, quality = TRACKER.get_frame()\n",
    "    model_tracker_2_ndi=tracking[1]\n",
    "    if not math.isnan(model_tracker_2_ndi[0][0]):\n",
    "        model_2_world=shift_matrix@np.linalg.inv(base2world)@model_tracker_2_ndi@rs_uvd_Model_2[0]\n",
    "        Hololens.SetPosition(2,model_2_world)\n",
    "    time.sleep(1/40)"
   ]
  },
  {
   "cell_type": "code",
   "execution_count": 181,
   "id": "49bd353b-1c7b-4160-a2be-345863227225",
   "metadata": {},
   "outputs": [
    {
     "name": "stderr",
     "output_type": "stream",
     "text": [
      " 13%|█████                                 | 1329/10000 [01:06<07:13, 20.01it/s]\n"
     ]
    },
    {
     "ename": "KeyboardInterrupt",
     "evalue": "",
     "output_type": "error",
     "traceback": [
      "\u001b[0;31m---------------------------------------------------------------------------\u001b[0m",
      "\u001b[0;31mKeyboardInterrupt\u001b[0m                         Traceback (most recent call last)",
      "\u001b[0;32m/tmp/ipykernel_269828/3084932221.py\u001b[0m in \u001b[0;36m<module>\u001b[0;34m\u001b[0m\n\u001b[1;32m     11\u001b[0m         \u001b[0mNeedle_model_pose\u001b[0m\u001b[0;34m=\u001b[0m\u001b[0mshift_matrix\u001b[0m\u001b[0;34m@\u001b[0m\u001b[0mnp\u001b[0m\u001b[0;34m.\u001b[0m\u001b[0mlinalg\u001b[0m\u001b[0;34m.\u001b[0m\u001b[0minv\u001b[0m\u001b[0;34m(\u001b[0m\u001b[0mbase2world\u001b[0m\u001b[0;34m)\u001b[0m\u001b[0;34m@\u001b[0m\u001b[0mdrill2ndi\u001b[0m\u001b[0;34m@\u001b[0m\u001b[0mneedle_image_2_tracker\u001b[0m\u001b[0;34m\u001b[0m\u001b[0;34m\u001b[0m\u001b[0m\n\u001b[1;32m     12\u001b[0m         \u001b[0mHololens\u001b[0m\u001b[0;34m.\u001b[0m\u001b[0mSetPosition\u001b[0m\u001b[0;34m(\u001b[0m\u001b[0;36m5\u001b[0m\u001b[0;34m,\u001b[0m\u001b[0mNeedle_model_pose\u001b[0m\u001b[0;34m)\u001b[0m\u001b[0;34m\u001b[0m\u001b[0;34m\u001b[0m\u001b[0m\n\u001b[0;32m---> 13\u001b[0;31m     \u001b[0mtime\u001b[0m\u001b[0;34m.\u001b[0m\u001b[0msleep\u001b[0m\u001b[0;34m(\u001b[0m\u001b[0;36m1\u001b[0m\u001b[0;34m/\u001b[0m\u001b[0;36m30\u001b[0m\u001b[0;34m)\u001b[0m\u001b[0;34m\u001b[0m\u001b[0;34m\u001b[0m\u001b[0m\n\u001b[0m",
      "\u001b[0;31mKeyboardInterrupt\u001b[0m: "
     ]
    }
   ],
   "source": [
    "shift_matrix=np.diag([1,1,1,1])\n",
    "shift_matrix[0,3]=-5\n",
    "shift_matrix[1,3]=0\n",
    "shift_matrix[2,3]=-1\n",
    "for i in tqdm(range(10000)):\n",
    "    base2world,hololens2tracker=HDRegister.GetResult()\n",
    "    port_handles, timestamps, framenumbers, tracking, quality = TRACKER.get_frame()\n",
    "    drill2ndi=tracking[0]\n",
    "    \n",
    "    if not math.isnan(drill2ndi[0][0]):\n",
    "        Needle_model_pose=shift_matrix@np.linalg.inv(base2world)@drill2ndi@needle_image_2_tracker\n",
    "        Hololens.SetPosition(5,Needle_model_pose)\n",
    "    time.sleep(1/30)"
   ]
  },
  {
   "cell_type": "code",
   "execution_count": 84,
   "id": "2997924f-b4bd-4b20-967b-b2f33fb40f00",
   "metadata": {},
   "outputs": [],
   "source": [
    "TransformMatrix=np.diag([1,1,1,1])\n",
    "TransformMatrix[0,3]=0\n",
    "TransformMatrix[1,3]=0\n",
    "TransformMatrix[2,3]=-10000\n",
    "for i in range(6):\n",
    "    Hololens.SetPosition(i,TransformMatrix)\n",
    "    time.sleep(1/20)"
   ]
  },
  {
   "cell_type": "code",
   "execution_count": null,
   "id": "dc006b66-a26b-46a7-aea0-587c33aadd36",
   "metadata": {},
   "outputs": [],
   "source": []
  },
  {
   "cell_type": "code",
   "execution_count": null,
   "id": "38f2581d-caaa-40fa-a86d-dfaf5a9c7c66",
   "metadata": {},
   "outputs": [],
   "source": []
  },
  {
   "cell_type": "code",
   "execution_count": null,
   "id": "a5fb73cf-b163-48a6-a340-e675a053e138",
   "metadata": {},
   "outputs": [],
   "source": []
  },
  {
   "cell_type": "code",
   "execution_count": null,
   "id": "0d8df7e3-02e0-4fb0-b73c-385546be6663",
   "metadata": {},
   "outputs": [],
   "source": []
  },
  {
   "cell_type": "code",
   "execution_count": null,
   "id": "90477562-cc9d-47a1-b02c-12b7e352ea27",
   "metadata": {},
   "outputs": [],
   "source": []
  },
  {
   "cell_type": "code",
   "execution_count": null,
   "id": "e243b9a5-390a-4f0f-88a6-4df1bdc4fca0",
   "metadata": {},
   "outputs": [],
   "source": []
  },
  {
   "cell_type": "code",
   "execution_count": null,
   "id": "ab6695d8-7291-4bf6-aff3-1c9ad7628520",
   "metadata": {},
   "outputs": [],
   "source": []
  },
  {
   "cell_type": "code",
   "execution_count": null,
   "id": "db4f4fca-0152-47b7-ade4-d38634059572",
   "metadata": {},
   "outputs": [],
   "source": []
  },
  {
   "cell_type": "code",
   "execution_count": null,
   "id": "0d309b74-8314-4dbc-8731-016c18105293",
   "metadata": {},
   "outputs": [],
   "source": []
  },
  {
   "cell_type": "code",
   "execution_count": null,
   "id": "479521f8-7c05-4103-a6d9-5b00207084bc",
   "metadata": {},
   "outputs": [],
   "source": []
  },
  {
   "cell_type": "code",
   "execution_count": null,
   "id": "273d5c59-3750-4fb1-a70a-ec377998cbf3",
   "metadata": {},
   "outputs": [],
   "source": []
  },
  {
   "cell_type": "code",
   "execution_count": null,
   "id": "7a703a98-55f3-47f8-a6b1-395b587036b3",
   "metadata": {},
   "outputs": [],
   "source": []
  },
  {
   "cell_type": "code",
   "execution_count": 110,
   "id": "8edad02e",
   "metadata": {},
   "outputs": [
    {
     "name": "stdout",
     "output_type": "stream",
     "text": [
      "Trying to connect to NDI\n",
      "NDI Connected\n"
     ]
    }
   ],
   "source": [
    "HololensDeviceFile=\"HE_Experiment/HololensDevice.xml\"\n",
    "Hololens=LoadDeviceData(HololensDeviceFile)[3][0]\n",
    "tooltip=np.array([[145.77],[19.10],[176.65],[1]])\n",
    "SETTINGS = {\n",
    "        \"tracker type\": \"polaris\",\n",
    "        \"romfiles\" : [\"tracker/Drill.rom\",\"tracker/Hololens.rom\",\"tracker/Spine.rom\",\"tracker/Pointer_1.rom\"]\n",
    "    }\n",
    "print(\"Trying to connect to NDI\")\n",
    "TRACKER = NDITracker(SETTINGS)\n",
    "TRACKER.start_tracking()\n",
    "print(\"NDI Connected\")"
   ]
  },
  {
   "cell_type": "code",
   "execution_count": 17,
   "id": "8c3b65ec-7c8d-4e86-8917-03485798ac48",
   "metadata": {},
   "outputs": [
    {
     "name": "stdout",
     "output_type": "stream",
     "text": [
      "[array([[nan, nan, nan, nan],\n",
      "       [nan, nan, nan, nan],\n",
      "       [nan, nan, nan, nan],\n",
      "       [nan, nan, nan, nan]]), array([[nan, nan, nan, nan],\n",
      "       [nan, nan, nan, nan],\n",
      "       [nan, nan, nan, nan],\n",
      "       [nan, nan, nan, nan]]), array([[nan, nan, nan, nan],\n",
      "       [nan, nan, nan, nan],\n",
      "       [nan, nan, nan, nan],\n",
      "       [nan, nan, nan, nan]]), array([[ 8.69853560e-01,  5.49318708e-02, -4.90242056e-01,\n",
      "        -1.70098709e+02],\n",
      "       [ 3.98513482e-02,  9.82708028e-01,  1.80822568e-01,\n",
      "         2.35490082e+02],\n",
      "       [ 4.91697727e-01, -1.76825961e-01,  8.52622968e-01,\n",
      "        -1.55360474e+03],\n",
      "       [ 0.00000000e+00,  0.00000000e+00,  0.00000000e+00,\n",
      "         1.00000000e+00]])]\n"
     ]
    }
   ],
   "source": [
    "port_handles, timestamps, framenumbers, tracking, quality = TRACKER.get_frame()\n",
    "print(tracking)"
   ]
  },
  {
   "cell_type": "code",
   "execution_count": 21,
   "id": "5147da2f",
   "metadata": {},
   "outputs": [
    {
     "name": "stdout",
     "output_type": "stream",
     "text": [
      "trying to connect to :\n",
      "('192.168.249.119', 3000)\n",
      "connect success\n",
      "trying to connect to :\n",
      "('192.168.249.119', 4000)\n",
      "connect success\n",
      "Connected\n",
      "Hololens Connected\n"
     ]
    }
   ],
   "source": [
    "Hololens.ConnectSocketChannel()\n",
    "print(\"Hololens Connected\")"
   ]
  },
  {
   "cell_type": "code",
   "execution_count": 22,
   "id": "a3c23304",
   "metadata": {},
   "outputs": [
    {
     "name": "stdout",
     "output_type": "stream",
     "text": [
      "NaN Value\n"
     ]
    }
   ],
   "source": [
    "port_handles, timestamps, framenumbers, tracking, quality = TRACKER.get_frame()\n",
    "if math.isnan(tracking[0][0][0]) or math.isnan(tracking[3][0][0]):\n",
    "    print(\"NaN Value\")\n",
    "else:\n",
    "    DrillTip=np.linalg.inv(tracking[0])@tracking[3]@tooltip\n",
    "    print(DrillTip)"
   ]
  },
  {
   "cell_type": "code",
   "execution_count": 13,
   "id": "97f6b9bf",
   "metadata": {},
   "outputs": [
    {
     "name": "stdout",
     "output_type": "stream",
     "text": [
      "Hand Eye Calibration Data Cleaned\n"
     ]
    }
   ],
   "source": [
    "HDRegister=HololensNDIRegister()\n",
    "print(\"Hand Eye Calibration Data Cleaned\")"
   ]
  },
  {
   "cell_type": "code",
   "execution_count": 33,
   "id": "67550ab5",
   "metadata": {},
   "outputs": [
    {
     "name": "stdout",
     "output_type": "stream",
     "text": [
      "Register, Num:  17,  Err:  2.0966282177913653\n"
     ]
    }
   ],
   "source": [
    "Hololens_pos=Hololens.GetHololensPosition()\n",
    "port_handles, timestamps, framenumbers, tracking, quality = TRACKER.get_frame()\n",
    "NDI_pos=tracking[1]\n",
    "if not(math.isnan(NDI_pos[0][0])):\n",
    "    Num,Err=HDRegister.AddPoint(Hololens_pos,NDI_pos)\n",
    "    print(\"Register, Num:  \"+str(Num)+\",  Err:  \"+str(Err))\n",
    "else:\n",
    "    print(\"No hololen tracker detected\")\n",
    "    \n"
   ]
  },
  {
   "cell_type": "code",
   "execution_count": null,
   "id": "30d4f073-8951-444f-9428-d7a2d868151b",
   "metadata": {},
   "outputs": [],
   "source": [
    "for i in tqdm(range(2000)):\n",
    "    base2world,hololens2tracker=HDRegister.GetResult()\n",
    "    port_handles, timestamps, framenumbers, tracking, quality = TRACKER.get_frame()\n",
    "    rm=tracking[0]\n",
    "    if not math.isnan(rm[0][0]):\n",
    "        res_shift=np.linalg.inv(base2world)@rm@DrillTip\n",
    "        TransformMatrix=np.diag([1,1,1,1])\n",
    "        TransformMatrix[0,3]=res_shift[0][0]\n",
    "        TransformMatrix[1,3]=res_shift[1][0]\n",
    "        TransformMatrix[2,3]=res_shift[2][0]\n",
    "        Hololens.SetPosition(1,TransformMatrix)\n",
    "        # print(TransformMatrix)\n",
    "    else:\n",
    "        # print(\"NaN Detected\")\n",
    "    time.sleep(1/40)\n",
    "    "
   ]
  },
  {
   "cell_type": "code",
   "execution_count": 47,
   "id": "59c4000d",
   "metadata": {},
   "outputs": [
    {
     "name": "stderr",
     "output_type": "stream",
     "text": [
      "  0%|                                          | 3/2000 [00:00<01:32, 21.69it/s]"
     ]
    },
    {
     "name": "stdout",
     "output_type": "stream",
     "text": [
      "[[   1    0    0 -685]\n",
      " [   0    1    0  281]\n",
      " [   0    0    1  145]\n",
      " [   0    0    0    1]]\n",
      "[[   1    0    0 -685]\n",
      " [   0    1    0  281]\n",
      " [   0    0    1  145]\n",
      " [   0    0    0    1]]\n",
      "[[   1    0    0 -685]\n",
      " [   0    1    0  280]\n",
      " [   0    0    1  145]\n",
      " [   0    0    0    1]]\n",
      "[[   1    0    0 -685]\n",
      " [   0    1    0  281]\n",
      " [   0    0    1  145]\n",
      " [   0    0    0    1]]\n",
      "[[   1    0    0 -685]\n",
      " [   0    1    0  280]\n",
      " [   0    0    1  145]\n",
      " [   0    0    0    1]]\n"
     ]
    },
    {
     "name": "stderr",
     "output_type": "stream",
     "text": [
      "  0%|▏                                         | 9/2000 [00:00<01:37, 20.37it/s]"
     ]
    },
    {
     "name": "stdout",
     "output_type": "stream",
     "text": [
      "[[   1    0    0 -685]\n",
      " [   0    1    0  280]\n",
      " [   0    0    1  145]\n",
      " [   0    0    0    1]]\n",
      "[[   1    0    0 -685]\n",
      " [   0    1    0  280]\n",
      " [   0    0    1  145]\n",
      " [   0    0    0    1]]\n",
      "[[   1    0    0 -685]\n",
      " [   0    1    0  280]\n",
      " [   0    0    1  145]\n",
      " [   0    0    0    1]]\n",
      "[[   1    0    0 -685]\n",
      " [   0    1    0  281]\n",
      " [   0    0    1  145]\n",
      " [   0    0    0    1]]\n",
      "[[   1    0    0 -685]\n",
      " [   0    1    0  280]\n",
      " [   0    0    1  145]\n",
      " [   0    0    0    1]]\n"
     ]
    },
    {
     "name": "stderr",
     "output_type": "stream",
     "text": [
      "  1%|▏                                        | 12/2000 [00:00<01:38, 20.22it/s]"
     ]
    },
    {
     "name": "stdout",
     "output_type": "stream",
     "text": [
      "[[   1    0    0 -685]\n",
      " [   0    1    0  281]\n",
      " [   0    0    1  145]\n",
      " [   0    0    0    1]]\n",
      "[[   1    0    0 -685]\n",
      " [   0    1    0  280]\n",
      " [   0    0    1  145]\n",
      " [   0    0    0    1]]\n",
      "[[   1    0    0 -685]\n",
      " [   0    1    0  281]\n",
      " [   0    0    1  145]\n",
      " [   0    0    0    1]]\n",
      "[[   1    0    0 -685]\n",
      " [   0    1    0  281]\n",
      " [   0    0    1  145]\n",
      " [   0    0    0    1]]\n",
      "[[   1    0    0 -685]\n",
      " [   0    1    0  280]\n",
      " [   0    0    1  145]\n",
      " [   0    0    0    1]]\n"
     ]
    },
    {
     "name": "stderr",
     "output_type": "stream",
     "text": [
      "  1%|▎                                        | 18/2000 [00:00<01:38, 20.10it/s]"
     ]
    },
    {
     "name": "stdout",
     "output_type": "stream",
     "text": [
      "[[   1    0    0 -685]\n",
      " [   0    1    0  280]\n",
      " [   0    0    1  145]\n",
      " [   0    0    0    1]]\n",
      "[[   1    0    0 -685]\n",
      " [   0    1    0  281]\n",
      " [   0    0    1  145]\n",
      " [   0    0    0    1]]\n",
      "[[   1    0    0 -685]\n",
      " [   0    1    0  281]\n",
      " [   0    0    1  145]\n",
      " [   0    0    0    1]]\n",
      "[[   1    0    0 -685]\n",
      " [   0    1    0  281]\n",
      " [   0    0    1  145]\n",
      " [   0    0    0    1]]\n",
      "[[   1    0    0 -685]\n",
      " [   0    1    0  280]\n",
      " [   0    0    1  145]\n",
      " [   0    0    0    1]]\n"
     ]
    },
    {
     "name": "stderr",
     "output_type": "stream",
     "text": [
      "  1%|▍                                        | 24/2000 [00:01<01:38, 20.03it/s]"
     ]
    },
    {
     "name": "stdout",
     "output_type": "stream",
     "text": [
      "[[   1    0    0 -685]\n",
      " [   0    1    0  281]\n",
      " [   0    0    1  145]\n",
      " [   0    0    0    1]]\n",
      "[[   1    0    0 -685]\n",
      " [   0    1    0  280]\n",
      " [   0    0    1  145]\n",
      " [   0    0    0    1]]\n",
      "[[   1    0    0 -685]\n",
      " [   0    1    0  280]\n",
      " [   0    0    1  145]\n",
      " [   0    0    0    1]]\n",
      "[[   1    0    0 -685]\n",
      " [   0    1    0  281]\n",
      " [   0    0    1  145]\n",
      " [   0    0    0    1]]\n",
      "[[   1    0    0 -685]\n",
      " [   0    1    0  281]\n",
      " [   0    0    1  145]\n",
      " [   0    0    0    1]]\n"
     ]
    },
    {
     "name": "stderr",
     "output_type": "stream",
     "text": [
      "  1%|▌                                        | 27/2000 [00:01<01:38, 20.06it/s]"
     ]
    },
    {
     "name": "stdout",
     "output_type": "stream",
     "text": [
      "[[   1    0    0 -685]\n",
      " [   0    1    0  280]\n",
      " [   0    0    1  145]\n",
      " [   0    0    0    1]]\n",
      "[[   1    0    0 -685]\n",
      " [   0    1    0  280]\n",
      " [   0    0    1  145]\n",
      " [   0    0    0    1]]\n",
      "[[   1    0    0 -685]\n",
      " [   0    1    0  280]\n",
      " [   0    0    1  145]\n",
      " [   0    0    0    1]]\n",
      "[[   1    0    0 -685]\n",
      " [   0    1    0  280]\n",
      " [   0    0    1  145]\n",
      " [   0    0    0    1]]\n"
     ]
    },
    {
     "name": "stderr",
     "output_type": "stream",
     "text": [
      "  2%|▋                                        | 33/2000 [00:01<01:37, 20.09it/s]"
     ]
    },
    {
     "name": "stdout",
     "output_type": "stream",
     "text": [
      "[[   1    0    0 -685]\n",
      " [   0    1    0  280]\n",
      " [   0    0    1  145]\n",
      " [   0    0    0    1]]\n",
      "[[   1    0    0 -685]\n",
      " [   0    1    0  280]\n",
      " [   0    0    1  145]\n",
      " [   0    0    0    1]]\n",
      "[[   1    0    0 -685]\n",
      " [   0    1    0  280]\n",
      " [   0    0    1  145]\n",
      " [   0    0    0    1]]\n",
      "[[   1    0    0 -685]\n",
      " [   0    1    0  280]\n",
      " [   0    0    1  145]\n",
      " [   0    0    0    1]]\n",
      "[[   1    0    0 -685]\n",
      " [   0    1    0  280]\n",
      " [   0    0    1  145]\n",
      " [   0    0    0    1]]\n"
     ]
    },
    {
     "name": "stderr",
     "output_type": "stream",
     "text": [
      "  2%|▋                                        | 36/2000 [00:01<01:37, 20.05it/s]"
     ]
    },
    {
     "name": "stdout",
     "output_type": "stream",
     "text": [
      "[[   1    0    0 -685]\n",
      " [   0    1    0  280]\n",
      " [   0    0    1  145]\n",
      " [   0    0    0    1]]\n",
      "[[   1    0    0 -685]\n",
      " [   0    1    0  280]\n",
      " [   0    0    1  145]\n",
      " [   0    0    0    1]]\n",
      "[[   1    0    0 -685]\n",
      " [   0    1    0  280]\n",
      " [   0    0    1  145]\n",
      " [   0    0    0    1]]\n",
      "[[   1    0    0 -685]\n",
      " [   0    1    0  280]\n",
      " [   0    0    1  145]\n",
      " [   0    0    0    1]]\n",
      "[[   1    0    0 -685]\n",
      " [   0    1    0  280]\n",
      " [   0    0    1  145]\n",
      " [   0    0    0    1]]\n"
     ]
    },
    {
     "name": "stderr",
     "output_type": "stream",
     "text": [
      "  2%|▊                                        | 42/2000 [00:02<01:36, 20.20it/s]"
     ]
    },
    {
     "name": "stdout",
     "output_type": "stream",
     "text": [
      "[[   1    0    0 -685]\n",
      " [   0    1    0  281]\n",
      " [   0    0    1  146]\n",
      " [   0    0    0    1]]\n",
      "[[   1    0    0 -685]\n",
      " [   0    1    0  280]\n",
      " [   0    0    1  145]\n",
      " [   0    0    0    1]]\n",
      "NaN Detected\n",
      "NaN Detected\n",
      "NaN Detected\n"
     ]
    },
    {
     "name": "stderr",
     "output_type": "stream",
     "text": [
      "  2%|▉                                        | 48/2000 [00:02<01:25, 22.71it/s]"
     ]
    },
    {
     "name": "stdout",
     "output_type": "stream",
     "text": [
      "NaN Detected\n",
      "NaN Detected\n",
      "NaN Detected\n",
      "NaN Detected\n",
      "NaN Detected\n"
     ]
    },
    {
     "name": "stderr",
     "output_type": "stream",
     "text": [
      "  3%|█                                        | 51/2000 [00:02<01:29, 21.68it/s]"
     ]
    },
    {
     "name": "stdout",
     "output_type": "stream",
     "text": [
      "NaN Detected\n",
      "NaN Detected\n",
      "NaN Detected\n",
      "NaN Detected\n",
      "NaN Detected\n"
     ]
    },
    {
     "name": "stderr",
     "output_type": "stream",
     "text": [
      "  3%|█▏                                       | 57/2000 [00:02<01:21, 23.98it/s]"
     ]
    },
    {
     "name": "stdout",
     "output_type": "stream",
     "text": [
      "NaN Detected\n",
      "NaN Detected\n",
      "NaN Detected\n",
      "NaN Detected\n",
      "NaN Detected\n",
      "NaN Detected\n"
     ]
    },
    {
     "name": "stderr",
     "output_type": "stream",
     "text": [
      "  3%|█▎                                       | 64/2000 [00:02<01:13, 26.23it/s]"
     ]
    },
    {
     "name": "stdout",
     "output_type": "stream",
     "text": [
      "NaN Detected\n",
      "NaN Detected\n",
      "NaN Detected\n",
      "NaN Detected\n",
      "NaN Detected\n",
      "NaN Detected\n"
     ]
    },
    {
     "name": "stderr",
     "output_type": "stream",
     "text": [
      "  4%|█▍                                       | 70/2000 [00:03<01:14, 25.99it/s]"
     ]
    },
    {
     "name": "stdout",
     "output_type": "stream",
     "text": [
      "NaN Detected\n",
      "NaN Detected\n",
      "NaN Detected\n",
      "NaN Detected\n",
      "NaN Detected\n",
      "NaN Detected\n"
     ]
    },
    {
     "name": "stderr",
     "output_type": "stream",
     "text": [
      "  4%|█▌                                       | 76/2000 [00:03<01:21, 23.69it/s]"
     ]
    },
    {
     "name": "stdout",
     "output_type": "stream",
     "text": [
      "[[   1    0    0 -685]\n",
      " [   0    1    0  281]\n",
      " [   0    0    1  145]\n",
      " [   0    0    0    1]]\n",
      "[[   1    0    0 -685]\n",
      " [   0    1    0  280]\n",
      " [   0    0    1  145]\n",
      " [   0    0    0    1]]\n",
      "[[   1    0    0 -685]\n",
      " [   0    1    0  280]\n",
      " [   0    0    1  145]\n",
      " [   0    0    0    1]]\n",
      "[[   1    0    0 -685]\n",
      " [   0    1    0  281]\n",
      " [   0    0    1  145]\n",
      " [   0    0    0    1]]\n",
      "[[   1    0    0 -685]\n",
      " [   0    1    0  280]\n",
      " [   0    0    1  145]\n",
      " [   0    0    0    1]]\n"
     ]
    },
    {
     "name": "stderr",
     "output_type": "stream",
     "text": [
      "  4%|█▌                                       | 79/2000 [00:03<01:26, 22.27it/s]"
     ]
    },
    {
     "name": "stdout",
     "output_type": "stream",
     "text": [
      "[[   1    0    0 -685]\n",
      " [   0    1    0  280]\n",
      " [   0    0    1  145]\n",
      " [   0    0    0    1]]\n",
      "[[   1    0    0 -685]\n",
      " [   0    1    0  280]\n",
      " [   0    0    1  145]\n",
      " [   0    0    0    1]]\n",
      "[[   1    0    0 -685]\n",
      " [   0    1    0  280]\n",
      " [   0    0    1  145]\n",
      " [   0    0    0    1]]\n",
      "[[   1    0    0 -685]\n",
      " [   0    1    0  280]\n",
      " [   0    0    1  145]\n",
      " [   0    0    0    1]]\n",
      "[[   1    0    0 -685]\n",
      " [   0    1    0  281]\n",
      " [   0    0    1  145]\n",
      " [   0    0    0    1]]\n"
     ]
    },
    {
     "name": "stderr",
     "output_type": "stream",
     "text": [
      "  4%|█▋                                       | 85/2000 [00:03<01:30, 21.19it/s]"
     ]
    },
    {
     "name": "stdout",
     "output_type": "stream",
     "text": [
      "[[   1    0    0 -685]\n",
      " [   0    1    0  281]\n",
      " [   0    0    1  145]\n",
      " [   0    0    0    1]]\n",
      "[[   1    0    0 -685]\n",
      " [   0    1    0  280]\n",
      " [   0    0    1  145]\n",
      " [   0    0    0    1]]\n",
      "[[   1    0    0 -685]\n",
      " [   0    1    0  280]\n",
      " [   0    0    1  145]\n",
      " [   0    0    0    1]]\n",
      "[[   1    0    0 -685]\n",
      " [   0    1    0  281]\n",
      " [   0    0    1  145]\n",
      " [   0    0    0    1]]\n",
      "[[   1    0    0 -685]\n",
      " [   0    1    0  281]\n",
      " [   0    0    1  145]\n",
      " [   0    0    0    1]]\n"
     ]
    },
    {
     "name": "stderr",
     "output_type": "stream",
     "text": [
      "  5%|█▊                                       | 91/2000 [00:04<01:32, 20.61it/s]"
     ]
    },
    {
     "name": "stdout",
     "output_type": "stream",
     "text": [
      "[[   1    0    0 -685]\n",
      " [   0    1    0  280]\n",
      " [   0    0    1  145]\n",
      " [   0    0    0    1]]\n",
      "[[   1    0    0 -685]\n",
      " [   0    1    0  280]\n",
      " [   0    0    1  145]\n",
      " [   0    0    0    1]]\n",
      "[[   1    0    0 -685]\n",
      " [   0    1    0  280]\n",
      " [   0    0    1  145]\n",
      " [   0    0    0    1]]\n",
      "[[   1    0    0 -685]\n",
      " [   0    1    0  280]\n",
      " [   0    0    1  145]\n",
      " [   0    0    0    1]]\n",
      "[[   1    0    0 -685]\n",
      " [   0    1    0  280]\n",
      " [   0    0    1  145]\n",
      " [   0    0    0    1]]\n"
     ]
    },
    {
     "name": "stderr",
     "output_type": "stream",
     "text": [
      "  5%|█▉                                       | 94/2000 [00:04<01:33, 20.42it/s]"
     ]
    },
    {
     "name": "stdout",
     "output_type": "stream",
     "text": [
      "[[   1    0    0 -685]\n",
      " [   0    1    0  281]\n",
      " [   0    0    1  145]\n",
      " [   0    0    0    1]]\n",
      "[[   1    0    0 -685]\n",
      " [   0    1    0  281]\n",
      " [   0    0    1  145]\n",
      " [   0    0    0    1]]\n",
      "[[   1    0    0 -685]\n",
      " [   0    1    0  280]\n",
      " [   0    0    1  145]\n",
      " [   0    0    0    1]]\n",
      "[[   1    0    0 -685]\n",
      " [   0    1    0  280]\n",
      " [   0    0    1  145]\n",
      " [   0    0    0    1]]\n",
      "[[   1    0    0 -685]\n",
      " [   0    1    0  280]\n",
      " [   0    0    1  145]\n",
      " [   0    0    0    1]]\n"
     ]
    },
    {
     "name": "stderr",
     "output_type": "stream",
     "text": [
      "  5%|██                                      | 100/2000 [00:04<01:33, 20.22it/s]"
     ]
    },
    {
     "name": "stdout",
     "output_type": "stream",
     "text": [
      "[[   1    0    0 -685]\n",
      " [   0    1    0  281]\n",
      " [   0    0    1  145]\n",
      " [   0    0    0    1]]\n",
      "[[   1    0    0 -685]\n",
      " [   0    1    0  280]\n",
      " [   0    0    1  145]\n",
      " [   0    0    0    1]]\n",
      "[[   1    0    0 -685]\n",
      " [   0    1    0  281]\n",
      " [   0    0    1  145]\n",
      " [   0    0    0    1]]\n",
      "[[   1    0    0 -685]\n",
      " [   0    1    0  280]\n",
      " [   0    0    1  145]\n",
      " [   0    0    0    1]]\n",
      "[[   1    0    0 -685]\n",
      " [   0    1    0  280]\n",
      " [   0    0    1  145]\n",
      " [   0    0    0    1]]\n"
     ]
    },
    {
     "name": "stderr",
     "output_type": "stream",
     "text": [
      "  5%|██                                      | 106/2000 [00:04<01:34, 20.11it/s]"
     ]
    },
    {
     "name": "stdout",
     "output_type": "stream",
     "text": [
      "[[   1    0    0 -685]\n",
      " [   0    1    0  281]\n",
      " [   0    0    1  145]\n",
      " [   0    0    0    1]]\n",
      "[[   1    0    0 -685]\n",
      " [   0    1    0  280]\n",
      " [   0    0    1  145]\n",
      " [   0    0    0    1]]\n",
      "[[   1    0    0 -685]\n",
      " [   0    1    0  281]\n",
      " [   0    0    1  145]\n",
      " [   0    0    0    1]]\n",
      "[[   1    0    0 -685]\n",
      " [   0    1    0  280]\n",
      " [   0    0    1  145]\n",
      " [   0    0    0    1]]\n",
      "[[   1    0    0 -685]\n",
      " [   0    1    0  280]\n",
      " [   0    0    1  145]\n",
      " [   0    0    0    1]]\n"
     ]
    },
    {
     "name": "stderr",
     "output_type": "stream",
     "text": [
      "  5%|██▏                                     | 109/2000 [00:05<01:34, 20.08it/s]"
     ]
    },
    {
     "name": "stdout",
     "output_type": "stream",
     "text": [
      "[[   1    0    0 -685]\n",
      " [   0    1    0  281]\n",
      " [   0    0    1  145]\n",
      " [   0    0    0    1]]\n",
      "[[   1    0    0 -685]\n",
      " [   0    1    0  281]\n",
      " [   0    0    1  145]\n",
      " [   0    0    0    1]]\n",
      "[[   1    0    0 -685]\n",
      " [   0    1    0  280]\n",
      " [   0    0    1  145]\n",
      " [   0    0    0    1]]\n",
      "[[   1    0    0 -685]\n",
      " [   0    1    0  280]\n",
      " [   0    0    1  145]\n",
      " [   0    0    0    1]]\n",
      "[[   1    0    0 -685]\n",
      " [   0    1    0  280]\n",
      " [   0    0    1  145]\n",
      " [   0    0    0    1]]\n"
     ]
    },
    {
     "name": "stderr",
     "output_type": "stream",
     "text": [
      "  6%|██▎                                     | 115/2000 [00:05<01:33, 20.08it/s]"
     ]
    },
    {
     "name": "stdout",
     "output_type": "stream",
     "text": [
      "[[   1    0    0 -685]\n",
      " [   0    1    0  280]\n",
      " [   0    0    1  145]\n",
      " [   0    0    0    1]]\n",
      "[[   1    0    0 -685]\n",
      " [   0    1    0  281]\n",
      " [   0    0    1  145]\n",
      " [   0    0    0    1]]\n",
      "[[   1    0    0 -685]\n",
      " [   0    1    0  280]\n",
      " [   0    0    1  145]\n",
      " [   0    0    0    1]]\n",
      "[[   1    0    0 -685]\n",
      " [   0    1    0  281]\n",
      " [   0    0    1  145]\n",
      " [   0    0    0    1]]\n",
      "[[   1    0    0 -685]\n",
      " [   0    1    0  281]\n",
      " [   0    0    1  145]\n",
      " [   0    0    0    1]]\n"
     ]
    },
    {
     "name": "stderr",
     "output_type": "stream",
     "text": [
      "  6%|██▍                                     | 121/2000 [00:05<01:33, 20.04it/s]"
     ]
    },
    {
     "name": "stdout",
     "output_type": "stream",
     "text": [
      "[[   1    0    0 -685]\n",
      " [   0    1    0  281]\n",
      " [   0    0    1  145]\n",
      " [   0    0    0    1]]\n",
      "[[   1    0    0 -685]\n",
      " [   0    1    0  281]\n",
      " [   0    0    1  145]\n",
      " [   0    0    0    1]]\n",
      "[[   1    0    0 -685]\n",
      " [   0    1    0  281]\n",
      " [   0    0    1  145]\n",
      " [   0    0    0    1]]\n",
      "[[   1    0    0 -685]\n",
      " [   0    1    0  280]\n",
      " [   0    0    1  145]\n",
      " [   0    0    0    1]]\n",
      "[[   1    0    0 -685]\n",
      " [   0    1    0  280]\n",
      " [   0    0    1  145]\n",
      " [   0    0    0    1]]"
     ]
    },
    {
     "name": "stderr",
     "output_type": "stream",
     "text": [
      "  6%|██▍                                     | 124/2000 [00:05<01:33, 20.03it/s]"
     ]
    },
    {
     "name": "stdout",
     "output_type": "stream",
     "text": [
      "\n",
      "[[   1    0    0 -685]\n",
      " [   0    1    0  281]\n",
      " [   0    0    1  145]\n",
      " [   0    0    0    1]]\n",
      "[[   1    0    0 -685]\n",
      " [   0    1    0  280]\n",
      " [   0    0    1  145]\n",
      " [   0    0    0    1]]\n",
      "[[   1    0    0 -685]\n",
      " [   0    1    0  280]\n",
      " [   0    0    1  145]\n",
      " [   0    0    0    1]]\n",
      "[[   1    0    0 -685]\n",
      " [   0    1    0  280]\n",
      " [   0    0    1  145]\n",
      " [   0    0    0    1]]\n"
     ]
    },
    {
     "name": "stderr",
     "output_type": "stream",
     "text": [
      "  6%|██▌                                     | 130/2000 [00:06<01:33, 20.02it/s]"
     ]
    },
    {
     "name": "stdout",
     "output_type": "stream",
     "text": [
      "[[   1    0    0 -685]\n",
      " [   0    1    0  281]\n",
      " [   0    0    1  145]\n",
      " [   0    0    0    1]]\n",
      "[[   1    0    0 -685]\n",
      " [   0    1    0  280]\n",
      " [   0    0    1  145]\n",
      " [   0    0    0    1]]\n",
      "[[   1    0    0 -685]\n",
      " [   0    1    0  281]\n",
      " [   0    0    1  145]\n",
      " [   0    0    0    1]]\n",
      "[[   1    0    0 -685]\n",
      " [   0    1    0  281]\n",
      " [   0    0    1  145]\n",
      " [   0    0    0    1]]\n",
      "[[   1    0    0 -685]\n",
      " [   0    1    0  280]\n",
      " [   0    0    1  145]\n",
      " [   0    0    0    1]]\n"
     ]
    },
    {
     "name": "stderr",
     "output_type": "stream",
     "text": [
      "  7%|██▋                                     | 133/2000 [00:06<01:33, 20.01it/s]"
     ]
    },
    {
     "name": "stdout",
     "output_type": "stream",
     "text": [
      "[[   1    0    0 -685]\n",
      " [   0    1    0  281]\n",
      " [   0    0    1  145]\n",
      " [   0    0    0    1]]\n",
      "[[   1    0    0 -685]\n",
      " [   0    1    0  280]\n",
      " [   0    0    1  145]\n",
      " [   0    0    0    1]]\n",
      "[[   1    0    0 -685]\n",
      " [   0    1    0  281]\n",
      " [   0    0    1  145]\n",
      " [   0    0    0    1]]\n",
      "[[   1    0    0 -685]\n",
      " [   0    1    0  280]\n",
      " [   0    0    1  145]\n",
      " [   0    0    0    1]]\n",
      "[[   1    0    0 -685]\n",
      " [   0    1    0  281]\n",
      " [   0    0    1  145]\n",
      " [   0    0    0    1]]\n"
     ]
    },
    {
     "name": "stderr",
     "output_type": "stream",
     "text": [
      "  7%|██▊                                     | 139/2000 [00:06<01:32, 20.05it/s]"
     ]
    },
    {
     "name": "stdout",
     "output_type": "stream",
     "text": [
      "[[   1    0    0 -685]\n",
      " [   0    1    0  280]\n",
      " [   0    0    1  145]\n",
      " [   0    0    0    1]]\n",
      "[[   1    0    0 -685]\n",
      " [   0    1    0  281]\n",
      " [   0    0    1  145]\n",
      " [   0    0    0    1]]\n",
      "[[   1    0    0 -685]\n",
      " [   0    1    0  281]\n",
      " [   0    0    1  145]\n",
      " [   0    0    0    1]]\n",
      "[[   1    0    0 -685]\n",
      " [   0    1    0  280]\n",
      " [   0    0    1  145]\n",
      " [   0    0    0    1]]\n",
      "[[   1    0    0 -685]\n",
      " [   0    1    0  280]\n",
      " [   0    0    1  145]\n",
      " [   0    0    0    1]]\n"
     ]
    },
    {
     "name": "stderr",
     "output_type": "stream",
     "text": [
      "  7%|██▉                                     | 145/2000 [00:06<01:32, 20.03it/s]"
     ]
    },
    {
     "name": "stdout",
     "output_type": "stream",
     "text": [
      "[[   1    0    0 -685]\n",
      " [   0    1    0  280]\n",
      " [   0    0    1  145]\n",
      " [   0    0    0    1]]\n",
      "[[   1    0    0 -685]\n",
      " [   0    1    0  280]\n",
      " [   0    0    1  145]\n",
      " [   0    0    0    1]]\n",
      "[[   1    0    0 -685]\n",
      " [   0    1    0  280]\n",
      " [   0    0    1  145]\n",
      " [   0    0    0    1]]\n",
      "[[   1    0    0 -685]\n",
      " [   0    1    0  281]\n",
      " [   0    0    1  145]\n",
      " [   0    0    0    1]]\n",
      "[[   1    0    0 -685]\n",
      " [   0    1    0  281]\n",
      " [   0    0    1  145]\n",
      " [   0    0    0    1]]\n"
     ]
    },
    {
     "name": "stderr",
     "output_type": "stream",
     "text": [
      "  7%|██▉                                     | 148/2000 [00:07<01:32, 20.02it/s]"
     ]
    },
    {
     "name": "stdout",
     "output_type": "stream",
     "text": [
      "[[   1    0    0 -685]\n",
      " [   0    1    0  280]\n",
      " [   0    0    1  145]\n",
      " [   0    0    0    1]]\n",
      "[[   1    0    0 -685]\n",
      " [   0    1    0  281]\n",
      " [   0    0    1  145]\n",
      " [   0    0    0    1]]\n",
      "[[   1    0    0 -685]\n",
      " [   0    1    0  281]\n",
      " [   0    0    1  145]\n",
      " [   0    0    0    1]]\n",
      "[[   1    0    0 -685]\n",
      " [   0    1    0  280]\n",
      " [   0    0    1  145]\n",
      " [   0    0    0    1]]\n",
      "[[   1    0    0 -685]\n",
      " [   0    1    0  280]\n",
      " [   0    0    1  145]\n",
      " [   0    0    0    1]]\n"
     ]
    },
    {
     "name": "stderr",
     "output_type": "stream",
     "text": [
      "  8%|███                                     | 154/2000 [00:07<01:32, 20.01it/s]"
     ]
    },
    {
     "name": "stdout",
     "output_type": "stream",
     "text": [
      "[[   1    0    0 -685]\n",
      " [   0    1    0  281]\n",
      " [   0    0    1  145]\n",
      " [   0    0    0    1]]\n",
      "[[   1    0    0 -685]\n",
      " [   0    1    0  280]\n",
      " [   0    0    1  145]\n",
      " [   0    0    0    1]]\n",
      "[[   1    0    0 -685]\n",
      " [   0    1    0  280]\n",
      " [   0    0    1  145]\n",
      " [   0    0    0    1]]\n",
      "[[   1    0    0 -685]\n",
      " [   0    1    0  281]\n",
      " [   0    0    1  145]\n",
      " [   0    0    0    1]]\n",
      "[[   1    0    0 -685]\n",
      " [   0    1    0  280]\n",
      " [   0    0    1  145]\n",
      " [   0    0    0    1]]\n"
     ]
    },
    {
     "name": "stderr",
     "output_type": "stream",
     "text": [
      "  8%|███▏                                    | 160/2000 [00:07<01:31, 20.01it/s]"
     ]
    },
    {
     "name": "stdout",
     "output_type": "stream",
     "text": [
      "[[   1    0    0 -685]\n",
      " [   0    1    0  280]\n",
      " [   0    0    1  145]\n",
      " [   0    0    0    1]]\n",
      "[[   1    0    0 -685]\n",
      " [   0    1    0  280]\n",
      " [   0    0    1  145]\n",
      " [   0    0    0    1]]\n",
      "[[   1    0    0 -685]\n",
      " [   0    1    0  280]\n",
      " [   0    0    1  145]\n",
      " [   0    0    0    1]]\n",
      "[[   1    0    0 -685]\n",
      " [   0    1    0  280]\n",
      " [   0    0    1  145]\n",
      " [   0    0    0    1]]\n",
      "[[   1    0    0 -685]\n",
      " [   0    1    0  280]\n",
      " [   0    0    1  145]\n",
      " [   0    0    0    1]]\n"
     ]
    },
    {
     "name": "stderr",
     "output_type": "stream",
     "text": [
      "  8%|███▎                                    | 163/2000 [00:07<01:31, 20.05it/s]"
     ]
    },
    {
     "name": "stdout",
     "output_type": "stream",
     "text": [
      "[[   1    0    0 -685]\n",
      " [   0    1    0  280]\n",
      " [   0    0    1  145]\n",
      " [   0    0    0    1]]\n",
      "[[   1    0    0 -685]\n",
      " [   0    1    0  281]\n",
      " [   0    0    1  145]\n",
      " [   0    0    0    1]]\n",
      "[[   1    0    0 -685]\n",
      " [   0    1    0  280]\n",
      " [   0    0    1  145]\n",
      " [   0    0    0    1]]\n",
      "[[   1    0    0 -685]\n",
      " [   0    1    0  280]\n",
      " [   0    0    1  145]\n",
      " [   0    0    0    1]]\n",
      "[[   1    0    0 -685]\n",
      " [   0    1    0  281]\n",
      " [   0    0    1  145]\n",
      " [   0    0    0    1]]\n"
     ]
    },
    {
     "name": "stderr",
     "output_type": "stream",
     "text": [
      "  8%|███▍                                    | 169/2000 [00:08<01:31, 20.03it/s]"
     ]
    },
    {
     "name": "stdout",
     "output_type": "stream",
     "text": [
      "[[   1    0    0 -685]\n",
      " [   0    1    0  281]\n",
      " [   0    0    1  145]\n",
      " [   0    0    0    1]]\n",
      "[[   1    0    0 -685]\n",
      " [   0    1    0  281]\n",
      " [   0    0    1  145]\n",
      " [   0    0    0    1]]\n",
      "[[   1    0    0 -685]\n",
      " [   0    1    0  281]\n",
      " [   0    0    1  145]\n",
      " [   0    0    0    1]]\n",
      "[[   1    0    0 -685]\n",
      " [   0    1    0  281]\n",
      " [   0    0    1  145]\n",
      " [   0    0    0    1]]\n",
      "[[   1    0    0 -685]\n",
      " [   0    1    0  281]\n",
      " [   0    0    1  145]\n",
      " [   0    0    0    1]]\n"
     ]
    },
    {
     "name": "stderr",
     "output_type": "stream",
     "text": [
      "  9%|███▌                                    | 175/2000 [00:08<01:31, 20.02it/s]"
     ]
    },
    {
     "name": "stdout",
     "output_type": "stream",
     "text": [
      "[[   1    0    0 -685]\n",
      " [   0    1    0  280]\n",
      " [   0    0    1  145]\n",
      " [   0    0    0    1]]\n",
      "[[   1    0    0 -685]\n",
      " [   0    1    0  281]\n",
      " [   0    0    1  145]\n",
      " [   0    0    0    1]]\n",
      "[[   1    0    0 -685]\n",
      " [   0    1    0  281]\n",
      " [   0    0    1  145]\n",
      " [   0    0    0    1]]\n",
      "[[   1    0    0 -685]\n",
      " [   0    1    0  281]\n",
      " [   0    0    1  145]\n",
      " [   0    0    0    1]]\n",
      "[[   1    0    0 -685]\n",
      " [   0    1    0  280]\n",
      " [   0    0    1  145]\n",
      " [   0    0    0    1]]\n"
     ]
    },
    {
     "name": "stderr",
     "output_type": "stream",
     "text": [
      "  9%|███▌                                    | 178/2000 [00:08<01:31, 20.01it/s]"
     ]
    },
    {
     "name": "stdout",
     "output_type": "stream",
     "text": [
      "[[   1    0    0 -685]\n",
      " [   0    1    0  280]\n",
      " [   0    0    1  145]\n",
      " [   0    0    0    1]]\n",
      "[[   1    0    0 -685]\n",
      " [   0    1    0  280]\n",
      " [   0    0    1  145]\n",
      " [   0    0    0    1]]\n",
      "[[   1    0    0 -685]\n",
      " [   0    1    0  281]\n",
      " [   0    0    1  145]\n",
      " [   0    0    0    1]]\n",
      "[[   1    0    0 -685]\n",
      " [   0    1    0  280]\n",
      " [   0    0    1  145]\n",
      " [   0    0    0    1]]\n",
      "[[   1    0    0 -685]\n",
      " [   0    1    0  281]\n",
      " [   0    0    1  145]\n",
      " [   0    0    0    1]]\n"
     ]
    },
    {
     "name": "stderr",
     "output_type": "stream",
     "text": [
      "  9%|███▋                                    | 184/2000 [00:08<01:30, 20.01it/s]"
     ]
    },
    {
     "name": "stdout",
     "output_type": "stream",
     "text": [
      "[[   1    0    0 -685]\n",
      " [   0    1    0  280]\n",
      " [   0    0    1  145]\n",
      " [   0    0    0    1]]\n",
      "[[   1    0    0 -685]\n",
      " [   0    1    0  281]\n",
      " [   0    0    1  145]\n",
      " [   0    0    0    1]]\n",
      "[[   1    0    0 -685]\n",
      " [   0    1    0  281]\n",
      " [   0    0    1  145]\n",
      " [   0    0    0    1]]\n",
      "[[   1    0    0 -685]\n",
      " [   0    1    0  281]\n",
      " [   0    0    1  145]\n",
      " [   0    0    0    1]]\n",
      "[[   1    0    0 -685]\n",
      " [   0    1    0  280]\n",
      " [   0    0    1  145]\n",
      " [   0    0    0    1]]\n"
     ]
    },
    {
     "name": "stderr",
     "output_type": "stream",
     "text": [
      "  9%|███▋                                    | 187/2000 [00:08<01:30, 20.06it/s]Exception ignored in: <generator object tqdm.__iter__ at 0x7f09da8b7e40>\n",
      "Traceback (most recent call last):\n",
      "  File \"/home/lihaowei/.local/lib/python3.8/site-packages/tqdm/std.py\", line 1181, in __iter__\n",
      "    yield obj\n",
      "KeyboardInterrupt: \n",
      "  9%|███▋                                    | 187/2000 [00:09<01:28, 20.54it/s]"
     ]
    },
    {
     "name": "stdout",
     "output_type": "stream",
     "text": [
      "[[   1    0    0 -685]\n",
      " [   0    1    0  280]\n",
      " [   0    0    1  145]\n",
      " [   0    0    0    1]]\n",
      "[[   1    0    0 -685]\n",
      " [   0    1    0  281]\n",
      " [   0    0    1  145]\n",
      " [   0    0    0    1]]\n",
      "[[   1    0    0 -685]\n",
      " [   0    1    0  280]\n",
      " [   0    0    1  145]\n",
      " [   0    0    0    1]]\n"
     ]
    },
    {
     "name": "stderr",
     "output_type": "stream",
     "text": [
      "\n"
     ]
    },
    {
     "ename": "OSError",
     "evalue": "Error 0x0105: Serial port read error",
     "output_type": "error",
     "traceback": [
      "\u001b[0;31m---------------------------------------------------------------------------\u001b[0m",
      "\u001b[0;31mOSError\u001b[0m                                   Traceback (most recent call last)",
      "\u001b[0;32m/tmp/ipykernel_297810/1157273124.py\u001b[0m in \u001b[0;36m<module>\u001b[0;34m\u001b[0m\n\u001b[1;32m      1\u001b[0m \u001b[0;32mfor\u001b[0m \u001b[0mi\u001b[0m \u001b[0;32min\u001b[0m \u001b[0mtqdm\u001b[0m\u001b[0;34m(\u001b[0m\u001b[0mrange\u001b[0m\u001b[0;34m(\u001b[0m\u001b[0;36m2000\u001b[0m\u001b[0;34m)\u001b[0m\u001b[0;34m)\u001b[0m\u001b[0;34m:\u001b[0m\u001b[0;34m\u001b[0m\u001b[0;34m\u001b[0m\u001b[0m\n\u001b[1;32m      2\u001b[0m     \u001b[0mbase2world\u001b[0m\u001b[0;34m,\u001b[0m\u001b[0mhololens2tracker\u001b[0m\u001b[0;34m=\u001b[0m\u001b[0mHDRegister\u001b[0m\u001b[0;34m.\u001b[0m\u001b[0mGetResult\u001b[0m\u001b[0;34m(\u001b[0m\u001b[0;34m)\u001b[0m\u001b[0;34m\u001b[0m\u001b[0;34m\u001b[0m\u001b[0m\n\u001b[0;32m----> 3\u001b[0;31m     \u001b[0mport_handles\u001b[0m\u001b[0;34m,\u001b[0m \u001b[0mtimestamps\u001b[0m\u001b[0;34m,\u001b[0m \u001b[0mframenumbers\u001b[0m\u001b[0;34m,\u001b[0m \u001b[0mtracking\u001b[0m\u001b[0;34m,\u001b[0m \u001b[0mquality\u001b[0m \u001b[0;34m=\u001b[0m \u001b[0mTRACKER\u001b[0m\u001b[0;34m.\u001b[0m\u001b[0mget_frame\u001b[0m\u001b[0;34m(\u001b[0m\u001b[0;34m)\u001b[0m\u001b[0;34m\u001b[0m\u001b[0;34m\u001b[0m\u001b[0m\n\u001b[0m\u001b[1;32m      4\u001b[0m     \u001b[0mrm\u001b[0m\u001b[0;34m=\u001b[0m\u001b[0mtracking\u001b[0m\u001b[0;34m[\u001b[0m\u001b[0;36m0\u001b[0m\u001b[0;34m]\u001b[0m\u001b[0;34m\u001b[0m\u001b[0;34m\u001b[0m\u001b[0m\n\u001b[1;32m      5\u001b[0m     \u001b[0;32mif\u001b[0m \u001b[0;32mnot\u001b[0m \u001b[0mmath\u001b[0m\u001b[0;34m.\u001b[0m\u001b[0misnan\u001b[0m\u001b[0;34m(\u001b[0m\u001b[0mrm\u001b[0m\u001b[0;34m[\u001b[0m\u001b[0;36m0\u001b[0m\u001b[0;34m]\u001b[0m\u001b[0;34m[\u001b[0m\u001b[0;36m0\u001b[0m\u001b[0;34m]\u001b[0m\u001b[0;34m)\u001b[0m\u001b[0;34m:\u001b[0m\u001b[0;34m\u001b[0m\u001b[0;34m\u001b[0m\u001b[0m\n",
      "\u001b[0;32m~/.local/lib/python3.8/site-packages/sksurgerynditracker/nditracker.py\u001b[0m in \u001b[0;36mget_frame\u001b[0;34m(self)\u001b[0m\n\u001b[1;32m    447\u001b[0m         \u001b[0mtimestamp\u001b[0m \u001b[0;34m=\u001b[0m \u001b[0mtime\u001b[0m\u001b[0;34m(\u001b[0m\u001b[0;34m)\u001b[0m\u001b[0;34m\u001b[0m\u001b[0;34m\u001b[0m\u001b[0m\n\u001b[1;32m    448\u001b[0m         \u001b[0;32mif\u001b[0m \u001b[0;32mnot\u001b[0m \u001b[0mself\u001b[0m\u001b[0;34m.\u001b[0m\u001b[0m_tracker_type\u001b[0m \u001b[0;34m==\u001b[0m \u001b[0;34m\"dummy\"\u001b[0m\u001b[0;34m:\u001b[0m\u001b[0;34m\u001b[0m\u001b[0;34m\u001b[0m\u001b[0m\n\u001b[0;32m--> 449\u001b[0;31m             \u001b[0mndicapy\u001b[0m\u001b[0;34m.\u001b[0m\u001b[0mndiCommand\u001b[0m\u001b[0;34m(\u001b[0m\u001b[0mself\u001b[0m\u001b[0;34m.\u001b[0m\u001b[0m_device\u001b[0m\u001b[0;34m,\u001b[0m \u001b[0mself\u001b[0m\u001b[0;34m.\u001b[0m\u001b[0m_capture_string\u001b[0m\u001b[0;34m)\u001b[0m\u001b[0;34m\u001b[0m\u001b[0;34m\u001b[0m\u001b[0m\n\u001b[0m\u001b[1;32m    450\u001b[0m             \u001b[0;32mfor\u001b[0m \u001b[0mdescriptor\u001b[0m \u001b[0;32min\u001b[0m \u001b[0mself\u001b[0m\u001b[0;34m.\u001b[0m\u001b[0m_tool_descriptors\u001b[0m\u001b[0;34m:\u001b[0m\u001b[0;34m\u001b[0m\u001b[0;34m\u001b[0m\u001b[0m\n\u001b[1;32m    451\u001b[0m                 \u001b[0mport_handles\u001b[0m\u001b[0;34m.\u001b[0m\u001b[0mappend\u001b[0m\u001b[0;34m(\u001b[0m\u001b[0mdescriptor\u001b[0m\u001b[0;34m.\u001b[0m\u001b[0mget\u001b[0m\u001b[0;34m(\u001b[0m\u001b[0;34m\"port handle\"\u001b[0m\u001b[0;34m)\u001b[0m\u001b[0;34m)\u001b[0m\u001b[0;34m\u001b[0m\u001b[0;34m\u001b[0m\u001b[0m\n",
      "\u001b[0;31mOSError\u001b[0m: Error 0x0105: Serial port read error"
     ]
    }
   ],
   "source": [
    "for i in tqdm(range(2000)):\n",
    "    base2world,hololens2tracker=HDRegister.GetResult()\n",
    "    port_handles, timestamps, framenumbers, tracking, quality = TRACKER.get_frame()\n",
    "    rm=tracking[0]\n",
    "    if not math.isnan(rm[0][0]):\n",
    "        res_shift=np.linalg.inv(base2world)@rm@DrillTip\n",
    "        TransformMatrix=np.diag([1,1,1,1])\n",
    "        TransformMatrix[0,3]=res_shift[0][0]\n",
    "        TransformMatrix[1,3]=res_shift[1][0]\n",
    "        TransformMatrix[2,3]=res_shift[2][0]\n",
    "        Hololens.SetPosition(1,TransformMatrix)\n",
    "        # print(TransformMatrix)\n",
    "    else:\n",
    "        # print(\"NaN Detected\")\n",
    "    time.sleep(1/40)\n",
    "    \n"
   ]
  }
 ],
 "metadata": {
  "kernelspec": {
   "display_name": "Python 3 (ipykernel)",
   "language": "python",
   "name": "python3"
  },
  "language_info": {
   "codemirror_mode": {
    "name": "ipython",
    "version": 3
   },
   "file_extension": ".py",
   "mimetype": "text/x-python",
   "name": "python",
   "nbconvert_exporter": "python",
   "pygments_lexer": "ipython3",
   "version": "3.8.10"
  },
  "toc-autonumbering": true,
  "toc-showcode": false,
  "toc-showmarkdowntxt": false
 },
 "nbformat": 4,
 "nbformat_minor": 5
}
